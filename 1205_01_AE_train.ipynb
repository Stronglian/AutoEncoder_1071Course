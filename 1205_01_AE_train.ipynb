{
 "cells": [
  {
   "cell_type": "markdown",
   "metadata": {},
   "source": [
    "參考資料：\n",
    "1. AE in keras: https://blog.keras.io/building-autoencoders-in-keras.html\n",
    "- Autoencoder 自编码:https://morvanzhou.github.io/tutorials/machine-learning/keras/2-6-autoencoder/\n",
    "- https://www.dataquest.io/blog/jupyter-notebook-tips-tricks-shortcuts/"
   ]
  },
  {
   "cell_type": "code",
   "execution_count": 1,
   "metadata": {},
   "outputs": [],
   "source": [
    "from matplotlib import pyplot as plt"
   ]
  },
  {
   "cell_type": "code",
   "execution_count": 2,
   "metadata": {},
   "outputs": [],
   "source": [
    "import numpy as np"
   ]
  },
  {
   "cell_type": "code",
   "execution_count": 3,
   "metadata": {},
   "outputs": [],
   "source": [
    "import time"
   ]
  },
  {
   "cell_type": "code",
   "execution_count": 4,
   "metadata": {},
   "outputs": [
    {
     "name": "stderr",
     "output_type": "stream",
     "text": [
      "E:\\Anaconda3\\envs\\TF-Ke\\lib\\site-packages\\h5py\\__init__.py:36: FutureWarning: Conversion of the second argument of issubdtype from `float` to `np.floating` is deprecated. In future, it will be treated as `np.float64 == np.dtype(float).type`.\n",
      "  from ._conv import register_converters as _register_converters\n",
      "Using TensorFlow backend.\n"
     ]
    }
   ],
   "source": [
    "import keras\n",
    "from keras.models import Sequential, Model\n",
    "from keras.layers import Dense, Dropout, Flatten, Input\n",
    "from keras import backend as K"
   ]
  },
  {
   "cell_type": "raw",
   "metadata": {},
   "source": [
    "def ShowImg(inputImg):\n",
    "    plt.imshow(inputImg, cmap='gray')\n",
    "    #plt.title('my picture')\n",
    "    plt.show()\n",
    "    plt.close()\n",
    "    return"
   ]
  },
  {
   "cell_type": "code",
   "execution_count": 5,
   "metadata": {},
   "outputs": [],
   "source": [
    "batch_size = 128\n",
    "# num_classes = 10\n",
    "epochs = 50\n",
    "\n",
    "# input image dimensions\n",
    "img_rows, img_cols = 28, 28\n",
    "\n",
    "model_name = \"model_2_e\"+str(epochs)+\"_b\"+str(batch_size)+\".h5\""
   ]
  },
  {
   "cell_type": "code",
   "execution_count": 6,
   "metadata": {},
   "outputs": [],
   "source": [
    "dataSetName = \"mnist-pria-awgn_snr=10.npz\"\n",
    "f = np.load(dataSetName)\n",
    "x_train, y_train = f['x_train'], f['y_train']\n",
    "x_test, y_test = f['x_test'], f['y_test']"
   ]
  },
  {
   "cell_type": "code",
   "execution_count": 7,
   "metadata": {},
   "outputs": [],
   "source": [
    "x_train = x_train.reshape(60000, 784)\n",
    "x_test = x_test.reshape(10000, 784)\n",
    "x_train = x_train.astype('float32') /255 -0.5\n",
    "x_test = x_test.astype('float32') /255 -0.5\n",
    "x_train *= 2\n",
    "x_test *= 2"
   ]
  },
  {
   "cell_type": "code",
   "execution_count": 8,
   "metadata": {},
   "outputs": [
    {
     "name": "stdout",
     "output_type": "stream",
     "text": [
      "60000 train samples in (60000, 784)\n",
      "10000 test samples (10000, 784)\n"
     ]
    }
   ],
   "source": [
    "print(x_train.shape[0], 'train samples', \"in\", x_train.shape)\n",
    "print(x_test.shape[0], 'test samples', x_test.shape)"
   ]
  },
  {
   "cell_type": "raw",
   "metadata": {},
   "source": [
    "np.max(x_train[0])\n",
    "np.min(x_train[0])\n",
    "x_train[0].dtype"
   ]
  },
  {
   "cell_type": "raw",
   "metadata": {},
   "source": [
    "# convert class vectors to binary class matrices\n",
    "y_train = keras.utils.to_categorical(y_train, num_classes) #轉換成 向量\n",
    "y_test = keras.utils.to_categorical(y_test, num_classes)"
   ]
  },
  {
   "cell_type": "raw",
   "metadata": {},
   "source": [
    "## 法 1\n",
    "autoencoder = Sequential()\n",
    "autoencoder.add(Dense(1500, activation='relu', input_shape=(784,)))\n",
    "autoencoder.add(Dense(375, activation='relu')) \n",
    "autoencoder.add(Dense(50)) \n",
    "\n",
    "autoencoder.add(Dense(375, activation='relu')) \n",
    "autoencoder.add(Dense(1500, activation='relu')) \n",
    "autoencoder.add(Dense(784, activation='tanh')) "
   ]
  },
  {
   "cell_type": "code",
   "execution_count": 9,
   "metadata": {},
   "outputs": [
    {
     "name": "stderr",
     "output_type": "stream",
     "text": [
      "E:\\Anaconda3\\envs\\TF-Ke\\lib\\site-packages\\ipykernel_launcher.py:13: UserWarning: Update your `Model` call to the Keras 2 API: `Model(inputs=Tensor(\"in..., outputs=Tensor(\"de...)`\n",
      "  del sys.path[0]\n"
     ]
    }
   ],
   "source": [
    "## 法 2\n",
    "input_img = Input(shape=(784,))\n",
    "# encoder layers\n",
    "encoded = Dense(1500, activation='relu')(input_img)\n",
    "encoded = Dense(375, activation='relu')(encoded)\n",
    "encoder_output = Dense(50)(encoded)\n",
    "# decoder layers\n",
    "decoded = Dense(375, activation='relu')(encoder_output)\n",
    "decoded = Dense(1500, activation='relu')(decoded)\n",
    "decoded = Dense(784, activation='tanh')(decoded)\n",
    "\n",
    "# construct the autoencoder model\n",
    "autoencoder = Model(input=input_img, output=decoded)"
   ]
  },
  {
   "cell_type": "code",
   "execution_count": 10,
   "metadata": {},
   "outputs": [
    {
     "name": "stdout",
     "output_type": "stream",
     "text": [
      "_________________________________________________________________\n",
      "Layer (type)                 Output Shape              Param #   \n",
      "=================================================================\n",
      "input_1 (InputLayer)         (None, 784)               0         \n",
      "_________________________________________________________________\n",
      "dense_1 (Dense)              (None, 1500)              1177500   \n",
      "_________________________________________________________________\n",
      "dense_2 (Dense)              (None, 375)               562875    \n",
      "_________________________________________________________________\n",
      "dense_3 (Dense)              (None, 50)                18800     \n",
      "_________________________________________________________________\n",
      "dense_4 (Dense)              (None, 375)               19125     \n",
      "_________________________________________________________________\n",
      "dense_5 (Dense)              (None, 1500)              564000    \n",
      "_________________________________________________________________\n",
      "dense_6 (Dense)              (None, 784)               1176784   \n",
      "=================================================================\n",
      "Total params: 3,519,084\n",
      "Trainable params: 3,519,084\n",
      "Non-trainable params: 0\n",
      "_________________________________________________________________\n"
     ]
    }
   ],
   "source": [
    "autoencoder.summary()"
   ]
  },
  {
   "cell_type": "code",
   "execution_count": 11,
   "metadata": {},
   "outputs": [],
   "source": [
    "# model.compile(loss='MSE',\n",
    "#               optimizer=adam(),\n",
    "#               metrics=['accuracy'])\n",
    "autoencoder.compile(optimizer='adam', loss='mse')"
   ]
  },
  {
   "cell_type": "code",
   "execution_count": 12,
   "metadata": {},
   "outputs": [
    {
     "name": "stdout",
     "output_type": "stream",
     "text": [
      "Epoch 1/50\n",
      "60000/60000 [==============================] - 8s 126us/step - loss: 0.0870\n",
      "Epoch 2/50\n",
      "60000/60000 [==============================] - 6s 97us/step - loss: 0.0464\n",
      "Epoch 3/50\n",
      "60000/60000 [==============================] - 6s 97us/step - loss: 0.0405\n",
      "Epoch 4/50\n",
      "60000/60000 [==============================] - 6s 97us/step - loss: 0.0375: 0s\n",
      "Epoch 5/50\n",
      "60000/60000 [==============================] - 6s 97us/step - loss: 0.0357\n",
      "Epoch 6/50\n",
      "60000/60000 [==============================] - 6s 97us/step - loss: 0.0343\n",
      "Epoch 7/50\n",
      "60000/60000 [==============================] - 6s 97us/step - loss: 0.0332\n",
      "Epoch 8/50\n",
      "60000/60000 [==============================] - 6s 97us/step - loss: 0.0324\n",
      "Epoch 9/50\n",
      "60000/60000 [==============================] - 6s 97us/step - loss: 0.0318\n",
      "Epoch 10/50\n",
      "60000/60000 [==============================] - 6s 97us/step - loss: 0.0312:\n",
      "Epoch 11/50\n",
      "60000/60000 [==============================] - 6s 98us/step - loss: 0.0308\n",
      "Epoch 12/50\n",
      "60000/60000 [==============================] - 6s 97us/step - loss: 0.0304\n",
      "Epoch 13/50\n",
      "60000/60000 [==============================] - 6s 97us/step - loss: 0.0302\n",
      "Epoch 14/50\n",
      "60000/60000 [==============================] - 6s 96us/step - loss: 0.0298\n",
      "Epoch 15/50\n",
      "60000/60000 [==============================] - 6s 97us/step - loss: 0.0295\n",
      "Epoch 16/50\n",
      "60000/60000 [==============================] - 6s 97us/step - loss: 0.0293\n",
      "Epoch 17/50\n",
      "60000/60000 [==============================] - 6s 97us/step - loss: 0.0290\n",
      "Epoch 18/50\n",
      "60000/60000 [==============================] - 6s 97us/step - loss: 0.0289\n",
      "Epoch 19/50\n",
      "60000/60000 [==============================] - 6s 97us/step - loss: 0.0287: 0s \n",
      "Epoch 20/50\n",
      "60000/60000 [==============================] - 6s 97us/step - loss: 0.0285\n",
      "Epoch 21/50\n",
      "60000/60000 [==============================] - 6s 97us/step - loss: 0.0284\n",
      "Epoch 22/50\n",
      "60000/60000 [==============================] - 6s 97us/step - loss: 0.0281\n",
      "Epoch 23/50\n",
      "60000/60000 [==============================] - 6s 97us/step - loss: 0.0281\n",
      "Epoch 24/50\n",
      "60000/60000 [==============================] - 6s 97us/step - loss: 0.0280\n",
      "Epoch 25/50\n",
      "60000/60000 [==============================] - 6s 98us/step - loss: 0.0278\n",
      "Epoch 26/50\n",
      "60000/60000 [==============================] - 6s 97us/step - loss: 0.0276\n",
      "Epoch 27/50\n",
      "60000/60000 [==============================] - 6s 97us/step - loss: 0.0276\n",
      "Epoch 28/50\n",
      "60000/60000 [==============================] - 6s 97us/step - loss: 0.0274\n",
      "Epoch 29/50\n",
      "60000/60000 [==============================] - 6s 97us/step - loss: 0.0273\n",
      "Epoch 30/50\n",
      "60000/60000 [==============================] - 6s 97us/step - loss: 0.0273\n",
      "Epoch 31/50\n",
      "60000/60000 [==============================] - 6s 97us/step - loss: 0.0272\n",
      "Epoch 32/50\n",
      "60000/60000 [==============================] - 6s 97us/step - loss: 0.0271\n",
      "Epoch 33/50\n",
      "60000/60000 [==============================] - 6s 97us/step - loss: 0.0270\n",
      "Epoch 34/50\n",
      "60000/60000 [==============================] - 6s 97us/step - loss: 0.0270\n",
      "Epoch 35/50\n",
      "60000/60000 [==============================] - 6s 97us/step - loss: 0.0269\n",
      "Epoch 36/50\n",
      "60000/60000 [==============================] - 6s 97us/step - loss: 0.0268\n",
      "Epoch 37/50\n",
      "60000/60000 [==============================] - 6s 97us/step - loss: 0.0267\n",
      "Epoch 38/50\n",
      "60000/60000 [==============================] - 6s 97us/step - loss: 0.0267\n",
      "Epoch 39/50\n",
      "60000/60000 [==============================] - 6s 97us/step - loss: 0.0266\n",
      "Epoch 40/50\n",
      "60000/60000 [==============================] - 6s 97us/step - loss: 0.0266\n",
      "Epoch 41/50\n",
      "60000/60000 [==============================] - 6s 97us/step - loss: 0.0265\n",
      "Epoch 42/50\n",
      "60000/60000 [==============================] - 6s 97us/step - loss: 0.0265\n",
      "Epoch 43/50\n",
      "60000/60000 [==============================] - 6s 97us/step - loss: 0.0264\n",
      "Epoch 44/50\n",
      "60000/60000 [==============================] - 6s 97us/step - loss: 0.0263\n",
      "Epoch 45/50\n",
      "60000/60000 [==============================] - 6s 97us/step - loss: 0.0263\n",
      "Epoch 46/50\n",
      "60000/60000 [==============================] - 6s 97us/step - loss: 0.0262\n",
      "Epoch 47/50\n",
      "60000/60000 [==============================] - 6s 97us/step - loss: 0.0262\n",
      "Epoch 48/50\n",
      "60000/60000 [==============================] - 6s 97us/step - loss: 0.0261\n",
      "Epoch 49/50\n",
      "60000/60000 [==============================] - 6s 97us/step - loss: 0.0261\n",
      "Epoch 50/50\n",
      "60000/60000 [==============================] - 6s 97us/step - loss: 0.0260\n"
     ]
    }
   ],
   "source": [
    "history = autoencoder.fit(x_train, x_train, # 適應、訓練，\n",
    "                    batch_size=batch_size, #\n",
    "                    epochs=epochs)"
   ]
  },
  {
   "cell_type": "code",
   "execution_count": 13,
   "metadata": {},
   "outputs": [],
   "source": [
    "model_name = model_name.rsplit(\".\", 1)[0] + \"_\" + \"-\".join([str(i) for i in time.localtime()[0:5]]) +\".h5\"\n",
    "autoencoder.save(model_name)"
   ]
  },
  {
   "cell_type": "raw",
   "metadata": {},
   "source": [
    "del autoencoder"
   ]
  },
  {
   "cell_type": "code",
   "execution_count": 14,
   "metadata": {},
   "outputs": [],
   "source": [
    "decodeImg = autoencoder.predict(x_test)"
   ]
  },
  {
   "cell_type": "code",
   "execution_count": 15,
   "metadata": {},
   "outputs": [],
   "source": [
    "# decodeImg = ((decodeImg /2)+0.5) * 255\n",
    "decodeImg = ((decodeImg /2)+0.5) * 255"
   ]
  },
  {
   "cell_type": "code",
   "execution_count": 16,
   "metadata": {},
   "outputs": [],
   "source": [
    "decodeImg = np.reshape(decodeImg, (decodeImg.shape[0], 28, 28))"
   ]
  },
  {
   "cell_type": "code",
   "execution_count": 17,
   "metadata": {},
   "outputs": [],
   "source": [
    "img0 = decodeImg[0]\n",
    "for i in range(1, 20):\n",
    "    img1 = decodeImg[i]\n",
    "    img0 = np.hstack((img0, img1))"
   ]
  },
  {
   "cell_type": "code",
   "execution_count": 18,
   "metadata": {},
   "outputs": [
    {
     "data": {
      "image/png": "[encoded data removed]",
      "text/plain": [
       "<Figure size 432x288 with 1 Axes>"
      ]
     },
     "metadata": {},
     "output_type": "display_data"
    }
   ],
   "source": [
    "plt.imshow(img0, cmap = \"gray\")\n",
    "plt.savefig(\"TRAIN_\" + model_name.split(\".\")[0] + \".png\")\n",
    "plt.show()"
   ]
  }
 ],
 "metadata": {
  "kernelspec": {
   "display_name": "Python 3",
   "language": "python",
   "name": "python3"
  },
  "language_info": {
   "codemirror_mode": {
    "name": "ipython",
    "version": 3
   },
   "file_extension": ".py",
   "mimetype": "text/x-python",
   "name": "python",
   "nbconvert_exporter": "python",
   "pygments_lexer": "ipython3",
   "version": "3.6.4"
  }
 },
 "nbformat": 4,
 "nbformat_minor": 2
}
