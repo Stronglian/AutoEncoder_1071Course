{
 "cells": [
  {
   "cell_type": "markdown",
   "metadata": {},
   "source": [
    "參考資料：\n",
    "1. AE in keras: https://blog.keras.io/building-autoencoders-in-keras.html\n",
    "- Autoencoder 自编码:https://morvanzhou.github.io/tutorials/machine-learning/keras/2-6-autoencoder/\n",
    "- https://www.dataquest.io/blog/jupyter-notebook-tips-tricks-shortcuts/\n",
    "- http://scikit-image.org/docs/dev/api/skimage.measure.html#skimage.measure.compare_psnr\n",
    "- http://scikit-image.org/docs/dev/api/skimage.measure.html#skimage.measure.compare_ssim"
   ]
  },
  {
   "cell_type": "code",
   "execution_count": 1,
   "metadata": {},
   "outputs": [],
   "source": [
    "import time #時間計算"
   ]
  },
  {
   "cell_type": "code",
   "execution_count": 2,
   "metadata": {},
   "outputs": [],
   "source": [
    "_startTime = time.time()"
   ]
  },
  {
   "cell_type": "code",
   "execution_count": 3,
   "metadata": {},
   "outputs": [],
   "source": [
    "import numpy as np\n",
    "from matplotlib import pyplot as plt\n",
    "from cv2 import imwrite # 圖片輸出用"
   ]
  },
  {
   "cell_type": "code",
   "execution_count": 4,
   "metadata": {},
   "outputs": [
    {
     "name": "stderr",
     "output_type": "stream",
     "text": [
      "E:\\Anaconda3\\envs\\TF-Ke\\lib\\site-packages\\h5py\\__init__.py:36: FutureWarning: Conversion of the second argument of issubdtype from `float` to `np.floating` is deprecated. In future, it will be treated as `np.float64 == np.dtype(float).type`.\n",
      "  from ._conv import register_converters as _register_converters\n",
      "Using TensorFlow backend.\n"
     ]
    }
   ],
   "source": [
    "# import keras\n",
    "from keras.models import Sequential, Model\n",
    "from keras.layers import Dense, Dropout, Flatten, Input\n",
    "# from keras import backend as K"
   ]
  },
  {
   "cell_type": "code",
   "execution_count": 5,
   "metadata": {},
   "outputs": [],
   "source": [
    "from keras.models import load_model"
   ]
  },
  {
   "cell_type": "code",
   "execution_count": 6,
   "metadata": {},
   "outputs": [],
   "source": [
    "# 結果運算用\n",
    "from skimage.measure import compare_psnr, compare_ssim "
   ]
  },
  {
   "cell_type": "markdown",
   "metadata": {},
   "source": [
    "##### 函數 - 測試用"
   ]
  },
  {
   "cell_type": "code",
   "execution_count": 7,
   "metadata": {},
   "outputs": [],
   "source": [
    "def CheckType(intVar):\n",
    "    print(\"max:\",   intVar.max())\n",
    "    print(\"min:\",   intVar.min())\n",
    "    print(\"shape:\", intVar.shape)\n",
    "    print(\"type:\",  intVar.dtype)\n",
    "    return"
   ]
  },
  {
   "cell_type": "markdown",
   "metadata": {},
   "source": [
    "##### 函數 - 輸出用"
   ]
  },
  {
   "cell_type": "code",
   "execution_count": 8,
   "metadata": {},
   "outputs": [],
   "source": [
    "def ResultImgShow(inputImg, modelName, strImgLabel = \"TMP\"):\n",
    "    # 輸出參數設置\n",
    "    img_amount = inputImg.shape[0]\n",
    "    cols_output = 50\n",
    "    rows_output = img_amount // cols_output\n",
    "    if rows_output < 3:\n",
    "        cols_output = 10\n",
    "        rows_output = img_amount // cols_output\n",
    "        if rows_output < 3:\n",
    "            cols_output = 5\n",
    "            rows_output = img_amount // cols_output\n",
    "    if rows_output > cols_output:\n",
    "        rows_output = cols_output\n",
    "    # 輸出設置\n",
    "    img_h = inputImg[0]\n",
    "    for i in range(1, cols_output):\n",
    "        img_tmp = inputImg[i]\n",
    "        img_h = np.hstack((img_h, img_tmp))\n",
    "    img_v = img_h.copy()\n",
    "    for j in range(1, rows_output):\n",
    "        img_h = inputImg[j * cols_output]\n",
    "        for i in range(1, cols_output):\n",
    "            img_tmp = inputImg[j * cols_output + i]\n",
    "            img_h = np.hstack((img_h, img_tmp))\n",
    "        img_v = np.vstack((img_v, img_h))\n",
    "        \n",
    "        \n",
    "    # 顯示 與 存取\n",
    "    imwrite(modelName.split(\".\")[0] +\"_\"+ strImgLabel+ \".png\", img_v)\n",
    "    plt.imshow(img_v, cmap = \"gray\")\n",
    "#     plt.savefig(model_name.split(\".\")[0] +\"_\"+ strImgLabel+ \".png\")\n",
    "    plt.show()\n",
    "    plt.close()\n",
    "    return"
   ]
  },
  {
   "cell_type": "code",
   "execution_count": 9,
   "metadata": {},
   "outputs": [],
   "source": [
    "def PSNR_ALL(testData, truthData, strImgLabel = \"TMP\", boolTest = False):\n",
    "    psnrSum_test = 0\n",
    "    for i in range(testData.shape[0]):\n",
    "        groundTruth   = truthData[i, :,:]\n",
    "        predictResult = testData[i, :,:]\n",
    "        psnrTmp = float(compare_psnr(groundTruth, predictResult))\n",
    "        psnrSum_test += psnrTmp\n",
    "    psnrSum_test /= testData.shape[0]\n",
    "#     print(\"TEST\" if boolTest else \"TRAIN\" ,\"PSNR:\", psnrSum_test)\n",
    "    print(strImgLabel, \"PSNR:\", psnrSum_test)\n",
    "    return psnrSum_test"
   ]
  },
  {
   "cell_type": "code",
   "execution_count": 10,
   "metadata": {},
   "outputs": [],
   "source": [
    "def SSIM_ALL(testData, truthData, strImgLabel = \"TMP\", boolTest = False):\n",
    "    ssimSum_test = 0\n",
    "    for i in range(testData.shape[0]):\n",
    "        groundTruth   = truthData[i, :,:]\n",
    "        predictResult = testData[i, :,:]\n",
    "        ssimTmp = float(compare_ssim(groundTruth, predictResult))\n",
    "        ssimSum_test += ssimTmp\n",
    "    ssimSum_test /= testData.shape[0]\n",
    "    print(strImgLabel, \"SSIM:\", ssimSum_test)\n",
    "    return ssimSum_test"
   ]
  },
  {
   "cell_type": "code",
   "execution_count": 11,
   "metadata": {},
   "outputs": [],
   "source": [
    "def DataPreProcess(inputData, img_rows = 28, img_cols = 28):\n",
    "    outputData = inputData.reshape(inputData.shape[0], img_rows * img_cols)\n",
    "    outputData = outputData.astype('float32') /255 -0.5\n",
    "#     outputData *= 2\n",
    "    return outputData"
   ]
  },
  {
   "cell_type": "code",
   "execution_count": 12,
   "metadata": {},
   "outputs": [],
   "source": [
    "def DataRecovery(inputData, img_rows = 28, img_cols = 28):\n",
    "    outputData = ((inputData /2)+0.5) * 255\n",
    "    outputData = outputData.reshape((outputData.shape[0], img_rows, img_cols))\n",
    "    outputData = outputData.astype('uint8')\n",
    "    return outputData"
   ]
  },
  {
   "cell_type": "markdown",
   "metadata": {},
   "source": [
    "# 主程式"
   ]
  },
  {
   "cell_type": "markdown",
   "metadata": {},
   "source": [
    "#### 參數設置"
   ]
  },
  {
   "cell_type": "code",
   "execution_count": 13,
   "metadata": {},
   "outputs": [],
   "source": [
    "outputFolder = \"output_1212/\""
   ]
  },
  {
   "cell_type": "code",
   "execution_count": 14,
   "metadata": {},
   "outputs": [],
   "source": [
    "batch_size = 128\n",
    "# num_classes = 10\n",
    "epochs = 500\n",
    "# input image dimensions\n",
    "img_rows, img_cols = 28, 28"
   ]
  },
  {
   "cell_type": "code",
   "execution_count": 15,
   "metadata": {},
   "outputs": [],
   "source": [
    "# model_name_complex = \"model_complex\"+\"e\"+str(epochs)+\"_b\"+str(batch_size)+\".h5\"\n",
    "model_name_simple  = \"model_simple\" +\"e\"+str(epochs)+\"_b\"+str(batch_size)+\".h5\""
   ]
  },
  {
   "cell_type": "markdown",
   "metadata": {},
   "source": [
    "##### 讀取資料\n",
    "- 利用完整沒雜訊的資料進行訓練 。\n",
    "- 只取用圖像，不取標籤。"
   ]
  },
  {
   "cell_type": "code",
   "execution_count": 16,
   "metadata": {},
   "outputs": [],
   "source": [
    "dataSetName = \"mnist.npz\"\n",
    "f = np.load(dataSetName)\n",
    "x_train_org, x_test_org = f['x_train'], f['x_test']\n",
    "del f"
   ]
  },
  {
   "cell_type": "code",
   "execution_count": 17,
   "metadata": {},
   "outputs": [
    {
     "name": "stdout",
     "output_type": "stream",
     "text": [
      "60000 train samples in (60000, 784)\n"
     ]
    }
   ],
   "source": [
    "x_train_org = DataPreProcess(x_train_org)\n",
    "print(x_train_org.shape[0], 'train samples', \"in\", x_train_org.shape)\n",
    "# x_test = DataPreProcess(x_test)\n",
    "# print(x_test.shape[0], 'tset samples', \"in\", x_test.shape)"
   ]
  },
  {
   "cell_type": "markdown",
   "metadata": {},
   "source": [
    "### 模組架設 - 簡單版"
   ]
  },
  {
   "cell_type": "code",
   "execution_count": 18,
   "metadata": {},
   "outputs": [
    {
     "name": "stderr",
     "output_type": "stream",
     "text": [
      "E:\\Anaconda3\\envs\\TF-Ke\\lib\\site-packages\\ipykernel_launcher.py:8: UserWarning: Update your `Model` call to the Keras 2 API: `Model(inputs=Tensor(\"in..., outputs=Tensor(\"de...)`\n",
      "  \n"
     ]
    }
   ],
   "source": [
    "## 法 2 - 比較有效率\n",
    "input_img = Input(shape=(784,))\n",
    "# encoder layers\n",
    "encoder_output = Dense(50)(input_img)\n",
    "# decoder layers\n",
    "decoded = Dense(784, activation='tanh')(encoder_output)\n",
    "# construct the autoencoder model\n",
    "autoencoder_simple = Model(input=input_img, output=decoded)"
   ]
  },
  {
   "cell_type": "markdown",
   "metadata": {},
   "source": [
    "#### 模組 - 簡介"
   ]
  },
  {
   "cell_type": "code",
   "execution_count": 19,
   "metadata": {},
   "outputs": [
    {
     "name": "stdout",
     "output_type": "stream",
     "text": [
      "_________________________________________________________________\n",
      "Layer (type)                 Output Shape              Param #   \n",
      "=================================================================\n",
      "input_1 (InputLayer)         (None, 784)               0         \n",
      "_________________________________________________________________\n",
      "dense_1 (Dense)              (None, 50)                39250     \n",
      "_________________________________________________________________\n",
      "dense_2 (Dense)              (None, 784)               39984     \n",
      "=================================================================\n",
      "Total params: 79,234\n",
      "Trainable params: 79,234\n",
      "Non-trainable params: 0\n",
      "_________________________________________________________________\n"
     ]
    }
   ],
   "source": [
    "autoencoder_simple.summary()"
   ]
  },
  {
   "cell_type": "markdown",
   "metadata": {},
   "source": [
    "#### 模組 - 架設"
   ]
  },
  {
   "cell_type": "code",
   "execution_count": 20,
   "metadata": {},
   "outputs": [],
   "source": [
    "autoencoder_simple.compile(optimizer='adam', loss='mse')"
   ]
  },
  {
   "cell_type": "markdown",
   "metadata": {},
   "source": [
    "#### 模組 - 訓練\n",
    "用完整圖片訓練，完整圖片比對"
   ]
  },
  {
   "cell_type": "code",
   "execution_count": null,
   "metadata": {},
   "outputs": [
    {
     "name": "stdout",
     "output_type": "stream",
     "text": [
      "Epoch 1/500\n",
      "60000/60000 [==============================] - 3s 55us/step - loss: 0.0356\n",
      "Epoch 2/500\n",
      "60000/60000 [==============================] - 2s 31us/step - loss: 0.0140\n",
      "Epoch 3/500\n",
      "60000/60000 [==============================] - 2s 31us/step - loss: 0.0115\n",
      "Epoch 4/500\n",
      "60000/60000 [==============================] - 2s 30us/step - loss: 0.0109\n",
      "Epoch 5/500\n",
      "60000/60000 [==============================] - 2s 31us/step - loss: 0.0108\n",
      "Epoch 6/500\n",
      "60000/60000 [==============================] - 2s 31us/step - loss: 0.0107\n",
      "Epoch 7/500\n",
      "60000/60000 [==============================] - 2s 30us/step - loss: 0.0107\n",
      "Epoch 8/500\n",
      "60000/60000 [==============================] - 2s 31us/step - loss: 0.0107\n",
      "Epoch 9/500\n",
      "60000/60000 [==============================] - 2s 31us/step - loss: 0.0107\n",
      "Epoch 10/500\n",
      "60000/60000 [==============================] - 2s 31us/step - loss: 0.0107\n",
      "Epoch 11/500\n",
      "60000/60000 [==============================] - 2s 30us/step - loss: 0.0107\n",
      "Epoch 12/500\n",
      "60000/60000 [==============================] - 2s 31us/step - loss: 0.0107\n",
      "Epoch 13/500\n",
      "60000/60000 [==============================] - 2s 31us/step - loss: 0.0106\n",
      "Epoch 14/500\n",
      "60000/60000 [==============================] - 2s 31us/step - loss: 0.0106\n",
      "Epoch 15/500\n",
      "60000/60000 [==============================] - 2s 30us/step - loss: 0.0106\n",
      "Epoch 16/500\n",
      "60000/60000 [==============================] - 2s 31us/step - loss: 0.0106\n",
      "Epoch 17/500\n",
      "60000/60000 [==============================] - 2s 31us/step - loss: 0.0106\n",
      "Epoch 18/500\n",
      "60000/60000 [==============================] - 2s 31us/step - loss: 0.0106\n",
      "Epoch 19/500\n",
      "60000/60000 [==============================] - 2s 31us/step - loss: 0.0106\n",
      "Epoch 20/500\n",
      "60000/60000 [==============================] - 2s 31us/step - loss: 0.0106\n",
      "Epoch 21/500\n",
      "60000/60000 [==============================] - 2s 31us/step - loss: 0.0105\n",
      "Epoch 22/500\n",
      "60000/60000 [==============================] - 2s 30us/step - loss: 0.0105\n",
      "Epoch 23/500\n",
      "60000/60000 [==============================] - 2s 31us/step - loss: 0.0105\n",
      "Epoch 24/500\n",
      "60000/60000 [==============================] - 2s 31us/step - loss: 0.0105\n",
      "Epoch 25/500\n",
      "60000/60000 [==============================] - 2s 31us/step - loss: 0.0105\n",
      "Epoch 26/500\n",
      "60000/60000 [==============================] - 2s 31us/step - loss: 0.0105\n",
      "Epoch 27/500\n",
      "60000/60000 [==============================] - 2s 30us/step - loss: 0.0105\n",
      "Epoch 28/500\n",
      "60000/60000 [==============================] - 2s 31us/step - loss: 0.0105\n",
      "Epoch 29/500\n",
      "60000/60000 [==============================] - 2s 31us/step - loss: 0.0105\n",
      "Epoch 30/500\n",
      "60000/60000 [==============================] - 2s 31us/step - loss: 0.0105\n",
      "Epoch 31/500\n",
      "60000/60000 [==============================] - 2s 31us/step - loss: 0.0105\n",
      "Epoch 32/500\n",
      "60000/60000 [==============================] - 2s 31us/step - loss: 0.0105\n",
      "Epoch 33/500\n",
      "60000/60000 [==============================] - 2s 31us/step - loss: 0.0105\n",
      "Epoch 34/500\n",
      "60000/60000 [==============================] - 2s 31us/step - loss: 0.0105\n",
      "Epoch 35/500\n",
      "60000/60000 [==============================] - 2s 31us/step - loss: 0.0105\n",
      "Epoch 36/500\n",
      "60000/60000 [==============================] - 2s 31us/step - loss: 0.0105\n",
      "Epoch 37/500\n",
      "60000/60000 [==============================] - 2s 30us/step - loss: 0.0104\n",
      "Epoch 38/500\n",
      "60000/60000 [==============================] - 2s 31us/step - loss: 0.0104\n",
      "Epoch 39/500\n",
      "60000/60000 [==============================] - 2s 30us/step - loss: 0.0104\n",
      "Epoch 40/500\n",
      "60000/60000 [==============================] - 2s 30us/step - loss: 0.0104\n",
      "Epoch 41/500\n",
      "60000/60000 [==============================] - 2s 31us/step - loss: 0.0104\n",
      "Epoch 42/500\n",
      "60000/60000 [==============================] - 2s 31us/step - loss: 0.0104\n",
      "Epoch 43/500\n",
      "60000/60000 [==============================] - 2s 31us/step - loss: 0.0104\n",
      "Epoch 44/500\n",
      "60000/60000 [==============================] - 2s 31us/step - loss: 0.0104\n",
      "Epoch 45/500\n",
      "60000/60000 [==============================] - 2s 31us/step - loss: 0.0104\n",
      "Epoch 46/500\n",
      "60000/60000 [==============================] - 2s 30us/step - loss: 0.0104\n",
      "Epoch 47/500\n",
      "60000/60000 [==============================] - 2s 31us/step - loss: 0.0104\n",
      "Epoch 48/500\n",
      "60000/60000 [==============================] - 2s 31us/step - loss: 0.0104\n",
      "Epoch 49/500\n",
      "60000/60000 [==============================] - 2s 31us/step - loss: 0.0104\n",
      "Epoch 50/500\n",
      "60000/60000 [==============================] - 2s 31us/step - loss: 0.0104\n",
      "Epoch 51/500\n",
      "60000/60000 [==============================] - 2s 31us/step - loss: 0.0104\n",
      "Epoch 52/500\n",
      "60000/60000 [==============================] - 2s 31us/step - loss: 0.0104\n",
      "Epoch 53/500\n",
      "60000/60000 [==============================] - 2s 30us/step - loss: 0.0104\n",
      "Epoch 54/500\n",
      "60000/60000 [==============================] - 2s 31us/step - loss: 0.0104\n",
      "Epoch 55/500\n",
      "60000/60000 [==============================] - 2s 31us/step - loss: 0.0104\n",
      "Epoch 56/500\n",
      "60000/60000 [==============================] - 2s 31us/step - loss: 0.0104\n",
      "Epoch 57/500\n",
      "60000/60000 [==============================] - 2s 31us/step - loss: 0.0104\n",
      "Epoch 58/500\n",
      "60000/60000 [==============================] - 2s 31us/step - loss: 0.0104\n",
      "Epoch 59/500\n",
      "60000/60000 [==============================] - 2s 30us/step - loss: 0.0104\n",
      "Epoch 60/500\n",
      "60000/60000 [==============================] - 4s 62us/step - loss: 0.0104\n",
      "Epoch 61/500\n",
      "60000/60000 [==============================] - 7s 114us/step - loss: 0.0104\n",
      "Epoch 62/500\n",
      "60000/60000 [==============================] - 6s 96us/step - loss: 0.0104: 1\n",
      "Epoch 63/500\n",
      "60000/60000 [==============================] - 2s 28us/step - loss: 0.0104\n",
      "Epoch 64/500\n",
      "60000/60000 [==============================] - 2s 29us/step - loss: 0.0104\n",
      "Epoch 65/500\n",
      "60000/60000 [==============================] - 2s 29us/step - loss: 0.0104\n",
      "Epoch 66/500\n",
      "60000/60000 [==============================] - 2s 29us/step - loss: 0.0104\n",
      "Epoch 67/500\n",
      "60000/60000 [==============================] - 6s 103us/step - loss: 0.0104\n",
      "Epoch 68/500\n",
      "60000/60000 [==============================] - 6s 105us/step - loss: 0.0104\n",
      "Epoch 69/500\n",
      "60000/60000 [==============================] - 4s 64us/step - loss: 0.0104\n",
      "Epoch 70/500\n",
      "60000/60000 [==============================] - 2s 29us/step - loss: 0.0104\n",
      "Epoch 71/500\n",
      "60000/60000 [==============================] - 2s 29us/step - loss: 0.0104\n",
      "Epoch 72/500\n",
      "60000/60000 [==============================] - 2s 30us/step - loss: 0.0104\n",
      "Epoch 73/500\n",
      "60000/60000 [==============================] - 4s 63us/step - loss: 0.0104\n",
      "Epoch 74/500\n",
      "60000/60000 [==============================] - 7s 113us/step - loss: 0.0104\n",
      "Epoch 75/500\n",
      "60000/60000 [==============================] - 6s 98us/step - loss: 0.0104: 1s \n",
      "Epoch 76/500\n",
      "60000/60000 [==============================] - 2s 29us/step - loss: 0.0104\n",
      "Epoch 77/500\n",
      "60000/60000 [==============================] - 2s 28us/step - loss: 0.0104\n",
      "Epoch 78/500\n",
      "60000/60000 [==============================] - 2s 29us/step - loss: 0.0104\n",
      "Epoch 79/500\n",
      "60000/60000 [==============================] - 2s 28us/step - loss: 0.0104\n",
      "Epoch 80/500\n",
      "60000/60000 [==============================] - 6s 105us/step - loss: 0.0104\n",
      "Epoch 81/500\n",
      "60000/60000 [==============================] - 6s 105us/step - loss: 0.0104\n",
      "Epoch 82/500\n",
      "60000/60000 [==============================] - 4s 63us/step - loss: 0.0104\n",
      "Epoch 83/500\n",
      "60000/60000 [==============================] - 2s 29us/step - loss: 0.0104\n",
      "Epoch 84/500\n",
      "60000/60000 [==============================] - 2s 29us/step - loss: 0.0104\n",
      "Epoch 85/500\n",
      "60000/60000 [==============================] - 2s 29us/step - loss: 0.0104\n",
      "Epoch 86/500\n",
      "60000/60000 [==============================] - 4s 58us/step - loss: 0.0104\n",
      "Epoch 87/500\n",
      "60000/60000 [==============================] - 6s 105us/step - loss: 0.0104\n",
      "Epoch 88/500\n",
      "60000/60000 [==============================] - 6s 100us/step - loss: 0.0104\n",
      "Epoch 89/500\n",
      "60000/60000 [==============================] - 2s 29us/step - loss: 0.0104\n",
      "Epoch 90/500\n",
      "60000/60000 [==============================] - 2s 29us/step - loss: 0.0104\n",
      "Epoch 91/500\n",
      "60000/60000 [==============================] - 2s 29us/step - loss: 0.0104\n",
      "Epoch 92/500\n",
      "60000/60000 [==============================] - 3s 50us/step - loss: 0.0104\n",
      "Epoch 93/500\n",
      "60000/60000 [==============================] - 6s 103us/step - loss: 0.0104\n",
      "Epoch 94/500\n"
     ]
    },
    {
     "name": "stdout",
     "output_type": "stream",
     "text": [
      "60000/60000 [==============================] - 4s 71us/step - loss: 0.0104\n",
      "Epoch 95/500\n",
      "60000/60000 [==============================] - 2s 29us/step - loss: 0.0104\n",
      "Epoch 96/500\n",
      "60000/60000 [==============================] - 2s 29us/step - loss: 0.0104\n",
      "Epoch 97/500\n",
      "60000/60000 [==============================] - 4s 71us/step - loss: 0.0104\n",
      "Epoch 98/500\n",
      "60000/60000 [==============================] - 7s 109us/step - loss: 0.0104\n",
      "Epoch 99/500\n",
      "60000/60000 [==============================] - 2s 37us/step - loss: 0.0104\n",
      "Epoch 100/500\n",
      "60000/60000 [==============================] - 2s 28us/step - loss: 0.0104\n",
      "Epoch 101/500\n",
      "60000/60000 [==============================] - 3s 45us/step - loss: 0.0104\n",
      "Epoch 102/500\n",
      "60000/60000 [==============================] - 6s 98us/step - loss: 0.0104\n",
      "Epoch 103/500\n",
      "60000/60000 [==============================] - 3s 57us/step - loss: 0.0104\n",
      "Epoch 104/500\n",
      "60000/60000 [==============================] - 2s 29us/step - loss: 0.0104\n",
      "Epoch 105/500\n",
      "60000/60000 [==============================] - 2s 38us/step - loss: 0.0104\n",
      "Epoch 106/500\n",
      "60000/60000 [==============================] - 6s 104us/step - loss: 0.0104\n",
      "Epoch 107/500\n",
      "60000/60000 [==============================] - 4s 65us/step - loss: 0.0104\n",
      "Epoch 108/500\n",
      "60000/60000 [==============================] - 2s 28us/step - loss: 0.0104\n",
      "Epoch 109/500\n",
      "60000/60000 [==============================] - 2s 28us/step - loss: 0.0104\n",
      "Epoch 110/500\n",
      "60000/60000 [==============================] - 6s 94us/step - loss: 0.0104\n",
      "Epoch 111/500\n",
      "60000/60000 [==============================] - 4s 66us/step - loss: 0.0104\n",
      "Epoch 112/500\n",
      "60000/60000 [==============================] - 2s 29us/step - loss: 0.0104\n",
      "Epoch 113/500\n",
      "60000/60000 [==============================] - 3s 43us/step - loss: 0.0104\n",
      "Epoch 114/500\n",
      "60000/60000 [==============================] - 6s 94us/step - loss: 0.0104\n",
      "Epoch 115/500\n",
      "60000/60000 [==============================] - 3s 50us/step - loss: 0.0104\n",
      "Epoch 116/500\n",
      "60000/60000 [==============================] - 2s 28us/step - loss: 0.0104\n",
      "Epoch 117/500\n",
      "60000/60000 [==============================] - 3s 51us/step - loss: 0.0104\n",
      "Epoch 118/500\n",
      "60000/60000 [==============================] - 6s 105us/step - loss: 0.0104\n",
      "Epoch 119/500\n",
      "60000/60000 [==============================] - 2s 31us/step - loss: 0.0104\n",
      "Epoch 120/500\n",
      "60000/60000 [==============================] - 2s 29us/step - loss: 0.0104\n",
      "Epoch 121/500\n",
      "60000/60000 [==============================] - 5s 84us/step - loss: 0.0104\n",
      "Epoch 122/500\n",
      "60000/60000 [==============================] - 4s 70us/step - loss: 0.0104\n",
      "Epoch 123/500\n",
      "60000/60000 [==============================] - ETA: 0s - loss: 0.010 - 2s 29us/step - loss: 0.0104\n",
      "Epoch 124/500\n",
      "60000/60000 [==============================] - 3s 52us/step - loss: 0.0104\n",
      "Epoch 125/500\n",
      "60000/60000 [==============================] - 6s 97us/step - loss: 0.0104\n",
      "Epoch 126/500\n",
      "60000/60000 [==============================] - 2s 32us/step - loss: 0.0104\n",
      "Epoch 127/500\n",
      "60000/60000 [==============================] - 2s 28us/step - loss: 0.0104\n",
      "Epoch 128/500\n",
      "60000/60000 [==============================] - 6s 100us/step - loss: 0.0104\n",
      "Epoch 129/500\n",
      "60000/60000 [==============================] - 3s 49us/step - loss: 0.0104\n",
      "Epoch 130/500\n",
      "60000/60000 [==============================] - 2s 28us/step - loss: 0.0104\n",
      "Epoch 131/500\n",
      "60000/60000 [==============================] - 5s 77us/step - loss: 0.0104\n",
      "Epoch 132/500\n",
      "60000/60000 [==============================] - 4s 70us/step - loss: 0.0104\n",
      "Epoch 133/500\n",
      "60000/60000 [==============================] - 2s 29us/step - loss: 0.0104\n",
      "Epoch 134/500\n",
      "60000/60000 [==============================] - 3s 56us/step - loss: 0.0104\n",
      "Epoch 135/500\n",
      "60000/60000 [==============================] - 6s 95us/step - loss: 0.0104\n",
      "Epoch 136/500\n",
      "60000/60000 [==============================] - 2s 31us/step - loss: 0.0104\n",
      "Epoch 137/500\n",
      "60000/60000 [==============================] - 2s 29us/step - loss: 0.0104\n",
      "Epoch 138/500\n",
      "60000/60000 [==============================] - 6s 96us/step - loss: 0.0104\n",
      "Epoch 139/500\n",
      "60000/60000 [==============================] - 3s 56us/step - loss: 0.0104\n",
      "Epoch 140/500\n",
      "60000/60000 [==============================] - 2s 29us/step - loss: 0.0104\n",
      "Epoch 141/500\n",
      "60000/60000 [==============================] - 4s 68us/step - loss: 0.0104\n",
      "Epoch 142/500\n",
      "60000/60000 [==============================] - 5s 85us/step - loss: 0.0104\n",
      "Epoch 143/500\n",
      "60000/60000 [==============================] - 2s 29us/step - loss: 0.0104\n",
      "Epoch 144/500\n",
      "60000/60000 [==============================] - 3s 46us/step - loss: 0.0104\n",
      "Epoch 145/500\n",
      "60000/60000 [==============================] - 6s 96us/step - loss: 0.0104\n",
      "Epoch 146/500\n",
      "60000/60000 [==============================] - 2s 37us/step - loss: 0.0104\n",
      "Epoch 147/500\n",
      "60000/60000 [==============================] - 2s 29us/step - loss: 0.0104\n",
      "Epoch 148/500\n",
      "60000/60000 [==============================] - 5s 85us/step - loss: 0.0104\n",
      "Epoch 149/500\n",
      "60000/60000 [==============================] - 4s 62us/step - loss: 0.0104\n",
      "Epoch 150/500\n",
      "60000/60000 [==============================] - 2s 29us/step - loss: 0.0104\n",
      "Epoch 151/500\n",
      "60000/60000 [==============================] - 4s 63us/step - loss: 0.0104\n",
      "Epoch 152/500\n",
      "60000/60000 [==============================] - 5s 84us/step - loss: 0.0104\n",
      "Epoch 153/500\n",
      "60000/60000 [==============================] - 2s 28us/step - loss: 0.0104\n",
      "Epoch 154/500\n",
      "60000/60000 [==============================] - 2s 28us/step - loss: 0.0104\n",
      "Epoch 155/500\n",
      "60000/60000 [==============================] - 6s 100us/step - loss: 0.0104\n",
      "Epoch 156/500\n",
      "60000/60000 [==============================] - 3s 55us/step - loss: 0.0104\n",
      "Epoch 157/500\n",
      "60000/60000 [==============================] - 2s 29us/step - loss: 0.0104\n",
      "Epoch 158/500\n",
      "60000/60000 [==============================] - 4s 73us/step - loss: 0.0104\n",
      "Epoch 159/500\n",
      "60000/60000 [==============================] - 5s 82us/step - loss: 0.0104\n",
      "Epoch 160/500\n",
      "60000/60000 [==============================] - 2s 29us/step - loss: 0.0104\n",
      "Epoch 161/500\n",
      "60000/60000 [==============================] - 2s 38us/step - loss: 0.0104\n",
      "Epoch 162/500\n",
      "60000/60000 [==============================] - 6s 104us/step - loss: 0.0104\n",
      "Epoch 163/500\n",
      "60000/60000 [==============================] - 2s 37us/step - loss: 0.0104\n",
      "Epoch 164/500\n",
      "60000/60000 [==============================] - 2s 30us/step - loss: 0.0104\n",
      "Epoch 165/500\n",
      "60000/60000 [==============================] - 5s 81us/step - loss: 0.0104\n",
      "Epoch 166/500\n",
      "60000/60000 [==============================] - 4s 66us/step - loss: 0.0104\n",
      "Epoch 167/500\n",
      "60000/60000 [==============================] - 2s 29us/step - loss: 0.0104\n",
      "Epoch 168/500\n",
      "60000/60000 [==============================] - 4s 66us/step - loss: 0.0104\n",
      "Epoch 169/500\n",
      "60000/60000 [==============================] - 5s 82us/step - loss: 0.0104\n",
      "Epoch 170/500\n",
      "60000/60000 [==============================] - 2s 28us/step - loss: 0.0104\n",
      "Epoch 171/500\n",
      "60000/60000 [==============================] - 2s 37us/step - loss: 0.0104\n",
      "Epoch 172/500\n",
      "60000/60000 [==============================] - 5s 91us/step - loss: 0.0104\n",
      "Epoch 173/500\n",
      "60000/60000 [==============================] - 3s 54us/step - loss: 0.0104\n",
      "Epoch 174/500\n",
      "60000/60000 [==============================] - 2s 30us/step - loss: 0.0104\n",
      "Epoch 175/500\n",
      "60000/60000 [==============================] - 4s 63us/step - loss: 0.0104\n",
      "Epoch 176/500\n",
      "60000/60000 [==============================] - 5s 86us/step - loss: 0.0104\n",
      "Epoch 177/500\n",
      "60000/60000 [==============================] - 2s 29us/step - loss: 0.0104\n",
      "Epoch 178/500\n",
      "60000/60000 [==============================] - 2s 28us/step - loss: 0.0104\n",
      "Epoch 179/500\n",
      "60000/60000 [==============================] - 6s 95us/step - loss: 0.0104\n",
      "Epoch 180/500\n",
      "60000/60000 [==============================] - 3s 57us/step - loss: 0.0104\n",
      "Epoch 181/500\n",
      "60000/60000 [==============================] - 2s 29us/step - loss: 0.0104\n",
      "Epoch 182/500\n",
      "60000/60000 [==============================] - 5s 84us/step - loss: 0.0104\n",
      "Epoch 183/500\n",
      "60000/60000 [==============================] - 4s 64us/step - loss: 0.0104\n",
      "Epoch 184/500\n",
      "60000/60000 [==============================] - 2s 29us/step - loss: 0.0104\n",
      "Epoch 185/500\n"
     ]
    },
    {
     "name": "stdout",
     "output_type": "stream",
     "text": [
      "60000/60000 [==============================] - 4s 63us/step - loss: 0.0104\n",
      "Epoch 186/500\n",
      "60000/60000 [==============================] - 5s 89us/step - loss: 0.0104\n",
      "Epoch 187/500\n",
      "60000/60000 [==============================] - 2s 30us/step - loss: 0.0104\n",
      "Epoch 188/500\n",
      "60000/60000 [==============================] - 3s 56us/step - loss: 0.0104\n",
      "Epoch 189/500\n",
      "60000/60000 [==============================] - 5s 90us/step - loss: 0.0104\n",
      "Epoch 190/500\n",
      "60000/60000 [==============================] - 2s 29us/step - loss: 0.0104\n",
      "Epoch 191/500\n",
      "60000/60000 [==============================] - 2s 40us/step - loss: 0.0104\n",
      "Epoch 192/500\n",
      "60000/60000 [==============================] - 6s 95us/step - loss: 0.0104\n",
      "Epoch 193/500\n",
      "60000/60000 [==============================] - 3s 43us/step - loss: 0.0104\n",
      "Epoch 194/500\n",
      "60000/60000 [==============================] - 2s 28us/step - loss: 0.0104\n",
      "Epoch 195/500\n",
      "60000/60000 [==============================] - 5s 82us/step - loss: 0.0104\n",
      "Epoch 196/500\n",
      "60000/60000 [==============================] - 4s 69us/step - loss: 0.0104\n",
      "Epoch 197/500\n",
      "60000/60000 [==============================] - 2s 29us/step - loss: 0.0104\n",
      "Epoch 198/500\n",
      "60000/60000 [==============================] - 4s 65us/step - loss: 0.0104\n",
      "Epoch 199/500\n",
      "60000/60000 [==============================] - 5s 77us/step - loss: 0.0104\n",
      "Epoch 200/500\n",
      "60000/60000 [==============================] - 2s 29us/step - loss: 0.0104\n",
      "Epoch 201/500\n",
      "60000/60000 [==============================] - 3s 58us/step - loss: 0.0104: 0s - los\n",
      "Epoch 202/500\n",
      "60000/60000 [==============================] - 5s 86us/step - loss: 0.0104\n",
      "Epoch 203/500\n",
      "60000/60000 [==============================] - 2s 29us/step - loss: 0.0104\n",
      "Epoch 204/500\n",
      "60000/60000 [==============================] - 2s 41us/step - loss: 0.0104\n",
      "Epoch 205/500\n",
      "60000/60000 [==============================] - 5s 90us/step - loss: 0.0104\n",
      "Epoch 206/500\n",
      "60000/60000 [==============================] - 3s 45us/step - loss: 0.0104\n",
      "Epoch 207/500\n",
      "60000/60000 [==============================] - 2s 29us/step - loss: 0.0104\n",
      "Epoch 208/500\n",
      "60000/60000 [==============================] - 5s 80us/step - loss: 0.0104\n",
      "Epoch 209/500\n",
      "60000/60000 [==============================] - 4s 68us/step - loss: 0.0104\n",
      "Epoch 210/500\n",
      "60000/60000 [==============================] - 2s 29us/step - loss: 0.0104\n",
      "Epoch 211/500\n",
      "60000/60000 [==============================] - 5s 78us/step - loss: 0.0104\n",
      "Epoch 212/500\n",
      "60000/60000 [==============================] - 5s 83us/step - loss: 0.0104\n",
      "Epoch 213/500\n",
      "60000/60000 [==============================] - 2s 29us/step - loss: 0.0104\n",
      "Epoch 214/500\n",
      " 7424/60000 [==>...........................] - ETA: 1s - loss: 0.0104"
     ]
    }
   ],
   "source": [
    "history_simple = autoencoder_simple.fit(x_train_org, x_train_org, # 訓練資料、結果比對資料\n",
    "                    batch_size=batch_size, #\n",
    "                    epochs=epochs)"
   ]
  },
  {
   "cell_type": "markdown",
   "metadata": {},
   "source": [
    "#### 模組 - 儲存"
   ]
  },
  {
   "cell_type": "code",
   "execution_count": null,
   "metadata": {},
   "outputs": [],
   "source": [
    "model_name_simple = outputFolder + \"model_simple\"+\"e\"+str(epochs)+\"_b\"+str(batch_size) + \\\n",
    "                    \".h5\"\n",
    "#                     \"_\" + \"-\".join([str(i) for i in time.localtime()[0:5]]) +\\"
   ]
  },
  {
   "cell_type": "code",
   "execution_count": null,
   "metadata": {},
   "outputs": [],
   "source": [
    "autoencoder_simple.save(model_name_simple)"
   ]
  },
  {
   "cell_type": "code",
   "execution_count": null,
   "metadata": {},
   "outputs": [],
   "source": [
    "# del autoencoder_simple"
   ]
  },
  {
   "cell_type": "markdown",
   "metadata": {},
   "source": [
    "#### 模組 - 使用與輸出"
   ]
  },
  {
   "cell_type": "code",
   "execution_count": null,
   "metadata": {},
   "outputs": [],
   "source": [
    "# autoencoder_simple = load_model(model_name_simple)"
   ]
  },
  {
   "cell_type": "markdown",
   "metadata": {},
   "source": [
    "###### 測試資料讀取"
   ]
  },
  {
   "cell_type": "code",
   "execution_count": null,
   "metadata": {},
   "outputs": [],
   "source": [
    "dataSetName = \"mnist-pria-awgn_snr=10.npz\"\n",
    "f = np.load(dataSetName)\n",
    "x_train_noise, x_test_noise = f['x_train'], f['x_test']\n",
    "del f"
   ]
  },
  {
   "cell_type": "code",
   "execution_count": null,
   "metadata": {},
   "outputs": [],
   "source": [
    "x_test_noise = DataPreProcess(x_test_noise)"
   ]
  },
  {
   "cell_type": "code",
   "execution_count": null,
   "metadata": {},
   "outputs": [],
   "source": [
    "decodeImg_test_simple = autoencoder_simple.predict(x_test_noise)"
   ]
  },
  {
   "cell_type": "code",
   "execution_count": null,
   "metadata": {},
   "outputs": [],
   "source": [
    "decodeImg_test_simple = DataRecovery(decodeImg_test_simple)"
   ]
  },
  {
   "cell_type": "code",
   "execution_count": null,
   "metadata": {},
   "outputs": [],
   "source": [
    "ResultImgShow(decodeImg_test_simple, model_name_simple, strImgLabel = \"AFTER\")"
   ]
  },
  {
   "cell_type": "code",
   "execution_count": null,
   "metadata": {},
   "outputs": [],
   "source": [
    "x_test_noise = DataRecovery(x_test_noise)\n",
    "x_train_org  = DataRecovery(x_train_org)"
   ]
  },
  {
   "cell_type": "code",
   "execution_count": null,
   "metadata": {},
   "outputs": [],
   "source": [
    "ResultImgShow(x_test_noise, model_name_simple, strImgLabel = \"BEFORE\")\n",
    "ResultImgShow(x_train_org,  model_name_simple, strImgLabel = \"ORIGIN\")"
   ]
  },
  {
   "cell_type": "markdown",
   "metadata": {},
   "source": [
    "### 計算結果"
   ]
  },
  {
   "cell_type": "code",
   "execution_count": null,
   "metadata": {},
   "outputs": [],
   "source": [
    "PSNR_ALL(decodeImg_test_simple, x_train_org, strImgLabel = \"TEST\");\n",
    "SSIM_ALL(decodeImg_test_simple, x_train_org, strImgLabel = \"TEST\");"
   ]
  },
  {
   "cell_type": "markdown",
   "metadata": {},
   "source": [
    "###### 運行時間"
   ]
  },
  {
   "cell_type": "code",
   "execution_count": null,
   "metadata": {},
   "outputs": [],
   "source": [
    "_endTime = time.time()\n",
    "print(\"It cost\", _endTime - _startTime, \"sec.\")"
   ]
  }
 ],
 "metadata": {
  "kernelspec": {
   "display_name": "Python 3",
   "language": "python",
   "name": "python3"
  },
  "language_info": {
   "codemirror_mode": {
    "name": "ipython",
    "version": 3
   },
   "file_extension": ".py",
   "mimetype": "text/x-python",
   "name": "python",
   "nbconvert_exporter": "python",
   "pygments_lexer": "ipython3",
   "version": "3.6.5"
  }
 },
 "nbformat": 4,
 "nbformat_minor": 2
}
