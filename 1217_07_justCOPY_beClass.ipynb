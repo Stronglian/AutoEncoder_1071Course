{
 "cells": [
  {
   "cell_type": "markdown",
   "metadata": {},
   "source": [
    "參考資料：\n",
    "1. AE in keras: https://blog.keras.io/building-autoencoders-in-keras.html\n",
    "- Autoencoder 自编码:https://morvanzhou.github.io/tutorials/machine-learning/keras/2-6-autoencoder/\n",
    "- PSNR、SSIM:\n",
    " - http://scikit-image.org/docs/dev/api/skimage.measure.html#skimage.measure.compare_psnr\n",
    " - http://scikit-image.org/docs/dev/api/skimage.measure.html#skimage.measure.compare_ssim\n",
    "- 28 Jupyter Notebook tips, tricks, and shortcuts:\n",
    " - https://www.dataquest.io/blog/jupyter-notebook-tips-tricks-shortcuts/"
   ]
  },
  {
   "cell_type": "code",
   "execution_count": 126,
   "metadata": {},
   "outputs": [],
   "source": [
    "# 時間計算\n",
    "import time \n",
    "# 數值運算\n",
    "import numpy as np\n",
    "# 圖片輸出用\n",
    "from matplotlib import pyplot as plt\n",
    "from cv2 import imwrite \n",
    "# 結果運算用\n",
    "from skimage.measure import compare_psnr, compare_ssim "
   ]
  },
  {
   "cell_type": "code",
   "execution_count": 127,
   "metadata": {},
   "outputs": [],
   "source": [
    "from keras.models import Sequential, Model\n",
    "from keras.layers import Dense, Dropout, Flatten, Input\n",
    "# from keras.models import load_model"
   ]
  },
  {
   "cell_type": "code",
   "execution_count": 128,
   "metadata": {},
   "outputs": [],
   "source": [
    "_startTime = time.time()"
   ]
  },
  {
   "cell_type": "markdown",
   "metadata": {},
   "source": [
    "##### 函數 - 測試用"
   ]
  },
  {
   "cell_type": "code",
   "execution_count": 129,
   "metadata": {},
   "outputs": [],
   "source": [
    "def CheckType(intVar):\n",
    "    print(\"max:\",   intVar.max())\n",
    "    print(\"min:\",   intVar.min())\n",
    "    print(\"shape:\", intVar.shape)\n",
    "    print(\"type:\",  intVar.dtype)\n",
    "    return"
   ]
  },
  {
   "cell_type": "markdown",
   "metadata": {},
   "source": [
    "##### 函數 - 輸出用"
   ]
  },
  {
   "cell_type": "code",
   "execution_count": 130,
   "metadata": {},
   "outputs": [],
   "source": [
    "def ResultImgShow(inputImg, modelName, strImgLabel = \"TMP\"):\n",
    "    # 輸出參數設置\n",
    "    img_amount = inputImg.shape[0]\n",
    "    cols_output = 50\n",
    "    rows_output = img_amount // cols_output\n",
    "#     # 改變大小用，但這裡有確切大小所以不必處理\n",
    "#     if rows_output < 3:\n",
    "#         cols_output = 10\n",
    "#         rows_output = img_amount // cols_output\n",
    "#         if rows_output < 3:\n",
    "#             cols_output = 5\n",
    "#             rows_output = img_amount // cols_output\n",
    "    if rows_output > cols_output:\n",
    "        rows_output = cols_output\n",
    "    # 輸出設置 - 水平堆疊再垂直堆疊\n",
    "    ## v - 初始\n",
    "    img_h = inputImg[0]\n",
    "    for i in range(1, cols_output):\n",
    "        img_tmp = inputImg[i]\n",
    "        img_h = np.hstack((img_h, img_tmp))\n",
    "    img_v = img_h.copy()\n",
    "    ## v - Loop\n",
    "    for j in range(1, rows_output):\n",
    "        ## h - 初始\n",
    "        img_h = inputImg[j * cols_output]\n",
    "        ## h - Loop\n",
    "        for i in range(1, cols_output):\n",
    "            img_tmp = inputImg[j * cols_output + i]\n",
    "            img_h = np.hstack((img_h, img_tmp))\n",
    "        img_v = np.vstack((img_v, img_h))\n",
    "    # 顯示 與 存取\n",
    "    imwrite(modelName.split(\".\")[0] +\"_\"+ strImgLabel+ \".png\", img_v)\n",
    "    plt.imshow(img_v, cmap = \"gray\")\n",
    "#     plt.savefig(model_name.split(\".\")[0] +\"_\"+ strImgLabel+ \".png\")\n",
    "    plt.show()\n",
    "    plt.close()\n",
    "    return"
   ]
  },
  {
   "cell_type": "markdown",
   "metadata": {},
   "source": [
    "###### 函數 - 計算誤差"
   ]
  },
  {
   "cell_type": "code",
   "execution_count": 131,
   "metadata": {},
   "outputs": [],
   "source": [
    "def PSNR_ALL(testData, truthData, strImgLabel = \"TMP\", boolTest = False):\n",
    "    \"\"\" \"\"\"\n",
    "#     dataAmount = 1 if testData.shape < 3 else testData.shape[0]\n",
    "#     if testData.shape < 3:\n",
    "#         dataAmount = 1\n",
    "#     else:\n",
    "    dataAmount = testData.shape[0]\n",
    "    psnrSum_test = 0\n",
    "    for i in range(dataAmount):\n",
    "        groundTruth   = truthData[i, :,:]\n",
    "        predictResult = testData[i, :,:]\n",
    "        psnrTmp = float(compare_psnr(groundTruth, predictResult))\n",
    "        psnrSum_test += psnrTmp\n",
    "    psnrSum_test /= dataAmount\n",
    "    print(strImgLabel, \"PSNR:\", psnrSum_test)\n",
    "    return psnrSum_test"
   ]
  },
  {
   "cell_type": "code",
   "execution_count": 132,
   "metadata": {},
   "outputs": [],
   "source": [
    "def SSIM_ALL(testData, truthData, strImgLabel = \"TMP\", boolTest = False):\n",
    "    dataAmount = testData.shape[0]\n",
    "    ssimSum_test = 0\n",
    "    for i in range(dataAmount):\n",
    "        groundTruth   = truthData[i, :,:]\n",
    "        predictResult = testData[i, :,:]\n",
    "        ssimTmp = float(compare_ssim(groundTruth, predictResult))\n",
    "        ssimSum_test += ssimTmp\n",
    "    ssimSum_test /= dataAmount\n",
    "    print(strImgLabel, \"SSIM:\", ssimSum_test)\n",
    "    return ssimSum_test"
   ]
  },
  {
   "cell_type": "markdown",
   "metadata": {},
   "source": [
    "###### 函數 - 預處理與後處理"
   ]
  },
  {
   "cell_type": "code",
   "execution_count": 133,
   "metadata": {},
   "outputs": [],
   "source": [
    "def DataPreProcess(inputData, img_rows = 28, img_cols = 28):\n",
    "    outputData = inputData.reshape(inputData.shape[0], img_rows * img_cols)\n",
    "    outputData = outputData.astype('float32') /255 -0.5\n",
    "    outputData *= 2\n",
    "    return outputData"
   ]
  },
  {
   "cell_type": "code",
   "execution_count": 134,
   "metadata": {},
   "outputs": [],
   "source": [
    "def DataRecovery(inputData, img_rows = 28, img_cols = 28):\n",
    "    outputData = ((inputData /2)+0.5) * 255\n",
    "    outputData = outputData.reshape((outputData.shape[0], img_rows, img_cols))\n",
    "    outputData = outputData.astype('uint8')\n",
    "    return outputData"
   ]
  },
  {
   "cell_type": "markdown",
   "metadata": {},
   "source": [
    "# 主程式"
   ]
  },
  {
   "cell_type": "code",
   "execution_count": 135,
   "metadata": {},
   "outputs": [],
   "source": [
    "class AE:\n",
    "    def __init__(self, img_rows = 28, img_cols = 28, channels = 1):\n",
    "        self.img_rows = img_rows\n",
    "        self.img_cols = img_cols\n",
    "        self.channels = channels\n",
    "        self.shape = (self.img_rows, self.img_cols, self.channels)\n",
    "                \n",
    "        self.E = self.__encoder_complex()\n",
    "#         self.G.compile(loss='binary_crossentropy', optimizer=self.optimizer)\n",
    "        self.D = self.__dencoder_complex()\n",
    "#         self.D.compile(loss='binary_crossentropy', optimizer=self.optimizer, metrics=['accuracy'])\n",
    "        \n",
    "        self.stacked_AE = self.__stacked_E_D()\n",
    "        self.stacked_AE.compile(optimizer='adam', loss='mse')\n",
    "        return\n",
    "    \n",
    "    def __encoder_complex(self):\n",
    "        model = Sequential()\n",
    "        model.add(Dense(1500, activation='relu', input_shape=(784,)))\n",
    "        model.add(Dense(375, activation='relu')) \n",
    "        model.add(Dense(50)) \n",
    "#         model.summary()\n",
    "        return model \n",
    "    \n",
    "    def __dencoder_complex(self):\n",
    "        model = Sequential()\n",
    "        model.add(Dense(375, activation='relu')) \n",
    "        model.add(Dense(1500, activation='relu')) \n",
    "        model.add(Dense(784, activation='tanh')) \n",
    "#         model.summary()\n",
    "        return model \n",
    "    \n",
    "    def __stacked_E_D(self):\n",
    "#         self.D.trainable = False\n",
    "        \n",
    "        model = Sequential()\n",
    "        model.add(self.E)\n",
    "        model.add(self.D)\n",
    "        \n",
    "        return model # model\n",
    "    \n",
    "    def Train(self, x_train_org, batch_size = 128, epochs = 500):\n",
    "        history_complex = self.stacked_AE.fit(x_train_org, x_train_org, # 訓練資料、結果比對資料\n",
    "                    batch_size=batch_size, \n",
    "                    epochs=epochs)\n",
    "        return self.stacked_AE\n",
    "    "
   ]
  },
  {
   "cell_type": "code",
   "execution_count": null,
   "metadata": {},
   "outputs": [],
   "source": []
  },
  {
   "cell_type": "markdown",
   "metadata": {},
   "source": [
    "#### 參數設置"
   ]
  },
  {
   "cell_type": "code",
   "execution_count": 136,
   "metadata": {},
   "outputs": [],
   "source": [
    "outputFolder = \"output121223_symmetry/\" # 不再偵測存在與否"
   ]
  },
  {
   "cell_type": "code",
   "execution_count": 148,
   "metadata": {},
   "outputs": [],
   "source": [
    "batch_size = 128 #大概 3.8 GB\n",
    "# num_classes = 10\n",
    "epochs = 500\n",
    "# input image dimensions\n",
    "img_rows, img_cols = 28, 28"
   ]
  },
  {
   "cell_type": "markdown",
   "metadata": {},
   "source": [
    "##### 讀取訓練資料\n",
    "- 利用完整沒雜訊的資料進行訓練 。\n",
    "- 只取用圖像，不取標籤。"
   ]
  },
  {
   "cell_type": "code",
   "execution_count": 137,
   "metadata": {},
   "outputs": [],
   "source": [
    "datasetFolder = \"./\""
   ]
  },
  {
   "cell_type": "code",
   "execution_count": 138,
   "metadata": {},
   "outputs": [],
   "source": [
    "dataSetName_org = \"mnist.npz\"\n",
    "f = np.load(datasetFolder + dataSetName_org)\n",
    "x_train_org, x_test_org = f['x_train'], f['x_test']\n",
    "del f"
   ]
  },
  {
   "cell_type": "code",
   "execution_count": 139,
   "metadata": {},
   "outputs": [
    {
     "data": {
      "image/png": "[encoded data removed]",
      "text/plain": [
       "<Figure size 432x288 with 1 Axes>"
      ]
     },
     "metadata": {},
     "output_type": "display_data"
    }
   ],
   "source": [
    "ResultImgShow(x_test_org, outputFolder + \"CLEAR-IN\", strImgLabel = \"ORIGIN\")"
   ]
  },
  {
   "cell_type": "code",
   "execution_count": 140,
   "metadata": {},
   "outputs": [
    {
     "name": "stdout",
     "output_type": "stream",
     "text": [
      "60000 train samples in (60000, 784)\n"
     ]
    }
   ],
   "source": [
    "x_train_org = DataPreProcess(x_train_org)\n",
    "print(x_train_org.shape[0], 'train samples', \"in\", x_train_org.shape)"
   ]
  },
  {
   "cell_type": "code",
   "execution_count": 141,
   "metadata": {},
   "outputs": [
    {
     "data": {
      "image/png": "[encoded data removed]",
      "text/plain": [
       "<Figure size 432x288 with 1 Axes>"
      ]
     },
     "metadata": {},
     "output_type": "display_data"
    }
   ],
   "source": [
    "# 先將處理過的原資料，輸出\n",
    "_x_train_org = DataRecovery(x_train_org)\n",
    "ResultImgShow(_x_train_org, outputFolder + \"PROCESSED\", strImgLabel = \"ORIGIN\")\n",
    "del _x_train_org"
   ]
  },
  {
   "cell_type": "markdown",
   "metadata": {},
   "source": [
    "###### 讀取測試資料\n",
    "- 由完整的資料集訓練，得到完整特性"
   ]
  },
  {
   "cell_type": "code",
   "execution_count": 142,
   "metadata": {},
   "outputs": [],
   "source": [
    "dataSetName_noise = \"mnist-pria-awgn_snr=10.npz\"\n",
    "f = np.load(datasetFolder + dataSetName_noise)\n",
    "x_train_noise, x_test_noise = f['x_train'], f['x_test']\n",
    "del f"
   ]
  },
  {
   "cell_type": "code",
   "execution_count": 143,
   "metadata": {},
   "outputs": [
    {
     "data": {
      "image/png": "[encoded data removed]",
      "text/plain": [
       "<Figure size 432x288 with 1 Axes>"
      ]
     },
     "metadata": {},
     "output_type": "display_data"
    }
   ],
   "source": [
    "ResultImgShow(x_test_noise, outputFolder + \"CLEAR-IN\", strImgLabel = \"BEFORE\")"
   ]
  },
  {
   "cell_type": "code",
   "execution_count": 144,
   "metadata": {},
   "outputs": [],
   "source": [
    "# 預處理\n",
    "x_test_noise = DataPreProcess(x_test_noise)"
   ]
  },
  {
   "cell_type": "markdown",
   "metadata": {},
   "source": [
    "## 模組架設 - 複雜版"
   ]
  },
  {
   "cell_type": "raw",
   "metadata": {},
   "source": [
    "# ## 法 1\n",
    "# autoencoder = Sequential()\n",
    "# autoencoder.add(Dense(1500, activation='relu', input_shape=(784,)))\n",
    "# autoencoder.add(Dense(375, activation='relu')) \n",
    "# autoencoder.add(Dense(50)) \n",
    "\n",
    "# autoencoder.add(Dense(375, activation='relu')) \n",
    "# autoencoder.add(Dense(1500, activation='relu')) \n",
    "# autoencoder.add(Dense(784, activation='tanh')) "
   ]
  },
  {
   "cell_type": "raw",
   "metadata": {},
   "source": [
    "## 法 2 - 比較有效率(?)\n",
    "input_img = Input(shape=(784,))\n",
    "# encoder layers\n",
    "encoded = Dense(1500, activation='relu')(input_img)\n",
    "encoded = Dense(375, activation='relu')(encoded)\n",
    "encoder_output = Dense(50)(encoded)\n",
    "# decoder layers\n",
    "decoded = Dense(375, activation='relu')(encoder_output)\n",
    "decoded = Dense(1500, activation='relu')(decoded)\n",
    "decoded = Dense(784, activation='tanh')(decoded)\n",
    "# construct the autoencoder model\n",
    "autoencoder_complex = Model(input=input_img, output=decoded)"
   ]
  },
  {
   "cell_type": "code",
   "execution_count": 145,
   "metadata": {},
   "outputs": [],
   "source": [
    "ae = AE()"
   ]
  },
  {
   "cell_type": "markdown",
   "metadata": {},
   "source": [
    "#### 模組 - 簡介"
   ]
  },
  {
   "cell_type": "raw",
   "metadata": {},
   "source": [
    "autoencoder_complex.summary()"
   ]
  },
  {
   "cell_type": "markdown",
   "metadata": {},
   "source": [
    "#### 模組 - 架設"
   ]
  },
  {
   "cell_type": "raw",
   "metadata": {},
   "source": [
    "autoencoder_complex.compile(optimizer='adam', loss='mse')"
   ]
  },
  {
   "cell_type": "markdown",
   "metadata": {},
   "source": [
    "#### 模組 - 訓練\n",
    "用完整圖片訓練，完整圖片比對"
   ]
  },
  {
   "cell_type": "raw",
   "metadata": {},
   "source": [
    "history_complex = autoencoder_complex.fit(x_train_org, x_train_org, # 訓練資料、結果比對資料\n",
    "                    batch_size=batch_size, #\n",
    "                    epochs=epochs)"
   ]
  },
  {
   "cell_type": "code",
   "execution_count": 146,
   "metadata": {
    "scrolled": true
   },
   "outputs": [
    {
     "name": "stdout",
     "output_type": "stream",
     "text": [
      "Epoch 1/500\n",
      "60000/60000 [==============================] - 12s 195us/step - loss: 0.0779\n",
      "Epoch 2/500\n",
      "60000/60000 [==============================] - 6s 98us/step - loss: 0.0306\n",
      "Epoch 3/500\n",
      "60000/60000 [==============================] - 6s 103us/step - loss: 0.0242\n",
      "Epoch 4/500\n",
      "60000/60000 [==============================] - 6s 101us/step - loss: 0.0211\n",
      "Epoch 5/500\n",
      "60000/60000 [==============================] - 6s 99us/step - loss: 0.0192\n",
      "Epoch 6/500\n",
      "60000/60000 [==============================] - 6s 98us/step - loss: 0.0179\n",
      "Epoch 7/500\n",
      "60000/60000 [==============================] - 6s 98us/step - loss: 0.0168\n",
      "Epoch 8/500\n",
      "60000/60000 [==============================] - 6s 98us/step - loss: 0.0160\n",
      "Epoch 9/500\n",
      "60000/60000 [==============================] - 6s 98us/step - loss: 0.0153\n",
      "Epoch 10/500\n",
      "60000/60000 [==============================] - 6s 98us/step - loss: 0.0148\n",
      "Epoch 11/500\n",
      "60000/60000 [==============================] - 6s 98us/step - loss: 0.0144\n",
      "Epoch 12/500\n",
      "60000/60000 [==============================] - 6s 98us/step - loss: 0.0140\n",
      "Epoch 13/500\n",
      "60000/60000 [==============================] - 6s 98us/step - loss: 0.0137\n",
      "Epoch 14/500\n",
      "60000/60000 [==============================] - 6s 98us/step - loss: 0.0134\n",
      "Epoch 15/500\n",
      "60000/60000 [==============================] - 6s 98us/step - loss: 0.0131\n",
      "Epoch 16/500\n",
      "60000/60000 [==============================] - 6s 98us/step - loss: 0.0128\n",
      "Epoch 17/500\n",
      "60000/60000 [==============================] - 6s 98us/step - loss: 0.0126\n",
      "Epoch 18/500\n",
      "60000/60000 [==============================] - 6s 98us/step - loss: 0.0125\n",
      "Epoch 19/500\n",
      "60000/60000 [==============================] - 6s 99us/step - loss: 0.0123\n",
      "Epoch 20/500\n",
      "60000/60000 [==============================] - 6s 98us/step - loss: 0.0121\n",
      "Epoch 21/500\n",
      "60000/60000 [==============================] - 6s 98us/step - loss: 0.0120\n",
      "Epoch 22/500\n",
      "60000/60000 [==============================] - 6s 98us/step - loss: 0.0118\n",
      "Epoch 23/500\n",
      "60000/60000 [==============================] - 6s 98us/step - loss: 0.0117\n",
      "Epoch 24/500\n",
      "60000/60000 [==============================] - 6s 98us/step - loss: 0.0115\n",
      "Epoch 25/500\n",
      "60000/60000 [==============================] - 6s 98us/step - loss: 0.0114\n",
      "Epoch 26/500\n",
      "60000/60000 [==============================] - 6s 98us/step - loss: 0.0113\n",
      "Epoch 27/500\n",
      "60000/60000 [==============================] - 6s 97us/step - loss: 0.0112\n",
      "Epoch 28/500\n",
      "60000/60000 [==============================] - 6s 98us/step - loss: 0.0112\n",
      "Epoch 29/500\n",
      "60000/60000 [==============================] - 6s 98us/step - loss: 0.0110\n",
      "Epoch 30/500\n",
      "60000/60000 [==============================] - 6s 98us/step - loss: 0.0110\n",
      "Epoch 31/500\n",
      "60000/60000 [==============================] - 6s 98us/step - loss: 0.0108\n",
      "Epoch 32/500\n",
      "60000/60000 [==============================] - 6s 98us/step - loss: 0.0108\n",
      "Epoch 33/500\n",
      "60000/60000 [==============================] - 6s 98us/step - loss: 0.0107\n",
      "Epoch 34/500\n",
      "60000/60000 [==============================] - 6s 98us/step - loss: 0.0106\n",
      "Epoch 35/500\n",
      "60000/60000 [==============================] - 6s 98us/step - loss: 0.0106\n",
      "Epoch 36/500\n",
      "60000/60000 [==============================] - 6s 99us/step - loss: 0.0106\n",
      "Epoch 37/500\n",
      "60000/60000 [==============================] - 6s 98us/step - loss: 0.0105\n",
      "Epoch 38/500\n",
      "60000/60000 [==============================] - 6s 98us/step - loss: 0.0104\n",
      "Epoch 39/500\n",
      "60000/60000 [==============================] - 6s 98us/step - loss: 0.0104\n",
      "Epoch 40/500\n",
      "60000/60000 [==============================] - 6s 98us/step - loss: 0.0103\n",
      "Epoch 41/500\n",
      "60000/60000 [==============================] - 6s 97us/step - loss: 0.0103\n",
      "Epoch 42/500\n",
      "60000/60000 [==============================] - 6s 98us/step - loss: 0.0102\n",
      "Epoch 43/500\n",
      "60000/60000 [==============================] - 6s 99us/step - loss: 0.0101\n",
      "Epoch 44/500\n",
      "60000/60000 [==============================] - 6s 98us/step - loss: 0.0102\n",
      "Epoch 45/500\n",
      "60000/60000 [==============================] - 6s 98us/step - loss: 0.0100\n",
      "Epoch 46/500\n",
      "60000/60000 [==============================] - 6s 98us/step - loss: 0.0100\n",
      "Epoch 47/500\n",
      "60000/60000 [==============================] - 6s 98us/step - loss: 0.0100\n",
      "Epoch 48/500\n",
      "60000/60000 [==============================] - 6s 98us/step - loss: 0.0098\n",
      "Epoch 49/500\n",
      "60000/60000 [==============================] - 6s 98us/step - loss: 0.0099\n",
      "Epoch 50/500\n",
      "60000/60000 [==============================] - 6s 98us/step - loss: 0.0099\n",
      "Epoch 51/500\n",
      "60000/60000 [==============================] - 6s 98us/step - loss: 0.0098\n",
      "Epoch 52/500\n",
      "60000/60000 [==============================] - 6s 98us/step - loss: 0.0097\n",
      "Epoch 53/500\n",
      "60000/60000 [==============================] - 6s 98us/step - loss: 0.0097\n",
      "Epoch 54/500\n",
      "60000/60000 [==============================] - 6s 98us/step - loss: 0.0097\n",
      "Epoch 55/500\n",
      "60000/60000 [==============================] - 6s 98us/step - loss: 0.0096\n",
      "Epoch 56/500\n",
      "60000/60000 [==============================] - 6s 98us/step - loss: 0.0096\n",
      "Epoch 57/500\n",
      "60000/60000 [==============================] - 6s 98us/step - loss: 0.0096\n",
      "Epoch 58/500\n",
      "60000/60000 [==============================] - 6s 98us/step - loss: 0.0095\n",
      "Epoch 59/500\n",
      "60000/60000 [==============================] - 6s 98us/step - loss: 0.0095\n",
      "Epoch 60/500\n",
      "60000/60000 [==============================] - 6s 98us/step - loss: 0.0095\n",
      "Epoch 61/500\n",
      "60000/60000 [==============================] - 6s 98us/step - loss: 0.0095\n",
      "Epoch 62/500\n",
      "60000/60000 [==============================] - 6s 98us/step - loss: 0.0093\n",
      "Epoch 63/500\n",
      "60000/60000 [==============================] - 6s 97us/step - loss: 0.0094\n",
      "Epoch 64/500\n",
      "60000/60000 [==============================] - 6s 98us/step - loss: 0.0094\n",
      "Epoch 65/500\n",
      "60000/60000 [==============================] - 6s 98us/step - loss: 0.0094\n",
      "Epoch 66/500\n",
      "60000/60000 [==============================] - 6s 98us/step - loss: 0.0092\n",
      "Epoch 67/500\n",
      "60000/60000 [==============================] - 6s 98us/step - loss: 0.0093\n",
      "Epoch 68/500\n",
      "60000/60000 [==============================] - 6s 98us/step - loss: 0.0093\n",
      "Epoch 69/500\n",
      "60000/60000 [==============================] - 6s 98us/step - loss: 0.0092\n",
      "Epoch 70/500\n",
      "60000/60000 [==============================] - 6s 98us/step - loss: 0.0092\n",
      "Epoch 71/500\n",
      "60000/60000 [==============================] - 6s 98us/step - loss: 0.0091\n",
      "Epoch 72/500\n",
      "60000/60000 [==============================] - 6s 98us/step - loss: 0.0092\n",
      "Epoch 73/500\n",
      "60000/60000 [==============================] - 6s 98us/step - loss: 0.0091\n",
      "Epoch 74/500\n",
      "60000/60000 [==============================] - 6s 98us/step - loss: 0.0090\n",
      "Epoch 75/500\n",
      "60000/60000 [==============================] - 6s 98us/step - loss: 0.0091\n",
      "Epoch 76/500\n",
      "60000/60000 [==============================] - 6s 98us/step - loss: 0.0090\n",
      "Epoch 77/500\n",
      "60000/60000 [==============================] - 6s 98us/step - loss: 0.0091\n",
      "Epoch 78/500\n",
      "60000/60000 [==============================] - 6s 99us/step - loss: 0.0090\n",
      "Epoch 79/500\n",
      "60000/60000 [==============================] - 6s 98us/step - loss: 0.0090\n",
      "Epoch 80/500\n",
      "60000/60000 [==============================] - 6s 98us/step - loss: 0.0090\n",
      "Epoch 81/500\n",
      "60000/60000 [==============================] - 6s 98us/step - loss: 0.0090\n",
      "Epoch 82/500\n",
      "60000/60000 [==============================] - 6s 98us/step - loss: 0.0089\n",
      "Epoch 83/500\n",
      "60000/60000 [==============================] - 6s 98us/step - loss: 0.0089\n",
      "Epoch 84/500\n",
      "60000/60000 [==============================] - 6s 98us/step - loss: 0.0089\n",
      "Epoch 85/500\n",
      "60000/60000 [==============================] - 6s 98us/step - loss: 0.0089\n",
      "Epoch 86/500\n",
      "60000/60000 [==============================] - 6s 98us/step - loss: 0.0088\n",
      "Epoch 87/500\n",
      "60000/60000 [==============================] - 6s 98us/step - loss: 0.0088\n",
      "Epoch 88/500\n",
      "60000/60000 [==============================] - 6s 98us/step - loss: 0.0088\n",
      "Epoch 89/500\n",
      "60000/60000 [==============================] - 6s 98us/step - loss: 0.0088\n",
      "Epoch 90/500\n",
      "60000/60000 [==============================] - 6s 99us/step - loss: 0.0087\n",
      "Epoch 91/500\n",
      "60000/60000 [==============================] - 6s 97us/step - loss: 0.0088\n",
      "Epoch 92/500\n",
      "60000/60000 [==============================] - 6s 98us/step - loss: 0.0087\n",
      "Epoch 93/500\n",
      "60000/60000 [==============================] - 6s 98us/step - loss: 0.0087\n",
      "Epoch 94/500\n"
     ]
    },
    {
     "name": "stdout",
     "output_type": "stream",
     "text": [
      "60000/60000 [==============================] - 6s 97us/step - loss: 0.0087\n",
      "Epoch 95/500\n",
      "60000/60000 [==============================] - 6s 97us/step - loss: 0.0086\n",
      "Epoch 96/500\n",
      "60000/60000 [==============================] - 6s 97us/step - loss: 0.0087\n",
      "Epoch 97/500\n",
      "60000/60000 [==============================] - 6s 97us/step - loss: 0.0086\n",
      "Epoch 98/500\n",
      "60000/60000 [==============================] - 6s 97us/step - loss: 0.0086\n",
      "Epoch 99/500\n",
      "60000/60000 [==============================] - 6s 97us/step - loss: 0.0087\n",
      "Epoch 100/500\n",
      "60000/60000 [==============================] - 6s 98us/step - loss: 0.0085\n",
      "Epoch 101/500\n",
      "60000/60000 [==============================] - 6s 97us/step - loss: 0.0086\n",
      "Epoch 102/500\n",
      "60000/60000 [==============================] - 6s 98us/step - loss: 0.0086\n",
      "Epoch 103/500\n",
      "60000/60000 [==============================] - 6s 97us/step - loss: 0.0086\n",
      "Epoch 104/500\n",
      "60000/60000 [==============================] - 6s 97us/step - loss: 0.0086\n",
      "Epoch 105/500\n",
      "60000/60000 [==============================] - 6s 98us/step - loss: 0.0085\n",
      "Epoch 106/500\n",
      "60000/60000 [==============================] - 6s 97us/step - loss: 0.0085\n",
      "Epoch 107/500\n",
      "60000/60000 [==============================] - 6s 98us/step - loss: 0.0085\n",
      "Epoch 108/500\n",
      "60000/60000 [==============================] - 6s 97us/step - loss: 0.0085\n",
      "Epoch 109/500\n",
      "60000/60000 [==============================] - 6s 98us/step - loss: 0.0085\n",
      "Epoch 110/500\n",
      "60000/60000 [==============================] - 6s 97us/step - loss: 0.0085\n",
      "Epoch 111/500\n",
      "60000/60000 [==============================] - 6s 97us/step - loss: 0.0085\n",
      "Epoch 112/500\n",
      "60000/60000 [==============================] - 6s 98us/step - loss: 0.0085\n",
      "Epoch 113/500\n",
      "60000/60000 [==============================] - 6s 97us/step - loss: 0.0084\n",
      "Epoch 114/500\n",
      "60000/60000 [==============================] - 6s 98us/step - loss: 0.0084\n",
      "Epoch 115/500\n",
      "60000/60000 [==============================] - 6s 97us/step - loss: 0.0084\n",
      "Epoch 116/500\n",
      "60000/60000 [==============================] - 6s 97us/step - loss: 0.0083\n",
      "Epoch 117/500\n",
      "60000/60000 [==============================] - 6s 98us/step - loss: 0.0084\n",
      "Epoch 118/500\n",
      "60000/60000 [==============================] - 6s 97us/step - loss: 0.0083: 0s \n",
      "Epoch 119/500\n",
      "60000/60000 [==============================] - 6s 97us/step - loss: 0.0084\n",
      "Epoch 120/500\n",
      "60000/60000 [==============================] - 6s 97us/step - loss: 0.0083\n",
      "Epoch 121/500\n",
      "60000/60000 [==============================] - 6s 97us/step - loss: 0.0083\n",
      "Epoch 122/500\n",
      "60000/60000 [==============================] - 6s 98us/step - loss: 0.0083\n",
      "Epoch 123/500\n",
      "60000/60000 [==============================] - 6s 98us/step - loss: 0.0083\n",
      "Epoch 124/500\n",
      "60000/60000 [==============================] - 6s 97us/step - loss: 0.0083\n",
      "Epoch 125/500\n",
      "60000/60000 [==============================] - 6s 98us/step - loss: 0.0082\n",
      "Epoch 126/500\n",
      "60000/60000 [==============================] - 6s 98us/step - loss: 0.0083\n",
      "Epoch 127/500\n",
      "60000/60000 [==============================] - 6s 97us/step - loss: 0.0083\n",
      "Epoch 128/500\n",
      "60000/60000 [==============================] - 6s 97us/step - loss: 0.0082\n",
      "Epoch 129/500\n",
      "60000/60000 [==============================] - 6s 97us/step - loss: 0.0083\n",
      "Epoch 130/500\n",
      "60000/60000 [==============================] - 6s 97us/step - loss: 0.0082\n",
      "Epoch 131/500\n",
      "60000/60000 [==============================] - 6s 98us/step - loss: 0.0082\n",
      "Epoch 132/500\n",
      "60000/60000 [==============================] - 6s 98us/step - loss: 0.0082\n",
      "Epoch 133/500\n",
      "60000/60000 [==============================] - 6s 97us/step - loss: 0.0082\n",
      "Epoch 134/500\n",
      "60000/60000 [==============================] - 6s 97us/step - loss: 0.0082\n",
      "Epoch 135/500\n",
      "60000/60000 [==============================] - 6s 98us/step - loss: 0.0081\n",
      "Epoch 136/500\n",
      "60000/60000 [==============================] - 6s 97us/step - loss: 0.0082\n",
      "Epoch 137/500\n",
      "60000/60000 [==============================] - 6s 97us/step - loss: 0.0081\n",
      "Epoch 138/500\n",
      "60000/60000 [==============================] - 6s 98us/step - loss: 0.0081\n",
      "Epoch 139/500\n",
      "60000/60000 [==============================] - 6s 97us/step - loss: 0.0081\n",
      "Epoch 140/500\n",
      "60000/60000 [==============================] - 6s 98us/step - loss: 0.0081\n",
      "Epoch 141/500\n",
      "60000/60000 [==============================] - 6s 97us/step - loss: 0.0081\n",
      "Epoch 142/500\n",
      "60000/60000 [==============================] - 6s 97us/step - loss: 0.0081\n",
      "Epoch 143/500\n",
      "60000/60000 [==============================] - 6s 97us/step - loss: 0.0081\n",
      "Epoch 144/500\n",
      "60000/60000 [==============================] - 6s 97us/step - loss: 0.0081\n",
      "Epoch 145/500\n",
      "60000/60000 [==============================] - 6s 97us/step - loss: 0.0080\n",
      "Epoch 146/500\n",
      "60000/60000 [==============================] - 6s 97us/step - loss: 0.0080\n",
      "Epoch 147/500\n",
      "60000/60000 [==============================] - 6s 97us/step - loss: 0.0081\n",
      "Epoch 148/500\n",
      "60000/60000 [==============================] - 6s 97us/step - loss: 0.0080\n",
      "Epoch 149/500\n",
      "60000/60000 [==============================] - 6s 104us/step - loss: 0.0080\n",
      "Epoch 150/500\n",
      "60000/60000 [==============================] - 6s 104us/step - loss: 0.0080\n",
      "Epoch 151/500\n",
      "60000/60000 [==============================] - 6s 99us/step - loss: 0.0080\n",
      "Epoch 152/500\n",
      "60000/60000 [==============================] - 6s 98us/step - loss: 0.0080\n",
      "Epoch 153/500\n",
      "60000/60000 [==============================] - 6s 98us/step - loss: 0.0080\n",
      "Epoch 154/500\n",
      "60000/60000 [==============================] - 6s 97us/step - loss: 0.0080\n",
      "Epoch 155/500\n",
      "60000/60000 [==============================] - 6s 97us/step - loss: 0.0079\n",
      "Epoch 156/500\n",
      "60000/60000 [==============================] - 6s 97us/step - loss: 0.0079\n",
      "Epoch 157/500\n",
      "60000/60000 [==============================] - 6s 98us/step - loss: 0.0079\n",
      "Epoch 158/500\n",
      "60000/60000 [==============================] - 6s 98us/step - loss: 0.0079\n",
      "Epoch 159/500\n",
      "60000/60000 [==============================] - 6s 97us/step - loss: 0.0079\n",
      "Epoch 160/500\n",
      "60000/60000 [==============================] - 6s 97us/step - loss: 0.0079\n",
      "Epoch 161/500\n",
      "60000/60000 [==============================] - 6s 97us/step - loss: 0.0079\n",
      "Epoch 162/500\n",
      "60000/60000 [==============================] - 6s 98us/step - loss: 0.0079\n",
      "Epoch 163/500\n",
      "60000/60000 [==============================] - 6s 97us/step - loss: 0.0079\n",
      "Epoch 164/500\n",
      "60000/60000 [==============================] - 6s 97us/step - loss: 0.0078\n",
      "Epoch 165/500\n",
      "60000/60000 [==============================] - 6s 97us/step - loss: 0.0079\n",
      "Epoch 166/500\n",
      "60000/60000 [==============================] - 6s 97us/step - loss: 0.0078\n",
      "Epoch 167/500\n",
      "60000/60000 [==============================] - 6s 97us/step - loss: 0.0079\n",
      "Epoch 168/500\n",
      "60000/60000 [==============================] - 6s 98us/step - loss: 0.0079\n",
      "Epoch 169/500\n",
      "60000/60000 [==============================] - 6s 98us/step - loss: 0.0079\n",
      "Epoch 170/500\n",
      "60000/60000 [==============================] - 6s 97us/step - loss: 0.0078: 0s - lo\n",
      "Epoch 171/500\n",
      "60000/60000 [==============================] - 6s 97us/step - loss: 0.0078\n",
      "Epoch 172/500\n",
      "60000/60000 [==============================] - 6s 98us/step - loss: 0.0078\n",
      "Epoch 173/500\n",
      "60000/60000 [==============================] - 6s 97us/step - loss: 0.0078\n",
      "Epoch 174/500\n",
      "60000/60000 [==============================] - 6s 97us/step - loss: 0.0078\n",
      "Epoch 175/500\n",
      "60000/60000 [==============================] - 6s 97us/step - loss: 0.0078\n",
      "Epoch 176/500\n",
      "60000/60000 [==============================] - 6s 97us/step - loss: 0.0078\n",
      "Epoch 177/500\n",
      "60000/60000 [==============================] - 6s 98us/step - loss: 0.0078\n",
      "Epoch 178/500\n",
      "60000/60000 [==============================] - 6s 98us/step - loss: 0.0078\n",
      "Epoch 179/500\n",
      "60000/60000 [==============================] - 6s 97us/step - loss: 0.0078\n",
      "Epoch 180/500\n",
      "60000/60000 [==============================] - 6s 97us/step - loss: 0.0077\n",
      "Epoch 181/500\n",
      "60000/60000 [==============================] - 6s 97us/step - loss: 0.0078\n",
      "Epoch 182/500\n",
      "60000/60000 [==============================] - 6s 98us/step - loss: 0.0078\n",
      "Epoch 183/500\n",
      "60000/60000 [==============================] - 6s 97us/step - loss: 0.0078: 2s - l\n",
      "Epoch 184/500\n",
      "60000/60000 [==============================] - 6s 97us/step - loss: 0.0077\n",
      "Epoch 185/500\n",
      "60000/60000 [==============================] - 6s 97us/step - loss: 0.0077\n"
     ]
    },
    {
     "name": "stdout",
     "output_type": "stream",
     "text": [
      "Epoch 186/500\n",
      "60000/60000 [==============================] - 6s 97us/step - loss: 0.0077\n",
      "Epoch 187/500\n",
      "60000/60000 [==============================] - 6s 97us/step - loss: 0.0077\n",
      "Epoch 188/500\n",
      "60000/60000 [==============================] - 6s 97us/step - loss: 0.0077\n",
      "Epoch 189/500\n",
      "60000/60000 [==============================] - 6s 97us/step - loss: 0.0077\n",
      "Epoch 190/500\n",
      "60000/60000 [==============================] - 6s 97us/step - loss: 0.0077\n",
      "Epoch 191/500\n",
      "60000/60000 [==============================] - 6s 97us/step - loss: 0.0077\n",
      "Epoch 192/500\n",
      "60000/60000 [==============================] - 6s 97us/step - loss: 0.0077\n",
      "Epoch 193/500\n",
      "60000/60000 [==============================] - 6s 101us/step - loss: 0.0076\n",
      "Epoch 194/500\n",
      "60000/60000 [==============================] - 6s 108us/step - loss: 0.0077 0s - loss\n",
      "Epoch 195/500\n",
      "60000/60000 [==============================] - 6s 97us/step - loss: 0.0077\n",
      "Epoch 196/500\n",
      "60000/60000 [==============================] - 6s 97us/step - loss: 0.0077\n",
      "Epoch 197/500\n",
      "60000/60000 [==============================] - 6s 98us/step - loss: 0.0077\n",
      "Epoch 198/500\n",
      "60000/60000 [==============================] - 6s 97us/step - loss: 0.0076\n",
      "Epoch 199/500\n",
      "60000/60000 [==============================] - 6s 98us/step - loss: 0.0077\n",
      "Epoch 200/500\n",
      "60000/60000 [==============================] - 6s 98us/step - loss: 0.0076\n",
      "Epoch 201/500\n",
      "60000/60000 [==============================] - 6s 98us/step - loss: 0.0076\n",
      "Epoch 202/500\n",
      "60000/60000 [==============================] - 6s 98us/step - loss: 0.0076\n",
      "Epoch 203/500\n",
      "60000/60000 [==============================] - 6s 97us/step - loss: 0.0077\n",
      "Epoch 204/500\n",
      "60000/60000 [==============================] - 6s 97us/step - loss: 0.0076\n",
      "Epoch 205/500\n",
      "60000/60000 [==============================] - 6s 97us/step - loss: 0.0076\n",
      "Epoch 206/500\n",
      "60000/60000 [==============================] - 6s 97us/step - loss: 0.0076\n",
      "Epoch 207/500\n",
      "60000/60000 [==============================] - 6s 97us/step - loss: 0.0076\n",
      "Epoch 208/500\n",
      "60000/60000 [==============================] - 6s 98us/step - loss: 0.0076\n",
      "Epoch 209/500\n",
      "60000/60000 [==============================] - 6s 97us/step - loss: 0.0076\n",
      "Epoch 210/500\n",
      "60000/60000 [==============================] - 6s 97us/step - loss: 0.0076\n",
      "Epoch 211/500\n",
      "60000/60000 [==============================] - 6s 98us/step - loss: 0.0075\n",
      "Epoch 212/500\n",
      "60000/60000 [==============================] - 6s 97us/step - loss: 0.0076\n",
      "Epoch 213/500\n",
      "60000/60000 [==============================] - 6s 97us/step - loss: 0.0076\n",
      "Epoch 214/500\n",
      "60000/60000 [==============================] - 6s 97us/step - loss: 0.0076\n",
      "Epoch 215/500\n",
      "60000/60000 [==============================] - 6s 97us/step - loss: 0.0075\n",
      "Epoch 216/500\n",
      "60000/60000 [==============================] - 6s 97us/step - loss: 0.0075\n",
      "Epoch 217/500\n",
      "60000/60000 [==============================] - 6s 97us/step - loss: 0.0076\n",
      "Epoch 218/500\n",
      "60000/60000 [==============================] - 6s 97us/step - loss: 0.0075\n",
      "Epoch 219/500\n",
      "60000/60000 [==============================] - 6s 97us/step - loss: 0.0075\n",
      "Epoch 220/500\n",
      "60000/60000 [==============================] - 6s 97us/step - loss: 0.0075\n",
      "Epoch 221/500\n",
      "60000/60000 [==============================] - 6s 97us/step - loss: 0.0075\n",
      "Epoch 222/500\n",
      "60000/60000 [==============================] - 6s 97us/step - loss: 0.0075\n",
      "Epoch 223/500\n",
      "60000/60000 [==============================] - 6s 97us/step - loss: 0.0075\n",
      "Epoch 224/500\n",
      "60000/60000 [==============================] - 6s 98us/step - loss: 0.0075\n",
      "Epoch 225/500\n",
      "60000/60000 [==============================] - 6s 97us/step - loss: 0.0076\n",
      "Epoch 226/500\n",
      "60000/60000 [==============================] - 6s 97us/step - loss: 0.0075\n",
      "Epoch 227/500\n",
      "60000/60000 [==============================] - 6s 98us/step - loss: 0.0076\n",
      "Epoch 228/500\n",
      "60000/60000 [==============================] - 6s 97us/step - loss: 0.0074\n",
      "Epoch 229/500\n",
      "60000/60000 [==============================] - 6s 98us/step - loss: 0.0075\n",
      "Epoch 230/500\n",
      "60000/60000 [==============================] - 6s 97us/step - loss: 0.0075: 0s \n",
      "Epoch 231/500\n",
      "60000/60000 [==============================] - 6s 97us/step - loss: 0.0075\n",
      "Epoch 232/500\n",
      "60000/60000 [==============================] - 6s 98us/step - loss: 0.0074\n",
      "Epoch 233/500\n",
      "60000/60000 [==============================] - 6s 97us/step - loss: 0.0075\n",
      "Epoch 234/500\n",
      "60000/60000 [==============================] - 6s 97us/step - loss: 0.0075\n",
      "Epoch 235/500\n",
      "60000/60000 [==============================] - 6s 97us/step - loss: 0.0075\n",
      "Epoch 236/500\n",
      "60000/60000 [==============================] - 6s 97us/step - loss: 0.0075\n",
      "Epoch 237/500\n",
      "60000/60000 [==============================] - 6s 98us/step - loss: 0.0075\n",
      "Epoch 238/500\n",
      "60000/60000 [==============================] - 6s 98us/step - loss: 0.0075\n",
      "Epoch 239/500\n",
      "60000/60000 [==============================] - 6s 97us/step - loss: 0.0075\n",
      "Epoch 240/500\n",
      "60000/60000 [==============================] - 6s 97us/step - loss: 0.0075\n",
      "Epoch 241/500\n",
      "60000/60000 [==============================] - 6s 97us/step - loss: 0.0074\n",
      "Epoch 242/500\n",
      "60000/60000 [==============================] - 6s 97us/step - loss: 0.0074\n",
      "Epoch 243/500\n",
      "60000/60000 [==============================] - 6s 97us/step - loss: 0.0074\n",
      "Epoch 244/500\n",
      "60000/60000 [==============================] - 6s 97us/step - loss: 0.0074\n",
      "Epoch 245/500\n",
      "60000/60000 [==============================] - 6s 98us/step - loss: 0.0074\n",
      "Epoch 246/500\n",
      "60000/60000 [==============================] - 6s 97us/step - loss: 0.0074\n",
      "Epoch 247/500\n",
      "60000/60000 [==============================] - 6s 98us/step - loss: 0.0075\n",
      "Epoch 248/500\n",
      "60000/60000 [==============================] - 6s 97us/step - loss: 0.0074\n",
      "Epoch 249/500\n",
      "60000/60000 [==============================] - 6s 97us/step - loss: 0.0074\n",
      "Epoch 250/500\n",
      "60000/60000 [==============================] - 6s 97us/step - loss: 0.0074\n",
      "Epoch 251/500\n",
      "60000/60000 [==============================] - 6s 97us/step - loss: 0.0074\n",
      "Epoch 252/500\n",
      "60000/60000 [==============================] - 6s 97us/step - loss: 0.0074\n",
      "Epoch 253/500\n",
      "60000/60000 [==============================] - 6s 97us/step - loss: 0.0074\n",
      "Epoch 254/500\n",
      "60000/60000 [==============================] - 6s 97us/step - loss: 0.0074\n",
      "Epoch 255/500\n",
      "60000/60000 [==============================] - 6s 97us/step - loss: 0.0074\n",
      "Epoch 256/500\n",
      "60000/60000 [==============================] - 6s 98us/step - loss: 0.0074\n",
      "Epoch 257/500\n",
      "60000/60000 [==============================] - 6s 98us/step - loss: 0.0074: 0s - loss:\n",
      "Epoch 258/500\n",
      "60000/60000 [==============================] - 6s 97us/step - loss: 0.0073\n",
      "Epoch 259/500\n",
      "60000/60000 [==============================] - 6s 98us/step - loss: 0.0074\n",
      "Epoch 260/500\n",
      "60000/60000 [==============================] - 6s 97us/step - loss: 0.0074\n",
      "Epoch 261/500\n",
      "60000/60000 [==============================] - 6s 97us/step - loss: 0.0074\n",
      "Epoch 262/500\n",
      "60000/60000 [==============================] - 6s 98us/step - loss: 0.0073\n",
      "Epoch 263/500\n",
      "60000/60000 [==============================] - 6s 97us/step - loss: 0.0074\n",
      "Epoch 264/500\n",
      "60000/60000 [==============================] - 6s 97us/step - loss: 0.0073\n",
      "Epoch 265/500\n",
      "60000/60000 [==============================] - 6s 98us/step - loss: 0.0074\n",
      "Epoch 266/500\n",
      "60000/60000 [==============================] - 6s 97us/step - loss: 0.0073\n",
      "Epoch 267/500\n",
      "60000/60000 [==============================] - 6s 98us/step - loss: 0.0073\n",
      "Epoch 268/500\n",
      "60000/60000 [==============================] - 6s 97us/step - loss: 0.0073\n",
      "Epoch 269/500\n",
      "60000/60000 [==============================] - 6s 97us/step - loss: 0.0074\n",
      "Epoch 270/500\n",
      "60000/60000 [==============================] - 6s 97us/step - loss: 0.0073\n",
      "Epoch 271/500\n",
      "60000/60000 [==============================] - 6s 98us/step - loss: 0.0073\n",
      "Epoch 272/500\n",
      "60000/60000 [==============================] - 6s 97us/step - loss: 0.0073\n",
      "Epoch 273/500\n",
      "60000/60000 [==============================] - 6s 97us/step - loss: 0.0073\n",
      "Epoch 274/500\n",
      "60000/60000 [==============================] - 6s 97us/step - loss: 0.0073\n",
      "Epoch 275/500\n",
      "60000/60000 [==============================] - 6s 98us/step - loss: 0.0073\n",
      "Epoch 276/500\n",
      "60000/60000 [==============================] - 6s 98us/step - loss: 0.0073\n",
      "Epoch 277/500\n"
     ]
    },
    {
     "name": "stdout",
     "output_type": "stream",
     "text": [
      "60000/60000 [==============================] - 6s 98us/step - loss: 0.0073\n",
      "Epoch 278/500\n",
      "60000/60000 [==============================] - 6s 97us/step - loss: 0.0073\n",
      "Epoch 279/500\n",
      "60000/60000 [==============================] - 6s 97us/step - loss: 0.0073\n",
      "Epoch 280/500\n",
      "60000/60000 [==============================] - 6s 97us/step - loss: 0.0073\n",
      "Epoch 281/500\n",
      "60000/60000 [==============================] - 6s 98us/step - loss: 0.0073\n",
      "Epoch 282/500\n",
      "60000/60000 [==============================] - 6s 97us/step - loss: 0.0073\n",
      "Epoch 283/500\n",
      "60000/60000 [==============================] - 6s 98us/step - loss: 0.0072\n",
      "Epoch 284/500\n",
      "60000/60000 [==============================] - 6s 97us/step - loss: 0.0073\n",
      "Epoch 285/500\n",
      "60000/60000 [==============================] - 6s 98us/step - loss: 0.0073\n",
      "Epoch 286/500\n",
      "60000/60000 [==============================] - 6s 97us/step - loss: 0.0073\n",
      "Epoch 287/500\n",
      "60000/60000 [==============================] - 6s 97us/step - loss: 0.0073\n",
      "Epoch 288/500\n",
      "60000/60000 [==============================] - 6s 97us/step - loss: 0.0072: 0s\n",
      "Epoch 289/500\n",
      "60000/60000 [==============================] - 6s 98us/step - loss: 0.0073\n",
      "Epoch 290/500\n",
      "60000/60000 [==============================] - 6s 98us/step - loss: 0.0073\n",
      "Epoch 291/500\n",
      "60000/60000 [==============================] - 6s 97us/step - loss: 0.0072\n",
      "Epoch 292/500\n",
      "60000/60000 [==============================] - 6s 98us/step - loss: 0.0073\n",
      "Epoch 293/500\n",
      "60000/60000 [==============================] - 6s 97us/step - loss: 0.0072\n",
      "Epoch 294/500\n",
      "60000/60000 [==============================] - 6s 98us/step - loss: 0.0073\n",
      "Epoch 295/500\n",
      "60000/60000 [==============================] - 6s 97us/step - loss: 0.0072\n",
      "Epoch 296/500\n",
      "60000/60000 [==============================] - ETA: 0s - loss: 0.007 - 6s 97us/step - loss: 0.0072\n",
      "Epoch 297/500\n",
      "60000/60000 [==============================] - 6s 97us/step - loss: 0.0072\n",
      "Epoch 298/500\n",
      "60000/60000 [==============================] - 6s 97us/step - loss: 0.0073\n",
      "Epoch 299/500\n",
      "60000/60000 [==============================] - 6s 97us/step - loss: 0.0072\n",
      "Epoch 300/500\n",
      "60000/60000 [==============================] - 6s 97us/step - loss: 0.0072\n",
      "Epoch 301/500\n",
      "60000/60000 [==============================] - 6s 98us/step - loss: 0.0072\n",
      "Epoch 302/500\n",
      "60000/60000 [==============================] - 6s 97us/step - loss: 0.0072\n",
      "Epoch 303/500\n",
      "60000/60000 [==============================] - 6s 97us/step - loss: 0.0072\n",
      "Epoch 304/500\n",
      "60000/60000 [==============================] - 6s 98us/step - loss: 0.0072\n",
      "Epoch 305/500\n",
      "60000/60000 [==============================] - 6s 98us/step - loss: 0.0072\n",
      "Epoch 306/500\n",
      "60000/60000 [==============================] - 6s 97us/step - loss: 0.0072\n",
      "Epoch 307/500\n",
      "60000/60000 [==============================] - 6s 97us/step - loss: 0.0072\n",
      "Epoch 308/500\n",
      "60000/60000 [==============================] - 6s 97us/step - loss: 0.0072\n",
      "Epoch 309/500\n",
      "60000/60000 [==============================] - 6s 98us/step - loss: 0.0073\n",
      "Epoch 310/500\n",
      "60000/60000 [==============================] - 6s 97us/step - loss: 0.0072\n",
      "Epoch 311/500\n",
      "60000/60000 [==============================] - 6s 97us/step - loss: 0.0072\n",
      "Epoch 312/500\n",
      "60000/60000 [==============================] - 6s 97us/step - loss: 0.0072\n",
      "Epoch 313/500\n",
      "60000/60000 [==============================] - 6s 97us/step - loss: 0.0072\n",
      "Epoch 314/500\n",
      "60000/60000 [==============================] - 6s 97us/step - loss: 0.0072\n",
      "Epoch 315/500\n",
      "60000/60000 [==============================] - 6s 97us/step - loss: 0.0072\n",
      "Epoch 316/500\n",
      "60000/60000 [==============================] - 6s 97us/step - loss: 0.0071\n",
      "Epoch 317/500\n",
      "60000/60000 [==============================] - 6s 97us/step - loss: 0.0072\n",
      "Epoch 318/500\n",
      "60000/60000 [==============================] - 6s 98us/step - loss: 0.0072\n",
      "Epoch 319/500\n",
      "60000/60000 [==============================] - 6s 97us/step - loss: 0.0071\n",
      "Epoch 320/500\n",
      "60000/60000 [==============================] - 6s 97us/step - loss: 0.0072\n",
      "Epoch 321/500\n",
      "60000/60000 [==============================] - 6s 97us/step - loss: 0.0071\n",
      "Epoch 322/500\n",
      "60000/60000 [==============================] - 6s 97us/step - loss: 0.0072\n",
      "Epoch 323/500\n",
      "60000/60000 [==============================] - 6s 97us/step - loss: 0.0072\n",
      "Epoch 324/500\n",
      "60000/60000 [==============================] - 6s 97us/step - loss: 0.0072\n",
      "Epoch 325/500\n",
      "60000/60000 [==============================] - 6s 97us/step - loss: 0.0072\n",
      "Epoch 326/500\n",
      "60000/60000 [==============================] - 6s 98us/step - loss: 0.0072\n",
      "Epoch 327/500\n",
      "60000/60000 [==============================] - 6s 97us/step - loss: 0.0071\n",
      "Epoch 328/500\n",
      "60000/60000 [==============================] - 6s 97us/step - loss: 0.0072\n",
      "Epoch 329/500\n",
      "60000/60000 [==============================] - 6s 97us/step - loss: 0.0071\n",
      "Epoch 330/500\n",
      "60000/60000 [==============================] - 6s 98us/step - loss: 0.0071: 0s - loss: 0\n",
      "Epoch 331/500\n",
      "60000/60000 [==============================] - 6s 97us/step - loss: 0.0072\n",
      "Epoch 332/500\n",
      "60000/60000 [==============================] - 6s 98us/step - loss: 0.0071\n",
      "Epoch 333/500\n",
      "60000/60000 [==============================] - 6s 97us/step - loss: 0.0071\n",
      "Epoch 334/500\n",
      "60000/60000 [==============================] - 6s 97us/step - loss: 0.0072\n",
      "Epoch 335/500\n",
      "60000/60000 [==============================] - 6s 97us/step - loss: 0.0071\n",
      "Epoch 336/500\n",
      "60000/60000 [==============================] - 6s 98us/step - loss: 0.0071\n",
      "Epoch 337/500\n",
      "60000/60000 [==============================] - 6s 98us/step - loss: 0.0071\n",
      "Epoch 338/500\n",
      "60000/60000 [==============================] - 6s 97us/step - loss: 0.0072: 1s - loss: 0\n",
      "Epoch 339/500\n",
      "60000/60000 [==============================] - 6s 98us/step - loss: 0.0071\n",
      "Epoch 340/500\n",
      "60000/60000 [==============================] - 6s 97us/step - loss: 0.0071\n",
      "Epoch 341/500\n",
      "60000/60000 [==============================] - 6s 97us/step - loss: 0.0071\n",
      "Epoch 342/500\n",
      "60000/60000 [==============================] - 6s 97us/step - loss: 0.0071\n",
      "Epoch 343/500\n",
      "60000/60000 [==============================] - 6s 98us/step - loss: 0.0071\n",
      "Epoch 344/500\n",
      "60000/60000 [==============================] - 6s 98us/step - loss: 0.0071\n",
      "Epoch 345/500\n",
      "60000/60000 [==============================] - 6s 97us/step - loss: 0.0071\n",
      "Epoch 346/500\n",
      "60000/60000 [==============================] - 6s 98us/step - loss: 0.0071\n",
      "Epoch 347/500\n",
      "60000/60000 [==============================] - 6s 97us/step - loss: 0.0071\n",
      "Epoch 348/500\n",
      "60000/60000 [==============================] - 6s 97us/step - loss: 0.0071\n",
      "Epoch 349/500\n",
      "60000/60000 [==============================] - 6s 98us/step - loss: 0.0071\n",
      "Epoch 350/500\n",
      "60000/60000 [==============================] - 6s 97us/step - loss: 0.0070\n",
      "Epoch 351/500\n",
      "60000/60000 [==============================] - 6s 97us/step - loss: 0.0071\n",
      "Epoch 352/500\n",
      "60000/60000 [==============================] - 6s 97us/step - loss: 0.0072\n",
      "Epoch 353/500\n",
      "60000/60000 [==============================] - 6s 97us/step - loss: 0.0071\n",
      "Epoch 354/500\n",
      "60000/60000 [==============================] - 6s 97us/step - loss: 0.0070\n",
      "Epoch 355/500\n",
      "60000/60000 [==============================] - 6s 98us/step - loss: 0.0070\n",
      "Epoch 356/500\n",
      "60000/60000 [==============================] - 6s 98us/step - loss: 0.0071\n",
      "Epoch 357/500\n",
      "60000/60000 [==============================] - 6s 98us/step - loss: 0.0071\n",
      "Epoch 358/500\n",
      "60000/60000 [==============================] - 6s 97us/step - loss: 0.0070\n",
      "Epoch 359/500\n",
      "60000/60000 [==============================] - 6s 98us/step - loss: 0.0071\n",
      "Epoch 360/500\n",
      "60000/60000 [==============================] - 6s 97us/step - loss: 0.0071\n",
      "Epoch 361/500\n",
      "60000/60000 [==============================] - 6s 98us/step - loss: 0.0070\n",
      "Epoch 362/500\n",
      "60000/60000 [==============================] - 6s 97us/step - loss: 0.0070\n",
      "Epoch 363/500\n",
      "60000/60000 [==============================] - 6s 98us/step - loss: 0.0071\n",
      "Epoch 364/500\n",
      "60000/60000 [==============================] - 6s 97us/step - loss: 0.0070\n",
      "Epoch 365/500\n",
      "60000/60000 [==============================] - 6s 97us/step - loss: 0.0071\n",
      "Epoch 366/500\n",
      "60000/60000 [==============================] - 6s 97us/step - loss: 0.0070\n",
      "Epoch 367/500\n",
      "60000/60000 [==============================] - 6s 98us/step - loss: 0.0071\n",
      "Epoch 368/500\n"
     ]
    },
    {
     "name": "stdout",
     "output_type": "stream",
     "text": [
      "60000/60000 [==============================] - 6s 97us/step - loss: 0.0070\n",
      "Epoch 369/500\n",
      "60000/60000 [==============================] - 6s 97us/step - loss: 0.0070\n",
      "Epoch 370/500\n",
      "60000/60000 [==============================] - 6s 97us/step - loss: 0.0070\n",
      "Epoch 371/500\n",
      "60000/60000 [==============================] - 6s 97us/step - loss: 0.0070\n",
      "Epoch 372/500\n",
      "60000/60000 [==============================] - 6s 98us/step - loss: 0.0070\n",
      "Epoch 373/500\n",
      "60000/60000 [==============================] - 6s 97us/step - loss: 0.0070\n",
      "Epoch 374/500\n",
      "60000/60000 [==============================] - 6s 98us/step - loss: 0.0071: 0s -\n",
      "Epoch 375/500\n",
      "60000/60000 [==============================] - 6s 97us/step - loss: 0.0070\n",
      "Epoch 376/500\n",
      "60000/60000 [==============================] - 6s 97us/step - loss: 0.0070\n",
      "Epoch 377/500\n",
      "60000/60000 [==============================] - 6s 98us/step - loss: 0.0071\n",
      "Epoch 378/500\n",
      "60000/60000 [==============================] - 6s 97us/step - loss: 0.0070\n",
      "Epoch 379/500\n",
      "60000/60000 [==============================] - 6s 97us/step - loss: 0.0070\n",
      "Epoch 380/500\n",
      "60000/60000 [==============================] - 6s 97us/step - loss: 0.0070: 0s - lo\n",
      "Epoch 381/500\n",
      "60000/60000 [==============================] - 6s 97us/step - loss: 0.0070\n",
      "Epoch 382/500\n",
      "60000/60000 [==============================] - 6s 97us/step - loss: 0.0070\n",
      "Epoch 383/500\n",
      "60000/60000 [==============================] - 6s 97us/step - loss: 0.0071\n",
      "Epoch 384/500\n",
      "60000/60000 [==============================] - 6s 97us/step - loss: 0.0069\n",
      "Epoch 385/500\n",
      "60000/60000 [==============================] - 6s 97us/step - loss: 0.0070\n",
      "Epoch 386/500\n",
      "60000/60000 [==============================] - 6s 97us/step - loss: 0.0070\n",
      "Epoch 387/500\n",
      "60000/60000 [==============================] - 6s 98us/step - loss: 0.0070\n",
      "Epoch 388/500\n",
      "60000/60000 [==============================] - 6s 98us/step - loss: 0.0070\n",
      "Epoch 389/500\n",
      "60000/60000 [==============================] - 6s 97us/step - loss: 0.0070\n",
      "Epoch 390/500\n",
      "60000/60000 [==============================] - 6s 97us/step - loss: 0.0070\n",
      "Epoch 391/500\n",
      "60000/60000 [==============================] - 6s 98us/step - loss: 0.0070\n",
      "Epoch 392/500\n",
      "60000/60000 [==============================] - 6s 97us/step - loss: 0.0070\n",
      "Epoch 393/500\n",
      "60000/60000 [==============================] - 6s 97us/step - loss: 0.0069\n",
      "Epoch 394/500\n",
      "60000/60000 [==============================] - 6s 97us/step - loss: 0.0070\n",
      "Epoch 395/500\n",
      "60000/60000 [==============================] - 6s 98us/step - loss: 0.0070\n",
      "Epoch 396/500\n",
      "60000/60000 [==============================] - 6s 97us/step - loss: 0.0070\n",
      "Epoch 397/500\n",
      "60000/60000 [==============================] - 6s 97us/step - loss: 0.0070\n",
      "Epoch 398/500\n",
      "60000/60000 [==============================] - 6s 97us/step - loss: 0.0070\n",
      "Epoch 399/500\n",
      "60000/60000 [==============================] - 6s 97us/step - loss: 0.0070\n",
      "Epoch 400/500\n",
      "60000/60000 [==============================] - 6s 97us/step - loss: 0.0070\n",
      "Epoch 401/500\n",
      "60000/60000 [==============================] - 6s 97us/step - loss: 0.0069\n",
      "Epoch 402/500\n",
      "60000/60000 [==============================] - 6s 97us/step - loss: 0.0070\n",
      "Epoch 403/500\n",
      "60000/60000 [==============================] - 6s 97us/step - loss: 0.0070\n",
      "Epoch 404/500\n",
      "60000/60000 [==============================] - 6s 97us/step - loss: 0.0070\n",
      "Epoch 405/500\n",
      "60000/60000 [==============================] - 6s 98us/step - loss: 0.0070\n",
      "Epoch 406/500\n",
      "60000/60000 [==============================] - 6s 97us/step - loss: 0.0070\n",
      "Epoch 407/500\n",
      "60000/60000 [==============================] - 6s 97us/step - loss: 0.0070\n",
      "Epoch 408/500\n",
      "60000/60000 [==============================] - 6s 98us/step - loss: 0.0070\n",
      "Epoch 409/500\n",
      "60000/60000 [==============================] - 6s 97us/step - loss: 0.0069\n",
      "Epoch 410/500\n",
      "60000/60000 [==============================] - 6s 97us/step - loss: 0.0070\n",
      "Epoch 411/500\n",
      "60000/60000 [==============================] - 6s 97us/step - loss: 0.0069\n",
      "Epoch 412/500\n",
      "60000/60000 [==============================] - 6s 98us/step - loss: 0.0070\n",
      "Epoch 413/500\n",
      "60000/60000 [==============================] - 6s 97us/step - loss: 0.0069\n",
      "Epoch 414/500\n",
      "60000/60000 [==============================] - 6s 98us/step - loss: 0.0070\n",
      "Epoch 415/500\n",
      "60000/60000 [==============================] - 6s 97us/step - loss: 0.0070\n",
      "Epoch 416/500\n",
      "60000/60000 [==============================] - 6s 98us/step - loss: 0.0070\n",
      "Epoch 417/500\n",
      "60000/60000 [==============================] - 6s 98us/step - loss: 0.0070\n",
      "Epoch 418/500\n",
      "60000/60000 [==============================] - 6s 97us/step - loss: 0.0070\n",
      "Epoch 419/500\n",
      "60000/60000 [==============================] - 6s 98us/step - loss: 0.0069\n",
      "Epoch 420/500\n",
      "60000/60000 [==============================] - 6s 97us/step - loss: 0.0069\n",
      "Epoch 421/500\n",
      "60000/60000 [==============================] - 6s 97us/step - loss: 0.0069\n",
      "Epoch 422/500\n",
      "60000/60000 [==============================] - 6s 97us/step - loss: 0.0070\n",
      "Epoch 423/500\n",
      "60000/60000 [==============================] - 6s 97us/step - loss: 0.0070\n",
      "Epoch 424/500\n",
      "60000/60000 [==============================] - 6s 97us/step - loss: 0.0070\n",
      "Epoch 425/500\n",
      "60000/60000 [==============================] - 6s 98us/step - loss: 0.0069\n",
      "Epoch 426/500\n",
      "60000/60000 [==============================] - 6s 97us/step - loss: 0.0069\n",
      "Epoch 427/500\n",
      "60000/60000 [==============================] - 6s 97us/step - loss: 0.0069\n",
      "Epoch 428/500\n",
      "60000/60000 [==============================] - 6s 97us/step - loss: 0.0069\n",
      "Epoch 429/500\n",
      "60000/60000 [==============================] - 6s 97us/step - loss: 0.0070\n",
      "Epoch 430/500\n",
      "60000/60000 [==============================] - 6s 97us/step - loss: 0.0069\n",
      "Epoch 431/500\n",
      "60000/60000 [==============================] - 6s 97us/step - loss: 0.0069\n",
      "Epoch 432/500\n",
      "60000/60000 [==============================] - 6s 97us/step - loss: 0.0070\n",
      "Epoch 433/500\n",
      "60000/60000 [==============================] - 6s 97us/step - loss: 0.0069\n",
      "Epoch 434/500\n",
      "60000/60000 [==============================] - 6s 97us/step - loss: 0.0069: 0s - los\n",
      "Epoch 435/500\n",
      "60000/60000 [==============================] - 6s 97us/step - loss: 0.0069\n",
      "Epoch 436/500\n",
      "60000/60000 [==============================] - 6s 97us/step - loss: 0.0069\n",
      "Epoch 437/500\n",
      "60000/60000 [==============================] - 6s 97us/step - loss: 0.0069\n",
      "Epoch 438/500\n",
      "60000/60000 [==============================] - 6s 97us/step - loss: 0.0069\n",
      "Epoch 439/500\n",
      "60000/60000 [==============================] - 6s 97us/step - loss: 0.0070\n",
      "Epoch 440/500\n",
      "60000/60000 [==============================] - 6s 97us/step - loss: 0.0069\n",
      "Epoch 441/500\n",
      "60000/60000 [==============================] - 6s 97us/step - loss: 0.0069\n",
      "Epoch 442/500\n",
      "60000/60000 [==============================] - 6s 97us/step - loss: 0.0069\n",
      "Epoch 443/500\n",
      "60000/60000 [==============================] - 6s 98us/step - loss: 0.0069\n",
      "Epoch 444/500\n",
      "60000/60000 [==============================] - 6s 97us/step - loss: 0.0069\n",
      "Epoch 445/500\n",
      "60000/60000 [==============================] - 6s 97us/step - loss: 0.0069\n",
      "Epoch 446/500\n",
      "60000/60000 [==============================] - 6s 97us/step - loss: 0.0069\n",
      "Epoch 447/500\n",
      "60000/60000 [==============================] - 6s 97us/step - loss: 0.0069\n",
      "Epoch 448/500\n",
      "60000/60000 [==============================] - 6s 97us/step - loss: 0.0069\n",
      "Epoch 449/500\n",
      "60000/60000 [==============================] - 6s 97us/step - loss: 0.0069\n",
      "Epoch 450/500\n",
      "60000/60000 [==============================] - 6s 97us/step - loss: 0.0069\n",
      "Epoch 451/500\n",
      "60000/60000 [==============================] - 6s 97us/step - loss: 0.0068: 0s - loss: 0\n",
      "Epoch 452/500\n",
      "60000/60000 [==============================] - 6s 97us/step - loss: 0.0069\n",
      "Epoch 453/500\n",
      "60000/60000 [==============================] - 6s 97us/step - loss: 0.0068\n",
      "Epoch 454/500\n",
      "60000/60000 [==============================] - 6s 97us/step - loss: 0.0069\n",
      "Epoch 455/500\n",
      "60000/60000 [==============================] - 6s 97us/step - loss: 0.0069\n",
      "Epoch 456/500\n",
      "60000/60000 [==============================] - 6s 97us/step - loss: 0.0068\n",
      "Epoch 457/500\n",
      "60000/60000 [==============================] - 6s 97us/step - loss: 0.0069: 0s - los\n",
      "Epoch 458/500\n",
      "60000/60000 [==============================] - 6s 97us/step - loss: 0.0069\n",
      "Epoch 459/500\n"
     ]
    },
    {
     "name": "stdout",
     "output_type": "stream",
     "text": [
      "60000/60000 [==============================] - 6s 97us/step - loss: 0.0069\n",
      "Epoch 460/500\n",
      "60000/60000 [==============================] - 6s 98us/step - loss: 0.0069\n",
      "Epoch 461/500\n",
      "60000/60000 [==============================] - 6s 97us/step - loss: 0.0069\n",
      "Epoch 462/500\n",
      "60000/60000 [==============================] - 6s 97us/step - loss: 0.0069\n",
      "Epoch 463/500\n",
      "60000/60000 [==============================] - 6s 97us/step - loss: 0.0069\n",
      "Epoch 464/500\n",
      "60000/60000 [==============================] - 6s 97us/step - loss: 0.0069\n",
      "Epoch 465/500\n",
      "60000/60000 [==============================] - 6s 98us/step - loss: 0.0068\n",
      "Epoch 466/500\n",
      "60000/60000 [==============================] - 6s 97us/step - loss: 0.0069\n",
      "Epoch 467/500\n",
      "60000/60000 [==============================] - 6s 98us/step - loss: 0.0068\n",
      "Epoch 468/500\n",
      "60000/60000 [==============================] - 6s 98us/step - loss: 0.0069:\n",
      "Epoch 469/500\n",
      "60000/60000 [==============================] - 6s 97us/step - loss: 0.0068\n",
      "Epoch 470/500\n",
      "60000/60000 [==============================] - 6s 98us/step - loss: 0.0069\n",
      "Epoch 471/500\n",
      "60000/60000 [==============================] - 6s 98us/step - loss: 0.0069\n",
      "Epoch 472/500\n",
      "60000/60000 [==============================] - 6s 97us/step - loss: 0.0068\n",
      "Epoch 473/500\n",
      "60000/60000 [==============================] - 6s 97us/step - loss: 0.0068\n",
      "Epoch 474/500\n",
      "60000/60000 [==============================] - 6s 97us/step - loss: 0.0069\n",
      "Epoch 475/500\n",
      "60000/60000 [==============================] - 6s 98us/step - loss: 0.0069\n",
      "Epoch 476/500\n",
      "60000/60000 [==============================] - 6s 98us/step - loss: 0.0068\n",
      "Epoch 477/500\n",
      "60000/60000 [==============================] - 6s 97us/step - loss: 0.0068: 0s - loss: 0.006\n",
      "Epoch 478/500\n",
      "60000/60000 [==============================] - 6s 97us/step - loss: 0.0069\n",
      "Epoch 479/500\n",
      "60000/60000 [==============================] - 6s 98us/step - loss: 0.0068\n",
      "Epoch 480/500\n",
      "60000/60000 [==============================] - 6s 97us/step - loss: 0.0068\n",
      "Epoch 481/500\n",
      "60000/60000 [==============================] - 6s 97us/step - loss: 0.0068: 0s - loss: 0.00\n",
      "Epoch 482/500\n",
      "60000/60000 [==============================] - 6s 98us/step - loss: 0.0068\n",
      "Epoch 483/500\n",
      "60000/60000 [==============================] - 6s 97us/step - loss: 0.0068\n",
      "Epoch 484/500\n",
      "60000/60000 [==============================] - 6s 98us/step - loss: 0.0069\n",
      "Epoch 485/500\n",
      "60000/60000 [==============================] - 6s 98us/step - loss: 0.0068\n",
      "Epoch 486/500\n",
      "60000/60000 [==============================] - 6s 98us/step - loss: 0.0068\n",
      "Epoch 487/500\n",
      "60000/60000 [==============================] - 6s 98us/step - loss: 0.0069\n",
      "Epoch 488/500\n",
      "60000/60000 [==============================] - 6s 97us/step - loss: 0.0068\n",
      "Epoch 489/500\n",
      "60000/60000 [==============================] - 6s 97us/step - loss: 0.0068\n",
      "Epoch 490/500\n",
      "60000/60000 [==============================] - 6s 98us/step - loss: 0.0068\n",
      "Epoch 491/500\n",
      "60000/60000 [==============================] - 6s 97us/step - loss: 0.0068\n",
      "Epoch 492/500\n",
      "60000/60000 [==============================] - 6s 97us/step - loss: 0.0069: 0s - l\n",
      "Epoch 493/500\n",
      "60000/60000 [==============================] - 6s 97us/step - loss: 0.0068\n",
      "Epoch 494/500\n",
      "60000/60000 [==============================] - 6s 97us/step - loss: 0.0067\n",
      "Epoch 495/500\n",
      "60000/60000 [==============================] - 6s 97us/step - loss: 0.0069\n",
      "Epoch 496/500\n",
      "60000/60000 [==============================] - 6s 97us/step - loss: 0.0068\n",
      "Epoch 497/500\n",
      "60000/60000 [==============================] - 6s 98us/step - loss: 0.0068\n",
      "Epoch 498/500\n",
      "60000/60000 [==============================] - 6s 98us/step - loss: 0.0068\n",
      "Epoch 499/500\n",
      "60000/60000 [==============================] - 6s 98us/step - loss: 0.0068\n",
      "Epoch 500/500\n",
      "60000/60000 [==============================] - 6s 97us/step - loss: 0.0068\n"
     ]
    }
   ],
   "source": [
    "autoencoder_complex = ae.Train(x_train_org = x_train_org, batch_size = batch_size, epochs = epochs)"
   ]
  },
  {
   "cell_type": "markdown",
   "metadata": {},
   "source": [
    "#### 模組 - 儲存"
   ]
  },
  {
   "cell_type": "code",
   "execution_count": 149,
   "metadata": {
    "scrolled": true
   },
   "outputs": [],
   "source": [
    "model_name_complex = outputFolder + \"model_complex\"+\"_e\"+str(epochs)+\"_b\" + str(batch_size) + \\\n",
    "                    \"class.h5\"\n",
    "#                     \"_\" + \"-\".join([str(i) for i in time.localtime()[0:5]]) +\\"
   ]
  },
  {
   "cell_type": "code",
   "execution_count": 150,
   "metadata": {},
   "outputs": [],
   "source": [
    "autoencoder_complex.save(model_name_complex)"
   ]
  },
  {
   "cell_type": "markdown",
   "metadata": {},
   "source": [
    "#### 模組 - 使用與輸出"
   ]
  },
  {
   "cell_type": "code",
   "execution_count": 151,
   "metadata": {},
   "outputs": [],
   "source": [
    "decodeImg_test = autoencoder_complex.predict(x_test_noise)\n",
    "decodeImg_test = DataRecovery(decodeImg_test)"
   ]
  },
  {
   "cell_type": "code",
   "execution_count": 152,
   "metadata": {},
   "outputs": [],
   "source": [
    "# decodeImg_test = PredictFlow(x_test_noise, decodeImg_test, boolPredict = True)"
   ]
  },
  {
   "cell_type": "code",
   "execution_count": 153,
   "metadata": {},
   "outputs": [
    {
     "data": {
      "image/png": "[encoded data removed]",
      "text/plain": [
       "<Figure size 432x288 with 1 Axes>"
      ]
     },
     "metadata": {},
     "output_type": "display_data"
    }
   ],
   "source": [
    "ResultImgShow(decodeImg_test, model_name_complex, strImgLabel = \"AFTER\");"
   ]
  },
  {
   "cell_type": "markdown",
   "metadata": {},
   "source": [
    "### 計算結果 - 複雜版"
   ]
  },
  {
   "cell_type": "code",
   "execution_count": 154,
   "metadata": {},
   "outputs": [
    {
     "name": "stdout",
     "output_type": "stream",
     "text": [
      " PSNR: 24.480315213847444\n",
      " SSIM: 0.9472577762207038\n"
     ]
    }
   ],
   "source": [
    "PSNR_ALL(decodeImg_test, x_test_org, strImgLabel = \"\");\n",
    "SSIM_ALL(decodeImg_test, x_test_org, strImgLabel = \"\");"
   ]
  },
  {
   "cell_type": "markdown",
   "metadata": {},
   "source": [
    "###### 清除"
   ]
  },
  {
   "cell_type": "code",
   "execution_count": 155,
   "metadata": {},
   "outputs": [],
   "source": [
    "del autoencoder_complex\n",
    "del decodeImg_test"
   ]
  },
  {
   "cell_type": "markdown",
   "metadata": {},
   "source": [
    "###### 運行時間"
   ]
  },
  {
   "cell_type": "code",
   "execution_count": 156,
   "metadata": {},
   "outputs": [
    {
     "name": "stdout",
     "output_type": "stream",
     "text": [
      "It cost 3211.592284679413 sec.\n"
     ]
    }
   ],
   "source": [
    "_midTime = time.time()\n",
    "print(\"It cost\", _midTime - _startTime, \"sec.\")"
   ]
  },
  {
   "cell_type": "markdown",
   "metadata": {},
   "source": [
    "## 模組架設 - 簡單版"
   ]
  },
  {
   "cell_type": "raw",
   "metadata": {},
   "source": [
    "## 法 2 - 比較有效率\n",
    "input_img = Input(shape=(784,))\n",
    "# encoder layers\n",
    "encoder_output = Dense(50)(input_img)\n",
    "# decoder layers\n",
    "decoded = Dense(784, activation='tanh')(encoder_output)\n",
    "# construct the autoencoder model\n",
    "autoencoder_simple = Model(input=input_img, output=decoded)"
   ]
  },
  {
   "cell_type": "markdown",
   "metadata": {},
   "source": [
    "#### 模組 - 簡介"
   ]
  },
  {
   "cell_type": "raw",
   "metadata": {},
   "source": [
    "autoencoder_simple.summary()"
   ]
  },
  {
   "cell_type": "markdown",
   "metadata": {},
   "source": [
    "#### 模組 - 架設"
   ]
  },
  {
   "cell_type": "raw",
   "metadata": {},
   "source": [
    "autoencoder_simple.compile(optimizer='adam', loss='mse')"
   ]
  },
  {
   "cell_type": "markdown",
   "metadata": {},
   "source": [
    "#### 模組 - 訓練\n",
    "用完整圖片訓練，完整圖片比對"
   ]
  },
  {
   "cell_type": "raw",
   "metadata": {},
   "source": [
    "history_simple = autoencoder_simple.fit(x_train_org, x_train_org, # 訓練資料、結果比對資料\n",
    "                    batch_size=batch_size, #\n",
    "                    epochs=epochs)"
   ]
  },
  {
   "cell_type": "markdown",
   "metadata": {},
   "source": [
    "#### 模組 - 儲存"
   ]
  },
  {
   "cell_type": "raw",
   "metadata": {},
   "source": [
    "model_name_simple = outputFolder + \"model_simple\"+\"_e\"+str(epochs)+\"_b\"+str(batch_size) + \\\n",
    "                    \".h5\"\n",
    "#                     \"_\" + \"-\".join([str(i) for i in time.localtime()[0:5]]) +\\"
   ]
  },
  {
   "cell_type": "raw",
   "metadata": {},
   "source": [
    "autoencoder_simple.save(model_name_simple)"
   ]
  },
  {
   "cell_type": "markdown",
   "metadata": {},
   "source": [
    "#### 模組 - 使用與輸出"
   ]
  },
  {
   "cell_type": "raw",
   "metadata": {},
   "source": [
    "decodeImg_test_simple = autoencoder_simple.predict(x_test_noise)\n",
    "decodeImg_test_simple = DataRecovery(decodeImg_test_simple)"
   ]
  },
  {
   "cell_type": "raw",
   "metadata": {},
   "source": [
    "ResultImgShow(decodeImg_test_simple, model_name_simple, strImgLabel = \"AFTER\")"
   ]
  },
  {
   "cell_type": "markdown",
   "metadata": {},
   "source": [
    "### 計算結果 - 簡單版"
   ]
  },
  {
   "cell_type": "raw",
   "metadata": {},
   "source": [
    "PSNR_ALL(decodeImg_test_simple, x_test_org, strImgLabel = \"\");\n",
    "SSIM_ALL(decodeImg_test_simple, x_test_org, strImgLabel = \"\");"
   ]
  },
  {
   "cell_type": "markdown",
   "metadata": {},
   "source": [
    "###### 清除"
   ]
  },
  {
   "cell_type": "raw",
   "metadata": {},
   "source": [
    "del autoencoder_simple\n",
    "del decodeImg_test_simple"
   ]
  },
  {
   "cell_type": "markdown",
   "metadata": {},
   "source": [
    "###### 運行時間"
   ]
  },
  {
   "cell_type": "raw",
   "metadata": {},
   "source": [
    "_endTime = time.time()\n",
    "print(\"It cost\", _endTime - _midTime, \"sec.\")"
   ]
  },
  {
   "cell_type": "code",
   "execution_count": 157,
   "metadata": {},
   "outputs": [
    {
     "ename": "NameError",
     "evalue": "name '_endTime' is not defined",
     "output_type": "error",
     "traceback": [
      "\u001b[1;31m---------------------------------------------------------------------------\u001b[0m",
      "\u001b[1;31mNameError\u001b[0m                                 Traceback (most recent call last)",
      "\u001b[1;32m<ipython-input-157-4f1148cf9812>\u001b[0m in \u001b[0;36m<module>\u001b[1;34m()\u001b[0m\n\u001b[1;32m----> 1\u001b[1;33m \u001b[0mprint\u001b[0m\u001b[1;33m(\u001b[0m\u001b[1;34m\"Total cost\"\u001b[0m\u001b[1;33m,\u001b[0m \u001b[0m_endTime\u001b[0m \u001b[1;33m-\u001b[0m \u001b[0m_startTime\u001b[0m\u001b[1;33m,\u001b[0m \u001b[1;34m\"sec.\"\u001b[0m\u001b[1;33m)\u001b[0m\u001b[1;33m\u001b[0m\u001b[0m\n\u001b[0m",
      "\u001b[1;31mNameError\u001b[0m: name '_endTime' is not defined"
     ]
    }
   ],
   "source": [
    "print(\"Total cost\", _endTime - _startTime, \"sec.\")"
   ]
  }
 ],
 "metadata": {
  "kernelspec": {
   "display_name": "Python 3",
   "language": "python",
   "name": "python3"
  },
  "language_info": {
   "codemirror_mode": {
    "name": "ipython",
    "version": 3
   },
   "file_extension": ".py",
   "mimetype": "text/x-python",
   "name": "python",
   "nbconvert_exporter": "python",
   "pygments_lexer": "ipython3",
   "version": "3.6.5"
  }
 },
 "nbformat": 4,
 "nbformat_minor": 2
}
