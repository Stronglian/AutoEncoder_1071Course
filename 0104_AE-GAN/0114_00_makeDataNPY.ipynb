{
  "nbformat": 4,
  "nbformat_minor": 0,
  "metadata": {
    "colab": {
      "name": "0114_00_makeDataNPY",
      "version": "0.3.2",
      "provenance": []
    },
    "kernelspec": {
      "name": "python3",
      "display_name": "Python 3"
    }
  },
  "cells": [
    {
      "metadata": {
        "id": "_Di-FjIXCF7G",
        "colab_type": "code",
        "colab": {}
      },
      "cell_type": "code",
      "source": [
        "import numpy as np\n",
        "import os, cv2"
      ],
      "execution_count": 0,
      "outputs": []
    },
    {
      "metadata": {
        "id": "gZjoFXFRCT4F",
        "colab_type": "code",
        "outputId": "02f2bada-d928-44d6-88d0-6d84668cfcca",
        "colab": {
          "base_uri": "https://localhost:8080/",
          "height": 34
        }
      },
      "cell_type": "code",
      "source": [
        "from google.colab import drive\n",
        "# 連接雲端\n",
        "drive.mount('/content/gdrive')"
      ],
      "execution_count": 0,
      "outputs": [
        {
          "output_type": "stream",
          "text": [
            "Drive already mounted at /content/gdrive; to attempt to forcibly remount, call drive.mount(\"/content/gdrive\", force_remount=True).\n"
          ],
          "name": "stdout"
        }
      ]
    },
    {
      "metadata": {
        "id": "t-nRiEwRCaYv",
        "colab_type": "code",
        "outputId": "1c701b6a-e9b2-4e2f-c566-251bb1c01e47",
        "colab": {
          "base_uri": "https://localhost:8080/",
          "height": 136
        }
      },
      "cell_type": "code",
      "source": [
        "mainFolder = \"/content/gdrive/My Drive/Colab Notebooks/0104_AE-GAN/\"\n",
        "os.listdir(mainFolder)"
      ],
      "execution_count": 0,
      "outputs": [
        {
          "output_type": "execute_result",
          "data": {
            "text/plain": [
              "['poker_data_PCA60',\n",
              " 'poker_data_org',\n",
              " 'poker_data_PCA80',\n",
              " '0114_GAN.ipynb',\n",
              " '0114_AE.ipynb',\n",
              " 'AE.log',\n",
              " '0114_00_makeDataNPY.ipynb']"
            ]
          },
          "metadata": {
            "tags": []
          },
          "execution_count": 4
        }
      ]
    },
    {
      "metadata": {
        "id": "pL2vAMv5CdtV",
        "colab_type": "code",
        "colab": {}
      },
      "cell_type": "code",
      "source": [
        "listTestImg = [32, 37, 46, 50, 21, 26, 9, 12]"
      ],
      "execution_count": 0,
      "outputs": []
    },
    {
      "metadata": {
        "id": "lg6d3bJ0C32H",
        "colab_type": "code",
        "colab": {}
      },
      "cell_type": "code",
      "source": [
        "orgDataFolder = mainFolder + \"poker_data_org/\"\n",
        "noiseDataFolder = mainFolder + \"poker_data_PCA60/\""
      ],
      "execution_count": 0,
      "outputs": []
    },
    {
      "metadata": {
        "id": "PdH1t2X5DiB6",
        "colab_type": "code",
        "colab": {}
      },
      "cell_type": "code",
      "source": [
        "def CombineDataToDict(DataFolder):\n",
        "    dictOutput = {\"test\":[], \"train\":[]}\n",
        "    # SORT\n",
        "    DataNameList = np.array(os.listdir(DataFolder))\n",
        "    subfileName = \".BMP\" # DataNameList[0].rsplit(\".\")[1]\n",
        "    DataNameArg = np.argsort(np.array([ int(na.rsplit(\".\")[0]) for na in DataNameList ]))\n",
        "    DataNameList = DataNameList[ DataNameArg ]\n",
        "    # READ\n",
        "    for i, photoname in enumerate(DataNameList):\n",
        "        img = cv2.imread(DataFolder + photoname, 0)\n",
        "        if i in listTestImg:\n",
        "            dictOutput[\"test\"].append(img)\n",
        "        else:\n",
        "            dictOutput[\"train\"].append(img)\n",
        "    return dictOutput"
      ],
      "execution_count": 0,
      "outputs": []
    },
    {
      "metadata": {
        "id": "DM04GWkBFSIj",
        "colab_type": "code",
        "colab": {}
      },
      "cell_type": "code",
      "source": [
        "dict_org = CombineDataToDict(orgDataFolder)\n",
        "np.save(mainFolder + \"org.npy\", dict_org)\n",
        "\n",
        "dict_pca60 = CombineDataToDict(noiseDataFolder)\n",
        "np.save(mainFolder + \"pca60.npy\", dict_pca60)"
      ],
      "execution_count": 0,
      "outputs": []
    },
    {
      "metadata": {
        "id": "G4dWs2IYF-cX",
        "colab_type": "code",
        "colab": {}
      },
      "cell_type": "code",
      "source": [
        ""
      ],
      "execution_count": 0,
      "outputs": []
    }
  ]
}