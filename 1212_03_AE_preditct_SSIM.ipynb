{
 "cells": [
  {
   "cell_type": "markdown",
   "metadata": {},
   "source": [
    "參考資料：\n",
    "1. https://morvanzhou.github.io/tutorials/machine-learning/keras/3-1-save/\n",
    "- http://scikit-image.org/docs/dev/api/skimage.measure.html#skimage.measure.compare_psnr\n",
    "- http://scikit-image.org/docs/dev/api/skimage.measure.html#skimage.measure.compare_ssim"
   ]
  },
  {
   "cell_type": "code",
   "execution_count": 28,
   "metadata": {},
   "outputs": [],
   "source": [
    "import time"
   ]
  },
  {
   "cell_type": "code",
   "execution_count": 29,
   "metadata": {},
   "outputs": [],
   "source": [
    "import numpy as np\n",
    "# np.random.seed(1337)  # for reproducibility\n",
    "from matplotlib import pyplot as plt"
   ]
  },
  {
   "cell_type": "code",
   "execution_count": 30,
   "metadata": {},
   "outputs": [],
   "source": [
    "from skimage.measure import compare_psnr, compare_ssim"
   ]
  },
  {
   "cell_type": "code",
   "execution_count": 31,
   "metadata": {},
   "outputs": [],
   "source": [
    "from keras.models import Sequential\n",
    "from keras.layers import Dense\n",
    "from keras.models import load_model"
   ]
  },
  {
   "cell_type": "code",
   "execution_count": 32,
   "metadata": {},
   "outputs": [],
   "source": [
    "def CheckType(intVar):\n",
    "    print(\"max:\", intVar.max())\n",
    "    print(\"min:\", intVar.min())\n",
    "    print(\"shape:\", intVar.shape)\n",
    "    print(\"type:\", intVar.dtype)\n",
    "    return"
   ]
  },
  {
   "cell_type": "markdown",
   "metadata": {},
   "source": [
    "###### OWN func "
   ]
  },
  {
   "cell_type": "code",
   "execution_count": 33,
   "metadata": {},
   "outputs": [],
   "source": [
    "def ResultImgShow(decodeImg, strImgLabel = \"TMP\"):\n",
    "    img0 = decodeImg[0]\n",
    "    for i in range(1, 20):\n",
    "        img1 = decodeImg[i]\n",
    "        img0 = np.hstack((img0, img1))\n",
    "    plt.imshow(img0, cmap = \"gray\")\n",
    "#     plt.savefig(model_name.split(\".\")[0] +\"_\"+ (\"TEST\" if boolTest else \"TRAIN\")+ \".png\")\n",
    "    plt.savefig(model_name.split(\".\")[0] +\"_\"+ strImgLabel+ \".png\")\n",
    "    plt.show()\n",
    "    plt.close()\n",
    "    return"
   ]
  },
  {
   "cell_type": "code",
   "execution_count": 34,
   "metadata": {},
   "outputs": [],
   "source": [
    "def PSNR_ALL(testData, truthData, strImgLabel = \"TMP\", boolTest = False):\n",
    "    psnrSum_test = 0\n",
    "    for i in range(testData.shape[0]):\n",
    "        groundTruth   = truthData[i, :,:]\n",
    "        predictResult = testData[i, :,:]\n",
    "        psnrTmp = float(compare_psnr(groundTruth, predictResult))\n",
    "        psnrSum_test += psnrTmp\n",
    "    psnrSum_test /= testData.shape[0]\n",
    "#     print(\"TEST\" if boolTest else \"TRAIN\" ,\"PSNR:\", psnrSum_test)\n",
    "    print(strImgLabel, \"PSNR:\", psnrSum_test)\n",
    "    return psnrSum_test"
   ]
  },
  {
   "cell_type": "code",
   "execution_count": 35,
   "metadata": {},
   "outputs": [],
   "source": [
    "def SSIM_ALL(testData, truthData, strImgLabel = \"TMP\", boolTest = False):\n",
    "    ssimSum_test = 0\n",
    "    for i in range(testData.shape[0]):\n",
    "        groundTruth   = truthData[i, :,:]\n",
    "        predictResult = testData[i, :,:]\n",
    "        ssimTmp = float(compare_ssim(groundTruth, predictResult))\n",
    "        ssimSum_test += ssimTmp\n",
    "    ssimSum_test /= testData.shape[0]\n",
    "    print(strImgLabel, \"SSIM:\", ssimSum_test)\n",
    "    return ssimSum_test"
   ]
  },
  {
   "cell_type": "markdown",
   "metadata": {},
   "source": [
    "###### START - LOAD"
   ]
  },
  {
   "cell_type": "code",
   "execution_count": 36,
   "metadata": {},
   "outputs": [],
   "source": [
    "# model_name = 'model_2_e50_b128.h5'\n",
    "model_name = \"model_2_e50_b128_2018-12-6-20-57.h5\""
   ]
  },
  {
   "cell_type": "code",
   "execution_count": 37,
   "metadata": {},
   "outputs": [],
   "source": [
    "dataSetName = \"mnist-pria-awgn_snr=10.npz\"\n",
    "f = np.load(dataSetName)\n",
    "x_train, y_train = f['x_train'], f['y_train']\n",
    "x_test, y_test = f['x_test'], f['y_test']\n",
    "del f"
   ]
  },
  {
   "cell_type": "raw",
   "metadata": {},
   "source": [
    "dataSetName_org = \"mnist.npz\"\n",
    "f = np.load(dataSetName_org)\n",
    "x_org, y_org = f['x_train'], f['y_train']\n",
    "# x_test, y_test = f['x_test'], f['y_test']\n",
    "del f"
   ]
  },
  {
   "cell_type": "code",
   "execution_count": 39,
   "metadata": {},
   "outputs": [],
   "source": [
    "model = load_model(model_name)"
   ]
  },
  {
   "cell_type": "markdown",
   "metadata": {},
   "source": [
    "### TEST"
   ]
  },
  {
   "cell_type": "markdown",
   "metadata": {},
   "source": [
    "###### TEST DATA "
   ]
  },
  {
   "cell_type": "code",
   "execution_count": 40,
   "metadata": {},
   "outputs": [
    {
     "name": "stdout",
     "output_type": "stream",
     "text": [
      "(10000, 28, 28) test samples\n",
      "(10000, 784) test samples\n"
     ]
    }
   ],
   "source": [
    "x_test_forPredict = x_test.reshape(10000, 784).astype('float32') / 255 -0.5\n",
    "print(x_test.shape, 'test samples')\n",
    "print(x_test_forPredict.shape, 'test samples')"
   ]
  },
  {
   "cell_type": "code",
   "execution_count": 41,
   "metadata": {},
   "outputs": [
    {
     "name": "stdout",
     "output_type": "stream",
     "text": [
      "max: 0.5\n",
      "min: -0.5\n",
      "shape: (10000, 784)\n",
      "type: float32\n"
     ]
    }
   ],
   "source": [
    "CheckType(x_test_forPredict)"
   ]
  },
  {
   "cell_type": "markdown",
   "metadata": {},
   "source": [
    "###### TEST PREDICT"
   ]
  },
  {
   "cell_type": "code",
   "execution_count": 42,
   "metadata": {
    "scrolled": true
   },
   "outputs": [],
   "source": [
    "decodeImg_test = model.predict(x_test_forPredict)"
   ]
  },
  {
   "cell_type": "code",
   "execution_count": 43,
   "metadata": {},
   "outputs": [
    {
     "name": "stdout",
     "output_type": "stream",
     "text": [
      "max: 0.9709336\n",
      "min: -0.9980747\n",
      "shape: (10000, 784)\n",
      "type: float32\n"
     ]
    }
   ],
   "source": [
    "CheckType(decodeImg_test)"
   ]
  },
  {
   "cell_type": "code",
   "execution_count": 44,
   "metadata": {},
   "outputs": [],
   "source": [
    "# decodeImg_test = (decodeImg_test + 0.5) * 255\n",
    "decodeImg_test = ((decodeImg_test/2)+0.5) * 255"
   ]
  },
  {
   "cell_type": "code",
   "execution_count": 45,
   "metadata": {},
   "outputs": [
    {
     "name": "stdout",
     "output_type": "stream",
     "text": [
      "max: 251.29404\n",
      "min: 0.24547443\n",
      "shape: (10000, 784)\n",
      "type: float32\n"
     ]
    }
   ],
   "source": [
    "CheckType(decodeImg_test)"
   ]
  },
  {
   "cell_type": "code",
   "execution_count": 46,
   "metadata": {},
   "outputs": [],
   "source": [
    "decodeImg_test = np.reshape(decodeImg_test, (decodeImg_test.shape[0], 28, 28)).astype(np.uint8)"
   ]
  },
  {
   "cell_type": "raw",
   "metadata": {},
   "source": [
    "img0 = decodeImg_test[0]\n",
    "for i in range(1, 20):\n",
    "    img1 = decodeImg_test[i]\n",
    "    img0 = np.hstack((img0, img1))"
   ]
  },
  {
   "cell_type": "raw",
   "metadata": {},
   "source": [
    "plt.imshow(img0, cmap = \"gray\")\n",
    "plt.savefig(model_name.split(\".\")[0] + \".png\")\n",
    "plt.show()"
   ]
  },
  {
   "cell_type": "code",
   "execution_count": 47,
   "metadata": {},
   "outputs": [
    {
     "name": "stdout",
     "output_type": "stream",
     "text": [
      "max: 251\n",
      "min: 0\n",
      "shape: (10000, 28, 28)\n",
      "type: uint8\n"
     ]
    }
   ],
   "source": [
    "CheckType(decodeImg_test)"
   ]
  },
  {
   "cell_type": "markdown",
   "metadata": {},
   "source": [
    "###### TEST cal. PSNR"
   ]
  },
  {
   "cell_type": "raw",
   "metadata": {},
   "source": [
    "psnrSum_test = 0\n",
    "for i in range(decodeImg_test.shape[0]):\n",
    "    groundTruth  = x_test[i, :,:].astype(np.float32)\n",
    "    predictResult = decodeImg_test[i, :,:]\n",
    "    psnrSum_test += compare_psnr(groundTruth, predictResult)\n",
    "psnrSum_test /= decodeImg_test.shape[0]\n",
    "print(\"TEST PSNR:\", psnrSum_test)"
   ]
  },
  {
   "cell_type": "code",
   "execution_count": 48,
   "metadata": {},
   "outputs": [
    {
     "name": "stdout",
     "output_type": "stream",
     "text": [
      "max: 255\n",
      "min: 0\n",
      "shape: (10000, 28, 28)\n",
      "type: uint8\n",
      "max: 251\n",
      "min: 0\n",
      "shape: (10000, 28, 28)\n",
      "type: uint8\n"
     ]
    }
   ],
   "source": [
    "CheckType(x_test)\n",
    "CheckType(decodeImg_test)"
   ]
  },
  {
   "cell_type": "code",
   "execution_count": 50,
   "metadata": {
    "scrolled": false
   },
   "outputs": [
    {
     "name": "stdout",
     "output_type": "stream",
     "text": [
      "TEST PSNR: 18.847679090144066\n"
     ]
    },
    {
     "data": {
      "text/plain": [
       "18.847679090144066"
      ]
     },
     "execution_count": 50,
     "metadata": {},
     "output_type": "execute_result"
    }
   ],
   "source": [
    "PSNR_ALL(decodeImg_test, x_test, strImgLabel = \"TEST\")"
   ]
  },
  {
   "cell_type": "raw",
   "metadata": {},
   "source": [
    "ResultImgShow(decodeImg_test, strImgLabel = \"TEST\")"
   ]
  },
  {
   "cell_type": "markdown",
   "metadata": {},
   "source": [
    "### TRAIN"
   ]
  },
  {
   "cell_type": "markdown",
   "metadata": {},
   "source": [
    "###### TRAIN cal. PSNR"
   ]
  },
  {
   "cell_type": "code",
   "execution_count": 51,
   "metadata": {
    "scrolled": true
   },
   "outputs": [],
   "source": [
    "x_train_forPredict = x_train.reshape(x_train.shape[0], 784).astype('float32') / 255 -0.5\n",
    "decodeImg_train = model.predict(x_train_forPredict)\n",
    "# decodeImg_train = (decodeImg_train + 0.5) * 255\n",
    "decodeImg_train = ((decodeImg_train/2 )+0.5) * 255\n",
    "decodeImg_train = np.reshape(decodeImg_train, (decodeImg_train.shape[0], 28, 28)).astype(np.uint8)"
   ]
  },
  {
   "cell_type": "code",
   "execution_count": 52,
   "metadata": {},
   "outputs": [
    {
     "name": "stdout",
     "output_type": "stream",
     "text": [
      "max: 255\n",
      "min: 0\n",
      "shape: (60000, 28, 28)\n",
      "type: uint8\n",
      "max: 252\n",
      "min: 0\n",
      "shape: (60000, 28, 28)\n",
      "type: uint8\n"
     ]
    }
   ],
   "source": [
    "CheckType(x_train)\n",
    "CheckType(decodeImg_train)"
   ]
  },
  {
   "cell_type": "code",
   "execution_count": 53,
   "metadata": {
    "scrolled": true
   },
   "outputs": [
    {
     "name": "stdout",
     "output_type": "stream",
     "text": [
      "TRAIN PSNR: 19.08714323989004\n"
     ]
    },
    {
     "data": {
      "text/plain": [
       "19.08714323989004"
      ]
     },
     "execution_count": 53,
     "metadata": {},
     "output_type": "execute_result"
    }
   ],
   "source": [
    "PSNR_ALL(decodeImg_train, x_train, strImgLabel = \"TRAIN\")"
   ]
  },
  {
   "cell_type": "code",
   "execution_count": 54,
   "metadata": {},
   "outputs": [
    {
     "data": {
      "image/png": "[encoded data removed]",
      "text/plain": [
       "<Figure size 432x288 with 1 Axes>"
      ]
     },
     "metadata": {},
     "output_type": "display_data"
    }
   ],
   "source": [
    "ResultImgShow(decodeImg_train, strImgLabel = \"TRAIN\")"
   ]
  },
  {
   "cell_type": "code",
   "execution_count": 58,
   "metadata": {},
   "outputs": [
    {
     "data": {
      "image/png": "[encoded data removed]",
      "text/plain": [
       "<Figure size 432x288 with 1 Axes>"
      ]
     },
     "metadata": {},
     "output_type": "display_data"
    }
   ],
   "source": [
    "ResultImgShow(x_train, strImgLabel = \"TRAIN_org\")"
   ]
  },
  {
   "cell_type": "markdown",
   "metadata": {},
   "source": [
    "### SSIM"
   ]
  },
  {
   "cell_type": "code",
   "execution_count": 55,
   "metadata": {},
   "outputs": [
    {
     "name": "stdout",
     "output_type": "stream",
     "text": [
      "TRAIN PSNR: 0.6784065724934899\n"
     ]
    },
    {
     "data": {
      "text/plain": [
       "0.6784065724934899"
      ]
     },
     "execution_count": 55,
     "metadata": {},
     "output_type": "execute_result"
    }
   ],
   "source": [
    "SSIM_ALL(decodeImg_train, x_train, strImgLabel = \"TRAIN\")"
   ]
  },
  {
   "cell_type": "code",
   "execution_count": 57,
   "metadata": {},
   "outputs": [
    {
     "name": "stdout",
     "output_type": "stream",
     "text": [
      "TEST PSNR: 0.6691932506460575\n"
     ]
    },
    {
     "data": {
      "text/plain": [
       "0.6691932506460575"
      ]
     },
     "execution_count": 57,
     "metadata": {},
     "output_type": "execute_result"
    }
   ],
   "source": [
    "SSIM_ALL(decodeImg_test, x_test, strImgLabel = \"TEST\")"
   ]
  },
  {
   "cell_type": "code",
   "execution_count": null,
   "metadata": {},
   "outputs": [],
   "source": []
  }
 ],
 "metadata": {
  "kernelspec": {
   "display_name": "Python 3",
   "language": "python",
   "name": "python3"
  },
  "language_info": {
   "codemirror_mode": {
    "name": "ipython",
    "version": 3
   },
   "file_extension": ".py",
   "mimetype": "text/x-python",
   "name": "python",
   "nbconvert_exporter": "python",
   "pygments_lexer": "ipython3",
   "version": "3.6.5"
  }
 },
 "nbformat": 4,
 "nbformat_minor": 2
}
