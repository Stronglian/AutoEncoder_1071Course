{
 "cells": [
  {
   "cell_type": "markdown",
   "metadata": {},
   "source": [
    "參考資料：\n",
    "1. https://morvanzhou.github.io/tutorials/machine-learning/keras/3-1-save/\n",
    "- http://scikit-image.org/docs/dev/api/skimage.measure.html#skimage.measure.compare_psnr\n",
    "- http://scikit-image.org/docs/dev/api/skimage.measure.html#skimage.measure.compare_ssim"
   ]
  },
  {
   "cell_type": "code",
   "execution_count": 1,
   "metadata": {},
   "outputs": [],
   "source": [
    "import time"
   ]
  },
  {
   "cell_type": "code",
   "execution_count": 2,
   "metadata": {},
   "outputs": [],
   "source": [
    "import numpy as np\n",
    "# np.random.seed(1337)  # for reproducibility\n",
    "from matplotlib import pyplot as plt"
   ]
  },
  {
   "cell_type": "code",
   "execution_count": 3,
   "metadata": {},
   "outputs": [],
   "source": [
    "from skimage.measure import compare_psnr, compare_ssim"
   ]
  },
  {
   "cell_type": "code",
   "execution_count": 4,
   "metadata": {},
   "outputs": [
    {
     "name": "stderr",
     "output_type": "stream",
     "text": [
      "E:\\Anaconda3\\envs\\TF-Ke\\lib\\site-packages\\h5py\\__init__.py:36: FutureWarning: Conversion of the second argument of issubdtype from `float` to `np.floating` is deprecated. In future, it will be treated as `np.float64 == np.dtype(float).type`.\n",
      "  from ._conv import register_converters as _register_converters\n",
      "Using TensorFlow backend.\n"
     ]
    }
   ],
   "source": [
    "from keras.models import Sequential\n",
    "from keras.layers import Dense\n",
    "from keras.models import load_model"
   ]
  },
  {
   "cell_type": "code",
   "execution_count": 5,
   "metadata": {},
   "outputs": [],
   "source": [
    "def CheckType(intVar):\n",
    "    print(\"max:\", intVar.max())\n",
    "    print(\"min:\", intVar.min())\n",
    "    print(\"shape:\", intVar.shape)\n",
    "    print(\"type:\", intVar.dtype)\n",
    "    return"
   ]
  },
  {
   "cell_type": "markdown",
   "metadata": {},
   "source": [
    "###### OWN func "
   ]
  },
  {
   "cell_type": "code",
   "execution_count": 26,
   "metadata": {},
   "outputs": [],
   "source": [
    "def ResultImgShow(decodeImg, strImgLabel = \"TMP\"):\n",
    "    img0 = decodeImg[0]\n",
    "    for i in range(1, 20):\n",
    "        img1 = decodeImg[i]\n",
    "        img0 = np.hstack((img0, img1))\n",
    "    plt.imshow(img0, cmap = \"gray\")\n",
    "#     plt.savefig(model_name.split(\".\")[0] +\"_\"+ (\"TEST\" if boolTest else \"TRAIN\")+ \".png\")\n",
    "    plt.savefig(model_name.split(\".\")[0] +\"_\"+ strImgLabel+ \".png\")\n",
    "    plt.show()\n",
    "    plt.close()\n",
    "    return"
   ]
  },
  {
   "cell_type": "code",
   "execution_count": 7,
   "metadata": {},
   "outputs": [],
   "source": [
    "def PSNR_ALL(testData, truthData, boolTest = False):\n",
    "    psnrSum_test = 0\n",
    "    for i in range(testData.shape[0]):\n",
    "        groundTruth   = truthData[i, :,:]\n",
    "        predictResult = testData[i, :,:]\n",
    "        psnrTmp = float(compare_psnr(groundTruth, predictResult))\n",
    "        psnrSum_test += psnrTmp\n",
    "    psnrSum_test /= testData.shape[0]\n",
    "    print(\"TEST\" if boolTest else \"TRAIN\" ,\"PSNR:\", psnrSum_test)\n",
    "    return psnrSum_test"
   ]
  },
  {
   "cell_type": "code",
   "execution_count": null,
   "metadata": {},
   "outputs": [],
   "source": [
    "def SSIM_ALL(testData, truthData, boolTest = False):\n",
    "#     psnrSum_test = 0\n",
    "#     for i in range(testData.shape[0]):\n",
    "#         groundTruth   = truthData[i, :,:]\n",
    "#         predictResult = testData[i, :,:]\n",
    "#         psnrTmp = float(compare_psnr(groundTruth, predictResult))\n",
    "#         psnrSum_test += psnrTmp\n",
    "#     psnrSum_test /= testData.shape[0]\n",
    "#     print(\"TEST\" if boolTest else \"TRAIN\" ,\"PSNR:\", psnrSum_test)\n",
    "#     return psnrSum_test\n",
    "    return"
   ]
  },
  {
   "cell_type": "markdown",
   "metadata": {},
   "source": [
    "###### START - LOAD"
   ]
  },
  {
   "cell_type": "code",
   "execution_count": 8,
   "metadata": {},
   "outputs": [],
   "source": [
    "# model_name = 'model_2_e50_b128.h5'\n",
    "model_name = \"model_2_e50_b128_2018-12-6-20-57.h5\""
   ]
  },
  {
   "cell_type": "code",
   "execution_count": 9,
   "metadata": {},
   "outputs": [],
   "source": [
    "dataSetName = \"mnist-pria-awgn_snr=10.npz\"\n",
    "f = np.load(dataSetName)\n",
    "x_train, y_train = f['x_train'], f['y_train']\n",
    "x_test, y_test = f['x_test'], f['y_test']\n",
    "del f"
   ]
  },
  {
   "cell_type": "code",
   "execution_count": 27,
   "metadata": {},
   "outputs": [
    {
     "ename": "FileNotFoundError",
     "evalue": "[Errno 2] No such file or directory: 'mnist.npz'",
     "output_type": "error",
     "traceback": [
      "\u001b[1;31m---------------------------------------------------------------------------\u001b[0m",
      "\u001b[1;31mFileNotFoundError\u001b[0m                         Traceback (most recent call last)",
      "\u001b[1;32m<ipython-input-27-8f0b00348193>\u001b[0m in \u001b[0;36m<module>\u001b[1;34m()\u001b[0m\n\u001b[0;32m      1\u001b[0m \u001b[0mdataSetName_org\u001b[0m \u001b[1;33m=\u001b[0m \u001b[1;34m\"mnist.npz\"\u001b[0m\u001b[1;33m\u001b[0m\u001b[0m\n\u001b[1;32m----> 2\u001b[1;33m \u001b[0mf\u001b[0m \u001b[1;33m=\u001b[0m \u001b[0mnp\u001b[0m\u001b[1;33m.\u001b[0m\u001b[0mload\u001b[0m\u001b[1;33m(\u001b[0m\u001b[0mdataSetName_org\u001b[0m\u001b[1;33m)\u001b[0m\u001b[1;33m\u001b[0m\u001b[0m\n\u001b[0m\u001b[0;32m      3\u001b[0m \u001b[0mx_org\u001b[0m\u001b[1;33m,\u001b[0m \u001b[0my_org\u001b[0m \u001b[1;33m=\u001b[0m \u001b[0mf\u001b[0m\u001b[1;33m[\u001b[0m\u001b[1;34m'x_train'\u001b[0m\u001b[1;33m]\u001b[0m\u001b[1;33m,\u001b[0m \u001b[0mf\u001b[0m\u001b[1;33m[\u001b[0m\u001b[1;34m'y_train'\u001b[0m\u001b[1;33m]\u001b[0m\u001b[1;33m\u001b[0m\u001b[0m\n\u001b[0;32m      4\u001b[0m \u001b[1;31m# x_test, y_test = f['x_test'], f['y_test']\u001b[0m\u001b[1;33m\u001b[0m\u001b[1;33m\u001b[0m\u001b[0m\n\u001b[0;32m      5\u001b[0m \u001b[1;32mdel\u001b[0m \u001b[0mf\u001b[0m\u001b[1;33m\u001b[0m\u001b[0m\n",
      "\u001b[1;32mE:\\Anaconda3\\envs\\TF-Ke\\lib\\site-packages\\numpy\\lib\\npyio.py\u001b[0m in \u001b[0;36mload\u001b[1;34m(file, mmap_mode, allow_pickle, fix_imports, encoding)\u001b[0m\n\u001b[0;32m    370\u001b[0m     \u001b[0mown_fid\u001b[0m \u001b[1;33m=\u001b[0m \u001b[1;32mFalse\u001b[0m\u001b[1;33m\u001b[0m\u001b[0m\n\u001b[0;32m    371\u001b[0m     \u001b[1;32mif\u001b[0m \u001b[0misinstance\u001b[0m\u001b[1;33m(\u001b[0m\u001b[0mfile\u001b[0m\u001b[1;33m,\u001b[0m \u001b[0mbasestring\u001b[0m\u001b[1;33m)\u001b[0m\u001b[1;33m:\u001b[0m\u001b[1;33m\u001b[0m\u001b[0m\n\u001b[1;32m--> 372\u001b[1;33m         \u001b[0mfid\u001b[0m \u001b[1;33m=\u001b[0m \u001b[0mopen\u001b[0m\u001b[1;33m(\u001b[0m\u001b[0mfile\u001b[0m\u001b[1;33m,\u001b[0m \u001b[1;34m\"rb\"\u001b[0m\u001b[1;33m)\u001b[0m\u001b[1;33m\u001b[0m\u001b[0m\n\u001b[0m\u001b[0;32m    373\u001b[0m         \u001b[0mown_fid\u001b[0m \u001b[1;33m=\u001b[0m \u001b[1;32mTrue\u001b[0m\u001b[1;33m\u001b[0m\u001b[0m\n\u001b[0;32m    374\u001b[0m     \u001b[1;32melif\u001b[0m \u001b[0mis_pathlib_path\u001b[0m\u001b[1;33m(\u001b[0m\u001b[0mfile\u001b[0m\u001b[1;33m)\u001b[0m\u001b[1;33m:\u001b[0m\u001b[1;33m\u001b[0m\u001b[0m\n",
      "\u001b[1;31mFileNotFoundError\u001b[0m: [Errno 2] No such file or directory: 'mnist.npz'"
     ]
    }
   ],
   "source": [
    "dataSetName_org = \"mnist.npz\"\n",
    "f = np.load(dataSetName_org)\n",
    "x_org, y_org = f['x_train'], f['y_train']\n",
    "# x_test, y_test = f['x_test'], f['y_test']\n",
    "del f"
   ]
  },
  {
   "cell_type": "code",
   "execution_count": 10,
   "metadata": {},
   "outputs": [],
   "source": [
    "model = load_model(model_name)"
   ]
  },
  {
   "cell_type": "markdown",
   "metadata": {},
   "source": [
    "### TEST"
   ]
  },
  {
   "cell_type": "markdown",
   "metadata": {},
   "source": [
    "###### TEST DATA "
   ]
  },
  {
   "cell_type": "code",
   "execution_count": 11,
   "metadata": {},
   "outputs": [
    {
     "name": "stdout",
     "output_type": "stream",
     "text": [
      "(10000, 28, 28) test samples\n",
      "(10000, 784) test samples\n"
     ]
    }
   ],
   "source": [
    "x_test_forPredict = x_test.reshape(10000, 784).astype('float32') / 255 -0.5\n",
    "print(x_test.shape, 'test samples')\n",
    "print(x_test_forPredict.shape, 'test samples')"
   ]
  },
  {
   "cell_type": "code",
   "execution_count": 12,
   "metadata": {},
   "outputs": [
    {
     "name": "stdout",
     "output_type": "stream",
     "text": [
      "max: 0.5\n",
      "min: -0.5\n",
      "shape: (10000, 784)\n",
      "type: float32\n"
     ]
    }
   ],
   "source": [
    "CheckType(x_test_forPredict)"
   ]
  },
  {
   "cell_type": "markdown",
   "metadata": {},
   "source": [
    "###### TEST PREDICT"
   ]
  },
  {
   "cell_type": "code",
   "execution_count": 13,
   "metadata": {
    "scrolled": true
   },
   "outputs": [],
   "source": [
    "decodeImg_test = model.predict(x_test_forPredict)"
   ]
  },
  {
   "cell_type": "code",
   "execution_count": 14,
   "metadata": {},
   "outputs": [
    {
     "name": "stdout",
     "output_type": "stream",
     "text": [
      "max: 0.9709336\n",
      "min: -0.9980747\n",
      "shape: (10000, 784)\n",
      "type: float32\n"
     ]
    }
   ],
   "source": [
    "CheckType(decodeImg_test)"
   ]
  },
  {
   "cell_type": "code",
   "execution_count": 15,
   "metadata": {},
   "outputs": [],
   "source": [
    "# decodeImg_test = (decodeImg_test + 0.5) * 255\n",
    "decodeImg_test = ((decodeImg_test/2)+0.5) * 255"
   ]
  },
  {
   "cell_type": "code",
   "execution_count": 16,
   "metadata": {},
   "outputs": [
    {
     "name": "stdout",
     "output_type": "stream",
     "text": [
      "max: 251.29404\n",
      "min: 0.24547443\n",
      "shape: (10000, 784)\n",
      "type: float32\n"
     ]
    }
   ],
   "source": [
    "CheckType(decodeImg_test)"
   ]
  },
  {
   "cell_type": "code",
   "execution_count": 17,
   "metadata": {},
   "outputs": [],
   "source": [
    "decodeImg_test = np.reshape(decodeImg_test, (decodeImg_test.shape[0], 28, 28)).astype(np.uint8)"
   ]
  },
  {
   "cell_type": "raw",
   "metadata": {},
   "source": [
    "img0 = decodeImg_test[0]\n",
    "for i in range(1, 20):\n",
    "    img1 = decodeImg_test[i]\n",
    "    img0 = np.hstack((img0, img1))"
   ]
  },
  {
   "cell_type": "raw",
   "metadata": {},
   "source": [
    "plt.imshow(img0, cmap = \"gray\")\n",
    "plt.savefig(model_name.split(\".\")[0] + \".png\")\n",
    "plt.show()"
   ]
  },
  {
   "cell_type": "code",
   "execution_count": 18,
   "metadata": {},
   "outputs": [
    {
     "name": "stdout",
     "output_type": "stream",
     "text": [
      "max: 251\n",
      "min: 0\n",
      "shape: (10000, 28, 28)\n",
      "type: uint8\n"
     ]
    }
   ],
   "source": [
    "CheckType(decodeImg_test)"
   ]
  },
  {
   "cell_type": "markdown",
   "metadata": {},
   "source": [
    "###### TEST cal. PSNR"
   ]
  },
  {
   "cell_type": "raw",
   "metadata": {},
   "source": [
    "psnrSum_test = 0\n",
    "for i in range(decodeImg_test.shape[0]):\n",
    "    groundTruth  = x_test[i, :,:].astype(np.float32)\n",
    "    predictResult = decodeImg_test[i, :,:]\n",
    "    psnrSum_test += compare_psnr(groundTruth, predictResult)\n",
    "psnrSum_test /= decodeImg_test.shape[0]\n",
    "print(\"TEST PSNR:\", psnrSum_test)"
   ]
  },
  {
   "cell_type": "code",
   "execution_count": 19,
   "metadata": {},
   "outputs": [
    {
     "name": "stdout",
     "output_type": "stream",
     "text": [
      "max: 255\n",
      "min: 0\n",
      "shape: (10000, 28, 28)\n",
      "type: uint8\n",
      "max: 251\n",
      "min: 0\n",
      "shape: (10000, 28, 28)\n",
      "type: uint8\n"
     ]
    }
   ],
   "source": [
    "CheckType(x_test)\n",
    "CheckType(decodeImg_test)"
   ]
  },
  {
   "cell_type": "code",
   "execution_count": 20,
   "metadata": {
    "scrolled": false
   },
   "outputs": [
    {
     "name": "stdout",
     "output_type": "stream",
     "text": [
      "TRAIN PSNR: 18.847679090144066\n"
     ]
    },
    {
     "data": {
      "text/plain": [
       "18.847679090144066"
      ]
     },
     "execution_count": 20,
     "metadata": {},
     "output_type": "execute_result"
    }
   ],
   "source": [
    "PSNR_ALL(decodeImg_test, x_test)"
   ]
  },
  {
   "cell_type": "raw",
   "metadata": {},
   "source": [
    "ResultImgShow(decodeImg_test, strImgLabel = \"TRAIN\")"
   ]
  },
  {
   "cell_type": "markdown",
   "metadata": {},
   "source": [
    "### TRAIN"
   ]
  },
  {
   "cell_type": "markdown",
   "metadata": {},
   "source": [
    "###### TRAIN cal. PSNR"
   ]
  },
  {
   "cell_type": "code",
   "execution_count": 22,
   "metadata": {
    "scrolled": true
   },
   "outputs": [],
   "source": [
    "x_train_forPredict = x_train.reshape(x_train.shape[0], 784).astype('float32') / 255 -0.5\n",
    "decodeImg_train = model.predict(x_train_forPredict)\n",
    "# decodeImg_train = (decodeImg_train + 0.5) * 255\n",
    "decodeImg_train = ((decodeImg_train/2 )+0.5) * 255\n",
    "decodeImg_train = np.reshape(decodeImg_train, (decodeImg_train.shape[0], 28, 28)).astype(np.uint8)"
   ]
  },
  {
   "cell_type": "code",
   "execution_count": 23,
   "metadata": {},
   "outputs": [
    {
     "name": "stdout",
     "output_type": "stream",
     "text": [
      "max: 255\n",
      "min: 0\n",
      "shape: (60000, 28, 28)\n",
      "type: uint8\n",
      "max: 252\n",
      "min: 0\n",
      "shape: (60000, 28, 28)\n",
      "type: uint8\n"
     ]
    }
   ],
   "source": [
    "CheckType(x_train)\n",
    "CheckType(decodeImg_train)"
   ]
  },
  {
   "cell_type": "code",
   "execution_count": 24,
   "metadata": {
    "scrolled": true
   },
   "outputs": [
    {
     "name": "stdout",
     "output_type": "stream",
     "text": [
      "TRAIN PSNR: 19.08714323989004\n"
     ]
    },
    {
     "data": {
      "text/plain": [
       "19.08714323989004"
      ]
     },
     "execution_count": 24,
     "metadata": {},
     "output_type": "execute_result"
    }
   ],
   "source": [
    "PSNR_ALL(decodeImg_train, x_train)"
   ]
  },
  {
   "cell_type": "code",
   "execution_count": 25,
   "metadata": {},
   "outputs": [
    {
     "data": {
      "image/png": "[encoded data removed]",
      "text/plain": [
       "<Figure size 432x288 with 1 Axes>"
      ]
     },
     "metadata": {},
     "output_type": "display_data"
    }
   ],
   "source": [
    "ResultImgShow(decodeImg_train, strImgLabel = \"TRAIN\")"
   ]
  },
  {
   "cell_type": "markdown",
   "metadata": {},
   "source": [
    "### SSIM"
   ]
  },
  {
   "cell_type": "code",
   "execution_count": null,
   "metadata": {},
   "outputs": [],
   "source": [
    "f"
   ]
  }
 ],
 "metadata": {
  "kernelspec": {
   "display_name": "Python 3",
   "language": "python",
   "name": "python3"
  },
  "language_info": {
   "codemirror_mode": {
    "name": "ipython",
    "version": 3
   },
   "file_extension": ".py",
   "mimetype": "text/x-python",
   "name": "python",
   "nbconvert_exporter": "python",
   "pygments_lexer": "ipython3",
   "version": "3.6.5"
  }
 },
 "nbformat": 4,
 "nbformat_minor": 2
}
