{
 "cells": [
  {
   "cell_type": "markdown",
   "metadata": {},
   "source": [
    "###### 參考資料\n",
    "1. [[實戰系列] 使用 Keras 搭建一個 GAN 魔法陣（模型）](: https://ithelp.ithome.com.tw/articles/10208478)\n",
    "2. [[魔法陣系列] Generative Adversarial Network（GAN）之術式解析](https://ithelp.ithome.com.tw/articles/10207229)\n",
    "3. [[魔法陣系列] AutoEncoder 之術式解析](https://ithelp.ithome.com.tw/articles/10206869)\n",
    "\n",
    "4. [[魔法陣系列] AutoEncoder 之應用場景](https://ithelp.ithome.com.tw/articles/10207903)"
   ]
  },
  {
   "cell_type": "code",
   "execution_count": null,
   "metadata": {},
   "outputs": [],
   "source": []
  }
 ],
 "metadata": {
  "kernelspec": {
   "display_name": "Python 3",
   "language": "python",
   "name": "python3"
  },
  "language_info": {
   "codemirror_mode": {
    "name": "ipython",
    "version": 3
   },
   "file_extension": ".py",
   "mimetype": "text/x-python",
   "name": "python",
   "nbconvert_exporter": "python",
   "pygments_lexer": "ipython3",
   "version": "3.6.5"
  }
 },
 "nbformat": 4,
 "nbformat_minor": 2
}
