{
 "cells": [
  {
   "cell_type": "markdown",
   "metadata": {},
   "source": [
    "###### 參考資料\n",
    "1. [[實戰系列] 使用 Keras 搭建一個 GAN 魔法陣（模型）](https://ithelp.ithome.com.tw/articles/10208478)\n",
    "2. [[魔法陣系列] Generative Adversarial Network（GAN）之術式解析](https://ithelp.ithome.com.tw/articles/10207229)\n",
    "3. [[魔法陣系列] AutoEncoder 之術式解析](https://ithelp.ithome.com.tw/articles/10206869)\n",
    "\n",
    "4. [[魔法陣系列] AutoEncoder 之應用場景](https://ithelp.ithome.com.tw/articles/10207903)"
   ]
  },
  {
   "cell_type": "code",
   "execution_count": 2,
   "metadata": {},
   "outputs": [],
   "source": [
    "import numpy as np\n",
    "import os"
   ]
  },
  {
   "cell_type": "code",
   "execution_count": 3,
   "metadata": {},
   "outputs": [],
   "source": [
    "idx_arr = np.arange(10)\n",
    "np.random.shuffle(idx_arr);"
   ]
  },
  {
   "cell_type": "code",
   "execution_count": 10,
   "metadata": {},
   "outputs": [
    {
     "name": "stdout",
     "output_type": "stream",
     "text": [
      " 磁碟區 E 中的磁碟是 Media\n",
      " 磁碟區序號:  FCDC-95D8\n",
      "\n",
      " E:\\_Documents\\Python Scripts\\AutoEncoder_1071Course\\1224_GAN 的目錄\n",
      "\n",
      "2019/01/02  上午 10:45    <DIR>          .\n",
      "2019/01/02  上午 10:45    <DIR>          ..\n",
      "2018/12/24  下午 02:21    <DIR>          .ipynb_checkpoints\n",
      "2019/01/02  上午 10:45             1,485 1219_01_GAN.ipynb\n",
      "2018/11/21  下午 02:11    <DIR>          in_outputFolder_0.8(pca_poker_data)\n",
      "2018/12/24  下午 03:18           207,648 outputFolder_0.8(pca_poker_data).zip\n",
      "               2 個檔案         209,133 位元組\n",
      "               4 個目錄  186,792,951,808 位元組可用\n"
     ]
    }
   ],
   "source": [
    "!dir"
   ]
  },
  {
   "cell_type": "code",
   "execution_count": null,
   "metadata": {},
   "outputs": [],
   "source": []
  }
 ],
 "metadata": {
  "kernelspec": {
   "display_name": "Python 3",
   "language": "python",
   "name": "python3"
  },
  "language_info": {
   "codemirror_mode": {
    "name": "ipython",
    "version": 3
   },
   "file_extension": ".py",
   "mimetype": "text/x-python",
   "name": "python",
   "nbconvert_exporter": "python",
   "pygments_lexer": "ipython3",
   "version": "3.6.5"
  }
 },
 "nbformat": 4,
 "nbformat_minor": 2
}
