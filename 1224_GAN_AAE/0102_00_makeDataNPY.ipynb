{
 "cells": [
  {
   "cell_type": "code",
   "execution_count": 1,
   "metadata": {},
   "outputs": [],
   "source": [
    "import numpy as np\n",
    "import os, cv2"
   ]
  },
  {
   "cell_type": "markdown",
   "metadata": {},
   "source": [
    "###### 包資料\n",
    " - true:1 ； fake:0"
   ]
  },
  {
   "cell_type": "code",
   "execution_count": 2,
   "metadata": {},
   "outputs": [],
   "source": [
    "orgDataFolder = \"./pca_poker_data/\"\n",
    "noiseDataFolder = \"./in_outputFolder_0.8(pca_poker_data)/\""
   ]
  },
  {
   "cell_type": "raw",
   "metadata": {},
   "source": [
    "orgDataNameList = np.array(os.listdir(orgDataFolder))\n",
    "subfileName = \".bmp\" # orgDataNameList[0].rsplit(\".\")[1]\n",
    "orgDataNameArg = np.argsort(np.array([ int(na.rsplit(\".\")[0]) for na in orgDataNameList ]))\n",
    "orgDataNameList = orgDataNameList[ orgDataNameArg ]"
   ]
  },
  {
   "cell_type": "raw",
   "metadata": {},
   "source": [
    "noiseDataNameList = np.array(os.listdir(noiseDataFolder))\n",
    "subfileName = \".bmp\" # orgDataNameList[0].rsplit(\".\")[1]\n",
    "noiseDataNameArg = np.argsort(np.array([ int(na.rsplit(\".\")[0]) for na in noiseDataNameList ]))\n",
    "noiseDataNameList = noiseDataNameList[ noiseDataNameArg ]"
   ]
  },
  {
   "cell_type": "code",
   "execution_count": 12,
   "metadata": {},
   "outputs": [],
   "source": [
    "dataDictionary = { \"x\":[], \"y\":[]}\n",
    "dataNPYname = \"data.npy\""
   ]
  },
  {
   "cell_type": "raw",
   "metadata": {},
   "source": [
    "for i, photoname in enumerate(orgDataNameList):\n",
    "    img = cv2.imread(orgDataFolder + photoname)\n",
    "    dataDictionary[\"x\"].append(img)\n",
    "    dataDictionary[\"y\"].append(1)"
   ]
  },
  {
   "cell_type": "raw",
   "metadata": {},
   "source": [
    "for i, photoname in enumerate(noiseDataNameList):\n",
    "    img = cv2.imread(noiseDataFolder + photoname)\n",
    "    dataDictionary[\"x\"].append(img)\n",
    "    dataDictionary[\"y\"].append(0)"
   ]
  },
  {
   "cell_type": "code",
   "execution_count": 13,
   "metadata": {},
   "outputs": [],
   "source": [
    "def CombineDataToDict(DataFolder, boolTrue, inputDict):\n",
    "    DataNameList = np.array(os.listdir(DataFolder))\n",
    "    subfileName = \".bmp\" # DataNameList[0].rsplit(\".\")[1]\n",
    "    DataNameArg = np.argsort(np.array([ int(na.rsplit(\".\")[0]) for na in DataNameList ]))\n",
    "    DataNameList = DataNameList[ DataNameArg ]\n",
    "\n",
    "    for i, photoname in enumerate(DataNameList):\n",
    "        img = cv2.imread(DataFolder + photoname, 0)\n",
    "        dataDictionary[\"x\"].append(img)\n",
    "        dataDictionary[\"y\"].append( 1 if boolTrue else 0)\n",
    "        \n",
    "    return inputDict"
   ]
  },
  {
   "cell_type": "code",
   "execution_count": 14,
   "metadata": {},
   "outputs": [],
   "source": [
    "dataDictionary = CombineDataToDict(orgDataFolder,   True, dataDictionary)\n",
    "dataDictionary = CombineDataToDict(noiseDataFolder, True, dataDictionary)"
   ]
  },
  {
   "cell_type": "code",
   "execution_count": 15,
   "metadata": {},
   "outputs": [],
   "source": [
    "np.save(dataNPYname, dataDictionary)"
   ]
  },
  {
   "cell_type": "code",
   "execution_count": 16,
   "metadata": {},
   "outputs": [],
   "source": [
    "dataAmount = len(dataDictionary[\"y\"])"
   ]
  },
  {
   "cell_type": "code",
   "execution_count": 17,
   "metadata": {},
   "outputs": [],
   "source": [
    "idx_arr = np.arange(dataAmount)\n",
    "np.random.shuffle(idx_arr);"
   ]
  },
  {
   "cell_type": "code",
   "execution_count": 18,
   "metadata": {},
   "outputs": [
    {
     "data": {
      "text/plain": [
       "array([ 99,  44,  90,  85,  54,  50,  23,  34,  61,  51,  27,  59,  38,\n",
       "        66,  95,  69,  84,  15,  48,  93,  83,  46,  78,  63,   1,  33,\n",
       "        87,  35,  28,  37,  49,  17,  55, 101,   4,  57,  65,  72,  52,\n",
       "        53,  96,  12,  86,  62,  77,  74,   8,  26,  24,  73,  94,  19,\n",
       "        36,  97,  47, 103,  32,  58,  21,  18,  13,  70,  80,  88,   7,\n",
       "        98,   6,  45,  22,   2,  42,  43,  92, 100,   9,  10,  30,  79,\n",
       "        25,  39,  60,  56,  76,  16,  89,  91,  14,   3,  81,  11,  64,\n",
       "        82,  67,  31,  68, 102,  29,  75,  41,  20,   0,  71,   5,  40])"
      ]
     },
     "execution_count": 18,
     "metadata": {},
     "output_type": "execute_result"
    }
   ],
   "source": [
    "idx_arr"
   ]
  },
  {
   "cell_type": "code",
   "execution_count": null,
   "metadata": {},
   "outputs": [],
   "source": []
  }
 ],
 "metadata": {
  "kernelspec": {
   "display_name": "Python 3",
   "language": "python",
   "name": "python3"
  },
  "language_info": {
   "codemirror_mode": {
    "name": "ipython",
    "version": 3
   },
   "file_extension": ".py",
   "mimetype": "text/x-python",
   "name": "python",
   "nbconvert_exporter": "python",
   "pygments_lexer": "ipython3",
   "version": "3.6.5"
  }
 },
 "nbformat": 4,
 "nbformat_minor": 2
}
