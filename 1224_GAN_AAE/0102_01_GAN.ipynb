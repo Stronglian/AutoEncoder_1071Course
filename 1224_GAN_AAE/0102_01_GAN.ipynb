{
 "cells": [
  {
   "cell_type": "markdown",
   "metadata": {},
   "source": [
    "###### 參考資料\n",
    "1. [[實戰系列] 使用 Keras 搭建一個 GAN 魔法陣（模型）](https://ithelp.ithome.com.tw/articles/10208478)\n",
    "2. [[魔法陣系列] Generative Adversarial Network（GAN）之術式解析](https://ithelp.ithome.com.tw/articles/10207229)\n",
    "3. [[魔法陣系列] AutoEncoder 之術式解析](https://ithelp.ithome.com.tw/articles/10206869)\n",
    "\n",
    "4. [[魔法陣系列] AutoEncoder 之應用場景](https://ithelp.ithome.com.tw/articles/10207903)"
   ]
  },
  {
   "cell_type": "code",
   "execution_count": 55,
   "metadata": {},
   "outputs": [],
   "source": [
    "import numpy as np\n",
    "import os, cv2"
   ]
  },
  {
   "cell_type": "code",
   "execution_count": 56,
   "metadata": {},
   "outputs": [
    {
     "name": "stderr",
     "output_type": "stream",
     "text": [
      "E:\\Anaconda3\\envs\\TF-Ke\\lib\\site-packages\\h5py\\__init__.py:36: FutureWarning: Conversion of the second argument of issubdtype from `float` to `np.floating` is deprecated. In future, it will be treated as `np.float64 == np.dtype(float).type`.\n",
      "  from ._conv import register_converters as _register_converters\n",
      "Using TensorFlow backend.\n"
     ]
    }
   ],
   "source": [
    "from keras.layers import Input, Dense, Reshape, Flatten, Dropout, multiply, GaussianNoise\n",
    "from keras.layers import BatchNormalization, Activation, Embedding, ZeroPadding2D\n",
    "from keras.layers import MaxPooling2D, merge\n",
    "from keras.layers.advanced_activations import LeakyReLU\n",
    "from keras.layers.convolutional import UpSampling2D, Conv2D\n",
    "from keras.models import Sequential, Model\n",
    "from keras.optimizers import Adam"
   ]
  },
  {
   "cell_type": "code",
   "execution_count": 57,
   "metadata": {},
   "outputs": [],
   "source": [
    "import keras.backend as K"
   ]
  },
  {
   "cell_type": "markdown",
   "metadata": {},
   "source": [
    "###### data load"
   ]
  },
  {
   "cell_type": "code",
   "execution_count": 58,
   "metadata": {},
   "outputs": [
    {
     "name": "stdout",
     "output_type": "stream",
     "text": [
      "dict_keys(['x', 'y'])\n"
     ]
    }
   ],
   "source": [
    "dataNPYname = \"data.npy\"\n",
    "dataDictionary = np.load(dataNPYname).item()\n",
    "print(dataDictionary.keys())"
   ]
  },
  {
   "cell_type": "code",
   "execution_count": 59,
   "metadata": {},
   "outputs": [],
   "source": [
    "dataAmount = len(dataDictionary[\"y\"])\n",
    "idx_arr = np.arange(dataAmount)\n",
    "np.random.shuffle(idx_arr);"
   ]
  },
  {
   "cell_type": "markdown",
   "metadata": {},
   "source": [
    "## 自備函數"
   ]
  },
  {
   "cell_type": "markdown",
   "metadata": {},
   "source": [
    "##### 函數 - 測試用"
   ]
  },
  {
   "cell_type": "code",
   "execution_count": 60,
   "metadata": {},
   "outputs": [],
   "source": [
    "def CheckType(intVar):\n",
    "    print(\"max:\",   intVar.max())\n",
    "    print(\"min:\",   intVar.min())\n",
    "    print(\"shape:\", intVar.shape)\n",
    "    print(\"type:\",  intVar.dtype)\n",
    "    return"
   ]
  },
  {
   "cell_type": "markdown",
   "metadata": {},
   "source": [
    "##### 函數 - 輸出用"
   ]
  },
  {
   "cell_type": "code",
   "execution_count": 61,
   "metadata": {},
   "outputs": [],
   "source": [
    "def ResultImgShow(inputImg, modelName, strImgLabel = \"TMP\"):\n",
    "    # 輸出參數設置\n",
    "    img_amount = inputImg.shape[0]\n",
    "    cols_output = 50\n",
    "    rows_output = img_amount // cols_output\n",
    "#     # 改變大小用，但這裡有確切大小所以不必處理\n",
    "#     if rows_output < 3:\n",
    "#         cols_output = 10\n",
    "#         rows_output = img_amount // cols_output\n",
    "#         if rows_output < 3:\n",
    "#             cols_output = 5\n",
    "#             rows_output = img_amount // cols_output\n",
    "    if rows_output > cols_output:\n",
    "        rows_output = cols_output\n",
    "    # 輸出設置 - 水平堆疊再垂直堆疊\n",
    "    ## v - 初始\n",
    "    img_h = inputImg[0]\n",
    "    for i in range(1, cols_output):\n",
    "        img_tmp = inputImg[i]\n",
    "        img_h = np.hstack((img_h, img_tmp))\n",
    "    img_v = img_h.copy()\n",
    "    ## v - Loop\n",
    "    for j in range(1, rows_output):\n",
    "        ## h - 初始\n",
    "        img_h = inputImg[j * cols_output]\n",
    "        ## h - Loop\n",
    "        for i in range(1, cols_output):\n",
    "            img_tmp = inputImg[j * cols_output + i]\n",
    "            img_h = np.hstack((img_h, img_tmp))\n",
    "        img_v = np.vstack((img_v, img_h))\n",
    "    # 顯示 與 存取\n",
    "    imwrite(modelName.split(\".\")[0] +\"_\"+ strImgLabel+ \".png\", img_v)\n",
    "    plt.imshow(img_v, cmap = \"gray\")\n",
    "#     plt.savefig(model_name.split(\".\")[0] +\"_\"+ strImgLabel+ \".png\")\n",
    "    plt.show()\n",
    "    plt.close()\n",
    "    return##### 函數 - 輸出用"
   ]
  },
  {
   "cell_type": "markdown",
   "metadata": {},
   "source": [
    "###### 函數 - 計算誤差"
   ]
  },
  {
   "cell_type": "code",
   "execution_count": 62,
   "metadata": {},
   "outputs": [],
   "source": [
    "def PSNR_ALL(testData, truthData, strImgLabel = \"TMP\", boolTest = False):\n",
    "    \"\"\" \"\"\"\n",
    "#     dataAmount = 1 if testData.shape < 3 else testData.shape[0]\n",
    "#     if testData.shape < 3:\n",
    "#         dataAmount = 1\n",
    "#     else:\n",
    "    dataAmount = testData.shape[0]\n",
    "    psnrSum_test = 0\n",
    "    for i in range(dataAmount):\n",
    "        groundTruth   = truthData[i, :,:]\n",
    "        predictResult = testData[i, :,:]\n",
    "        psnrTmp = float(compare_psnr(groundTruth, predictResult))\n",
    "        psnrSum_test += psnrTmp\n",
    "    psnrSum_test /= dataAmount\n",
    "    print(strImgLabel, \"PSNR:\", psnrSum_test)\n",
    "    return psnrSum_test"
   ]
  },
  {
   "cell_type": "code",
   "execution_count": 63,
   "metadata": {},
   "outputs": [],
   "source": [
    "def SSIM_ALL(testData, truthData, strImgLabel = \"TMP\", boolTest = False):\n",
    "    dataAmount = testData.shape[0]\n",
    "    ssimSum_test = 0\n",
    "    for i in range(dataAmount):\n",
    "        groundTruth   = truthData[i, :,:]\n",
    "        predictResult = testData[i, :,:]\n",
    "        ssimTmp = float(compare_ssim(groundTruth, predictResult))\n",
    "        ssimSum_test += ssimTmp\n",
    "    ssimSum_test /= dataAmount\n",
    "    print(strImgLabel, \"SSIM:\", ssimSum_test)\n",
    "    return ssimSum_test"
   ]
  },
  {
   "cell_type": "markdown",
   "metadata": {},
   "source": [
    "###### 函數 - 預處理與後處理"
   ]
  },
  {
   "cell_type": "code",
   "execution_count": 64,
   "metadata": {},
   "outputs": [],
   "source": [
    "def DataPreProcess(inputData, img_rows = 28, img_cols = 28):\n",
    "    outputData = inputData.reshape(inputData.shape[0], img_rows * img_cols)\n",
    "    outputData = outputData.astype('float32') /255 -0.5\n",
    "    outputData *= 2\n",
    "    return outputData"
   ]
  },
  {
   "cell_type": "code",
   "execution_count": 65,
   "metadata": {},
   "outputs": [],
   "source": [
    "def DataRecovery(inputData, img_rows = 28, img_cols = 28):\n",
    "    outputData = ((inputData /2)+0.5) * 255\n",
    "    outputData = outputData.reshape((outputData.shape[0], img_rows, img_cols))\n",
    "    outputData = outputData.astype('uint8')\n",
    "    return outputData"
   ]
  },
  {
   "cell_type": "markdown",
   "metadata": {},
   "source": [
    "# 主程式"
   ]
  },
  {
   "cell_type": "raw",
   "metadata": {},
   "source": [
    "tmpImg = dataDictionary[\"x\"][0]\n",
    "self._img_rows, self._cols = tmpImg.shape[:2]\n",
    "self._img_shape = tmpImg.shape\n",
    "del tmpImg"
   ]
  },
  {
   "cell_type": "code",
   "execution_count": null,
   "metadata": {},
   "outputs": [],
   "source": [
    "class GAN_AAE:\n",
    "    def __init__(self, inputDict):\n",
    "        # LOAD DATA，define rows, cols\n",
    "        self._x, self._y = self.LoadData(inputDict)\n",
    "        self.latent_dim = 2\n",
    "        \n",
    "        optimizer = Adam(0.0002, 0.5)\n",
    "        \n",
    "        \n",
    "        return\n",
    "    \n",
    "    def LoadData(self, inputDict):\n",
    "        x = inputDict[\"x\"]\n",
    "        y = inputDict[\"y\"]\n",
    "        # define shape\n",
    "        tmpImg = inputDict[\"x\"][0]\n",
    "        self._img_rows, self._img_cols = tmpImg.shape[:2]\n",
    "        if len(tmpImg.shape)<=2 :\n",
    "            self._img_channels = 1\n",
    "        else:\n",
    "            self._img_channels = tmpImg.shape[2]\n",
    "        self._img_shape = (self._img_rows, self._img_cols, self._img_channels)\n",
    "        del tmpImg\n",
    "        \n",
    "        return x, y\n",
    "    \n",
    "#     def Build"
   ]
  }
 ],
 "metadata": {
  "kernelspec": {
   "display_name": "Python 3",
   "language": "python",
   "name": "python3"
  },
  "language_info": {
   "codemirror_mode": {
    "name": "ipython",
    "version": 3
   },
   "file_extension": ".py",
   "mimetype": "text/x-python",
   "name": "python",
   "nbconvert_exporter": "python",
   "pygments_lexer": "ipython3",
   "version": "3.6.5"
  }
 },
 "nbformat": 4,
 "nbformat_minor": 2
}
