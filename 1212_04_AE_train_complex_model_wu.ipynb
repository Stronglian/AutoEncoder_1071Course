{
 "cells": [
  {
   "cell_type": "markdown",
   "metadata": {},
   "source": [
    "參考資料：\n",
    "1. AE in keras: https://blog.keras.io/building-autoencoders-in-keras.html\n",
    "- Autoencoder 自编码:https://morvanzhou.github.io/tutorials/machine-learning/keras/2-6-autoencoder/\n",
    "- https://www.dataquest.io/blog/jupyter-notebook-tips-tricks-shortcuts/"
   ]
  },
  {
   "cell_type": "code",
   "execution_count": null,
   "metadata": {},
   "outputs": [],
   "source": [
    "import time #時間計算"
   ]
  },
  {
   "cell_type": "code",
   "execution_count": null,
   "metadata": {},
   "outputs": [],
   "source": [
    "_startTime = time.time()"
   ]
  },
  {
   "cell_type": "code",
   "execution_count": null,
   "metadata": {},
   "outputs": [],
   "source": [
    "import numpy as np\n",
    "from matplotlib import pyplot as plt\n",
    "from cv2 import imwrite # 圖片輸出用"
   ]
  },
  {
   "cell_type": "code",
   "execution_count": null,
   "metadata": {},
   "outputs": [],
   "source": [
    "# import keras\n",
    "from keras.models import Sequential, Model\n",
    "from keras.layers import Dense, Dropout, Flatten, Input\n",
    "# from keras import backend as K"
   ]
  },
  {
   "cell_type": "code",
   "execution_count": null,
   "metadata": {},
   "outputs": [],
   "source": [
    "from keras.models import load_model"
   ]
  },
  {
   "cell_type": "code",
   "execution_count": null,
   "metadata": {},
   "outputs": [],
   "source": [
    "# 結果運算用\n",
    "from skimage.measure import compare_psnr, compare_ssim "
   ]
  },
  {
   "cell_type": "markdown",
   "metadata": {},
   "source": [
    "##### 函數 - 測試用"
   ]
  },
  {
   "cell_type": "code",
   "execution_count": null,
   "metadata": {},
   "outputs": [],
   "source": [
    "def CheckType(intVar):\n",
    "    print(\"max:\",   intVar.max())\n",
    "    print(\"min:\",   intVar.min())\n",
    "    print(\"shape:\", intVar.shape)\n",
    "    print(\"type:\",  intVar.dtype)\n",
    "    return"
   ]
  },
  {
   "cell_type": "markdown",
   "metadata": {},
   "source": [
    "##### 函數 - 輸出用"
   ]
  },
  {
   "cell_type": "code",
   "execution_count": null,
   "metadata": {},
   "outputs": [],
   "source": [
    "def ResultImgShow(inputImg, modelName, strImgLabel = \"TMP\"):\n",
    "    # 輸出參數設置\n",
    "    img_amount = inputImg.shape[0]\n",
    "    cols_output = 50\n",
    "    rows_output = img_amount // cols_output\n",
    "    if rows_output < 3:\n",
    "        cols_output = 10\n",
    "        rows_output = img_amount // cols_output\n",
    "        if rows_output < 3:\n",
    "            cols_output = 5\n",
    "            rows_output = img_amount // cols_output\n",
    "    if rows_output > cols_output:\n",
    "        rows_output = cols_output\n",
    "    # 輸出設置\n",
    "    img_h = inputImg[0]\n",
    "    for i in range(1, cols_output):\n",
    "        img_tmp = inputImg[i]\n",
    "        img_h = np.hstack((img_h, img_tmp))\n",
    "    img_v = img_h.copy()\n",
    "    for j in range(1, rows_output):\n",
    "        img_h = inputImg[j * cols_output]\n",
    "        for i in range(1, cols_output):\n",
    "            img_tmp = inputImg[j * cols_output + i]\n",
    "            img_h = np.hstack((img_h, img_tmp))\n",
    "        img_v = np.vstack((img_v, img_h))\n",
    "        \n",
    "        \n",
    "    # 顯示 與 存取\n",
    "    imwrite(modelName.split(\".\")[0] +\"_\"+ strImgLabel+ \".png\", img_v)\n",
    "    plt.imshow(img_v, cmap = \"gray\")\n",
    "#     plt.savefig(model_name.split(\".\")[0] +\"_\"+ strImgLabel+ \".png\")\n",
    "    plt.show()\n",
    "    plt.close()\n",
    "    return"
   ]
  },
  {
   "cell_type": "code",
   "execution_count": null,
   "metadata": {},
   "outputs": [],
   "source": [
    "def PSNR_ALL(testData, truthData, strImgLabel = \"TMP\", boolTest = False):\n",
    "    psnrSum_test = 0\n",
    "    for i in range(testData.shape[0]):\n",
    "        groundTruth   = truthData[i, :,:]\n",
    "        predictResult = testData[i, :,:]\n",
    "        psnrTmp = float(compare_psnr(groundTruth, predictResult))\n",
    "        psnrSum_test += psnrTmp\n",
    "    psnrSum_test /= testData.shape[0]\n",
    "#     print(\"TEST\" if boolTest else \"TRAIN\" ,\"PSNR:\", psnrSum_test)\n",
    "    print(strImgLabel, \"PSNR:\", psnrSum_test)\n",
    "    return psnrSum_test"
   ]
  },
  {
   "cell_type": "code",
   "execution_count": null,
   "metadata": {},
   "outputs": [],
   "source": [
    "def SSIM_ALL(testData, truthData, strImgLabel = \"TMP\", boolTest = False):\n",
    "    ssimSum_test = 0\n",
    "    for i in range(testData.shape[0]):\n",
    "        groundTruth   = truthData[i, :,:]\n",
    "        predictResult = testData[i, :,:]\n",
    "        ssimTmp = float(compare_ssim(groundTruth, predictResult))\n",
    "        ssimSum_test += ssimTmp\n",
    "    ssimSum_test /= testData.shape[0]\n",
    "    print(strImgLabel, \"SSIM:\", ssimSum_test)\n",
    "    return ssimSum_test"
   ]
  },
  {
   "cell_type": "code",
   "execution_count": null,
   "metadata": {},
   "outputs": [],
   "source": [
    "def DataPreProcess(inputData, img_rows = 28, img_cols = 28):\n",
    "    outputData = inputData.reshape(inputData.shape[0], img_rows * img_cols)\n",
    "    outputData = outputData.astype('float32') /255 -0.5\n",
    "    outputData *= 2\n",
    "    return outputData"
   ]
  },
  {
   "cell_type": "code",
   "execution_count": null,
   "metadata": {},
   "outputs": [],
   "source": [
    "def DataRecovery(inputData, img_rows = 28, img_cols = 28):\n",
    "    outputData = ((inputData /2)+0.5) * 255\n",
    "    outputData = outputData.reshape((outputData.shape[0], img_rows, img_cols))\n",
    "    outputData = outputData.astype('uint8')\n",
    "    return outputData"
   ]
  },
  {
   "cell_type": "markdown",
   "metadata": {},
   "source": [
    "# 主程式"
   ]
  },
  {
   "cell_type": "markdown",
   "metadata": {},
   "source": [
    "#### 參數設置"
   ]
  },
  {
   "cell_type": "code",
   "execution_count": null,
   "metadata": {},
   "outputs": [],
   "source": [
    "outputFolder = \"output_1212/\""
   ]
  },
  {
   "cell_type": "code",
   "execution_count": null,
   "metadata": {},
   "outputs": [],
   "source": [
    "batch_size = 128\n",
    "# num_classes = 10\n",
    "epochs = 50\n",
    "# input image dimensions\n",
    "img_rows, img_cols = 28, 28"
   ]
  },
  {
   "cell_type": "code",
   "execution_count": null,
   "metadata": {},
   "outputs": [],
   "source": [
    "model_name_complex = \"model_complex\"+\"e\"+str(epochs)+\"_b\"+str(batch_size)+\".h5\"\n",
    "model_name_simple  = \"model_simple\" +\"e\"+str(epochs)+\"_b\"+str(batch_size)+\".h5\""
   ]
  },
  {
   "cell_type": "markdown",
   "metadata": {},
   "source": [
    "##### 讀取資料\n",
    "- 利用完整沒雜訊的資料進行訓練 。\n",
    "- 只取用圖像，不取標籤。"
   ]
  },
  {
   "cell_type": "code",
   "execution_count": null,
   "metadata": {},
   "outputs": [],
   "source": [
    "dataSetName = \"mnist.npz\"\n",
    "f = np.load(dataSetName)\n",
    "x_train_org, x_test_org = f['x_train'], f['x_test']\n",
    "del f"
   ]
  },
  {
   "cell_type": "code",
   "execution_count": null,
   "metadata": {},
   "outputs": [],
   "source": [
    "x_train_org = DataPreProcess(x_train_org)\n",
    "print(x_train_org.shape[0], 'train samples', \"in\", x_train_org.shape)\n",
    "# x_test = DataPreProcess(x_test)\n",
    "# print(x_test.shape[0], 'tset samples', \"in\", x_test.shape)"
   ]
  },
  {
   "cell_type": "markdown",
   "metadata": {},
   "source": [
    "### 模組架設 - 複雜版"
   ]
  },
  {
   "cell_type": "code",
   "execution_count": null,
   "metadata": {},
   "outputs": [],
   "source": [
    "# ## 法 1\n",
    "# autoencoder = Sequential()\n",
    "# autoencoder.add(Dense(1500, activation='relu', input_shape=(784,)))\n",
    "# autoencoder.add(Dense(375, activation='relu')) \n",
    "# autoencoder.add(Dense(50)) \n",
    "\n",
    "# autoencoder.add(Dense(375, activation='relu')) \n",
    "# autoencoder.add(Dense(1500, activation='relu')) \n",
    "# autoencoder.add(Dense(784, activation='tanh')) \n",
    "## 法 2 - 比較有效率\n",
    "input_img = Input(shape=(784,))\n",
    "# encoder layers\n",
    "encoded = Dense(1500, activation='relu')(input_img)\n",
    "encoded = Dense(375, activation='relu')(encoded)\n",
    "encoder_output = Dense(50)(encoded)\n",
    "# decoder layers\n",
    "decoded = Dense(375, activation='relu')(encoder_output)\n",
    "decoded = Dense(1500, activation='relu')(decoded)\n",
    "decoded = Dense(784, activation='tanh')(decoded)\n",
    "# construct the autoencoder model\n",
    "autoencoder_complex = Model(input=input_img, output=decoded)"
   ]
  },
  {
   "cell_type": "markdown",
   "metadata": {},
   "source": [
    "#### 模組 - 簡介"
   ]
  },
  {
   "cell_type": "code",
   "execution_count": null,
   "metadata": {},
   "outputs": [],
   "source": [
    "autoencoder_complex.summary()"
   ]
  },
  {
   "cell_type": "markdown",
   "metadata": {},
   "source": [
    "#### 模組 - 架設"
   ]
  },
  {
   "cell_type": "code",
   "execution_count": null,
   "metadata": {},
   "outputs": [],
   "source": [
    "autoencoder_complex.compile(optimizer='adam', loss='mse')"
   ]
  },
  {
   "cell_type": "markdown",
   "metadata": {},
   "source": [
    "#### 模組 - 訓練\n",
    "用完整圖片訓練，完整圖片比對"
   ]
  },
  {
   "cell_type": "code",
   "execution_count": null,
   "metadata": {},
   "outputs": [],
   "source": [
    "history_complex = autoencoder_complex.fit(x_train_org, x_train_org, # 訓練資料、結果比對資料\n",
    "                    batch_size=batch_size, #\n",
    "                    epochs=epochs)"
   ]
  },
  {
   "cell_type": "markdown",
   "metadata": {},
   "source": [
    "#### 模組 - 儲存"
   ]
  },
  {
   "cell_type": "code",
   "execution_count": null,
   "metadata": {},
   "outputs": [],
   "source": [
    "model_name_complex = outputFolder + \"model_complex\"+\"e\"+str(epochs)+\"_b\"+str(batch_size) + \\\n",
    "                    \".h5\"\n",
    "#                     \"_\" + \"-\".join([str(i) for i in time.localtime()[0:5]]) +\\"
   ]
  },
  {
   "cell_type": "code",
   "execution_count": null,
   "metadata": {},
   "outputs": [],
   "source": [
    "autoencoder_complex.save(model_name_complex)"
   ]
  },
  {
   "cell_type": "raw",
   "metadata": {},
   "source": [
    "del autoencoder_complex"
   ]
  },
  {
   "cell_type": "markdown",
   "metadata": {},
   "source": [
    "#### 模組 - 使用與輸出"
   ]
  },
  {
   "cell_type": "raw",
   "metadata": {},
   "source": [
    "autoencoder_complex = load_model(model_name_complex)"
   ]
  },
  {
   "cell_type": "markdown",
   "metadata": {},
   "source": [
    "###### 測試資料讀取"
   ]
  },
  {
   "cell_type": "code",
   "execution_count": null,
   "metadata": {},
   "outputs": [],
   "source": [
    "dataSetName = \"mnist-pria-awgn_snr=10.npz\"\n",
    "f = np.load(dataSetName)\n",
    "x_train_noise, x_test_noise = f['x_train'], f['x_test']\n",
    "del f"
   ]
  },
  {
   "cell_type": "code",
   "execution_count": null,
   "metadata": {},
   "outputs": [],
   "source": [
    "decodeImg_test = autoencoder_complex.predict(x_test_noise)"
   ]
  },
  {
   "cell_type": "code",
   "execution_count": null,
   "metadata": {},
   "outputs": [],
   "source": [
    "decodeImg_test = DataRecovery(decodeImg_test)"
   ]
  },
  {
   "cell_type": "code",
   "execution_count": null,
   "metadata": {},
   "outputs": [],
   "source": [
    "ResultImgShow(decodeImg_test, model_name_complex, strImgLabel = \"AFTER\")"
   ]
  },
  {
   "cell_type": "code",
   "execution_count": null,
   "metadata": {},
   "outputs": [],
   "source": [
    "ResultImgShow(x_test_noise, model_name_complex, strImgLabel = \"BEFORE\")\n",
    "ResultImgShow(x_train_org, model_name_complex, strImgLabel = \"ORIGIN\")"
   ]
  },
  {
   "cell_type": "markdown",
   "metadata": {},
   "source": [
    "### 計算結果"
   ]
  },
  {
   "cell_type": "code",
   "execution_count": null,
   "metadata": {},
   "outputs": [],
   "source": [
    "PSNR_ALL(decodeImg_test, x_train_org, strImgLabel = \"TEST\")\n",
    "SSIM_ALL(decodeImg_test, x_train_org, strImgLabel = \"TEST\")"
   ]
  },
  {
   "cell_type": "code",
   "execution_count": null,
   "metadata": {},
   "outputs": [],
   "source": []
  },
  {
   "cell_type": "code",
   "execution_count": null,
   "metadata": {},
   "outputs": [],
   "source": [
    "_startTime = time.time()"
   ]
  }
 ],
 "metadata": {
  "kernelspec": {
   "display_name": "Python 3",
   "language": "python",
   "name": "python3"
  },
  "language_info": {
   "codemirror_mode": {
    "name": "ipython",
    "version": 3
   },
   "file_extension": ".py",
   "mimetype": "text/x-python",
   "name": "python",
   "nbconvert_exporter": "python",
   "pygments_lexer": "ipython3",
   "version": "3.6.5"
  }
 },
 "nbformat": 4,
 "nbformat_minor": 2
}
