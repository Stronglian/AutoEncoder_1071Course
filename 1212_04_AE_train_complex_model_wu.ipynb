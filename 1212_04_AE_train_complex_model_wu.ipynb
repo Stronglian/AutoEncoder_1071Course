{
 "cells": [
  {
   "cell_type": "markdown",
   "metadata": {},
   "source": [
    "參考資料：\n",
    "1. AE in keras: https://blog.keras.io/building-autoencoders-in-keras.html\n",
    "- Autoencoder 自编码:https://morvanzhou.github.io/tutorials/machine-learning/keras/2-6-autoencoder/\n",
    "- https://www.dataquest.io/blog/jupyter-notebook-tips-tricks-shortcuts/"
   ]
  },
  {
   "cell_type": "code",
   "execution_count": 1,
   "metadata": {},
   "outputs": [],
   "source": [
    "import time #時間計算"
   ]
  },
  {
   "cell_type": "code",
   "execution_count": 2,
   "metadata": {},
   "outputs": [],
   "source": [
    "_startTime = time.time()"
   ]
  },
  {
   "cell_type": "code",
   "execution_count": 3,
   "metadata": {},
   "outputs": [],
   "source": [
    "import numpy as np\n",
    "from matplotlib import pyplot as plt\n",
    "from cv2 import imwrite # 圖片輸出用"
   ]
  },
  {
   "cell_type": "code",
   "execution_count": 4,
   "metadata": {},
   "outputs": [
    {
     "name": "stderr",
     "output_type": "stream",
     "text": [
      "E:\\Anaconda3\\envs\\TF-Ke\\lib\\site-packages\\h5py\\__init__.py:36: FutureWarning: Conversion of the second argument of issubdtype from `float` to `np.floating` is deprecated. In future, it will be treated as `np.float64 == np.dtype(float).type`.\n",
      "  from ._conv import register_converters as _register_converters\n",
      "Using TensorFlow backend.\n"
     ]
    }
   ],
   "source": [
    "# import keras\n",
    "from keras.models import Sequential, Model\n",
    "from keras.layers import Dense, Dropout, Flatten, Input\n",
    "# from keras import backend as K"
   ]
  },
  {
   "cell_type": "code",
   "execution_count": 5,
   "metadata": {},
   "outputs": [],
   "source": [
    "from keras.models import load_model"
   ]
  },
  {
   "cell_type": "code",
   "execution_count": 6,
   "metadata": {},
   "outputs": [],
   "source": [
    "# 結果運算用\n",
    "from skimage.measure import compare_psnr, compare_ssim "
   ]
  },
  {
   "cell_type": "markdown",
   "metadata": {},
   "source": [
    "##### 函數 - 測試用"
   ]
  },
  {
   "cell_type": "code",
   "execution_count": 7,
   "metadata": {},
   "outputs": [],
   "source": [
    "def CheckType(intVar):\n",
    "    print(\"max:\",   intVar.max())\n",
    "    print(\"min:\",   intVar.min())\n",
    "    print(\"shape:\", intVar.shape)\n",
    "    print(\"type:\",  intVar.dtype)\n",
    "    return"
   ]
  },
  {
   "cell_type": "markdown",
   "metadata": {},
   "source": [
    "##### 函數 - 輸出用"
   ]
  },
  {
   "cell_type": "code",
   "execution_count": 8,
   "metadata": {},
   "outputs": [],
   "source": [
    "def ResultImgShow(inputImg, modelName, strImgLabel = \"TMP\"):\n",
    "    # 輸出參數設置\n",
    "    img_amount = inputImg.shape[0]\n",
    "    cols_output = 50\n",
    "    rows_output = img_amount // cols_output\n",
    "    if rows_output < 3:\n",
    "        cols_output = 10\n",
    "        rows_output = img_amount // cols_output\n",
    "        if rows_output < 3:\n",
    "            cols_output = 5\n",
    "            rows_output = img_amount // cols_output\n",
    "    if rows_output > cols_output:\n",
    "        rows_output = cols_output\n",
    "    # 輸出設置\n",
    "    img_h = inputImg[0]\n",
    "    for i in range(1, cols_output):\n",
    "        img_tmp = inputImg[i]\n",
    "        img_h = np.hstack((img_h, img_tmp))\n",
    "    img_v = img_h.copy()\n",
    "    for j in range(1, rows_output):\n",
    "        img_h = inputImg[j * cols_output]\n",
    "        for i in range(1, cols_output):\n",
    "            img_tmp = inputImg[j * cols_output + i]\n",
    "            img_h = np.hstack((img_h, img_tmp))\n",
    "        img_v = np.vstack((img_v, img_h))\n",
    "        \n",
    "        \n",
    "    # 顯示 與 存取\n",
    "    imwrite(modelName.split(\".\")[0] +\"_\"+ strImgLabel+ \".png\", img_v)\n",
    "    plt.imshow(img_v, cmap = \"gray\")\n",
    "#     plt.savefig(model_name.split(\".\")[0] +\"_\"+ strImgLabel+ \".png\")\n",
    "    plt.show()\n",
    "    plt.close()\n",
    "    return"
   ]
  },
  {
   "cell_type": "code",
   "execution_count": 9,
   "metadata": {},
   "outputs": [],
   "source": [
    "def PSNR_ALL(testData, truthData, strImgLabel = \"TMP\", boolTest = False):\n",
    "    psnrSum_test = 0\n",
    "    for i in range(testData.shape[0]):\n",
    "        groundTruth   = truthData[i, :,:]\n",
    "        predictResult = testData[i, :,:]\n",
    "        psnrTmp = float(compare_psnr(groundTruth, predictResult))\n",
    "        psnrSum_test += psnrTmp\n",
    "    psnrSum_test /= testData.shape[0]\n",
    "#     print(\"TEST\" if boolTest else \"TRAIN\" ,\"PSNR:\", psnrSum_test)\n",
    "    print(strImgLabel, \"PSNR:\", psnrSum_test)\n",
    "    return psnrSum_test"
   ]
  },
  {
   "cell_type": "code",
   "execution_count": 10,
   "metadata": {},
   "outputs": [],
   "source": [
    "def SSIM_ALL(testData, truthData, strImgLabel = \"TMP\", boolTest = False):\n",
    "    ssimSum_test = 0\n",
    "    for i in range(testData.shape[0]):\n",
    "        groundTruth   = truthData[i, :,:]\n",
    "        predictResult = testData[i, :,:]\n",
    "        ssimTmp = float(compare_ssim(groundTruth, predictResult))\n",
    "        ssimSum_test += ssimTmp\n",
    "    ssimSum_test /= testData.shape[0]\n",
    "    print(strImgLabel, \"SSIM:\", ssimSum_test)\n",
    "    return ssimSum_test"
   ]
  },
  {
   "cell_type": "code",
   "execution_count": 11,
   "metadata": {},
   "outputs": [],
   "source": [
    "def DataPreProcess(inputData, img_rows = 28, img_cols = 28):\n",
    "    outputData = inputData.reshape(inputData.shape[0], img_rows * img_cols)\n",
    "    outputData = outputData.astype('float32') /255 -0.5\n",
    "    outputData *= 2\n",
    "    return outputData"
   ]
  },
  {
   "cell_type": "code",
   "execution_count": 12,
   "metadata": {},
   "outputs": [],
   "source": [
    "def DataRecovery(inputData, img_rows = 28, img_cols = 28):\n",
    "    outputData = ((inputData /2)+0.5) * 255\n",
    "    outputData = outputData.reshape((outputData.shape[0], img_rows, img_cols))\n",
    "    outputData = outputData.astype('uint8')\n",
    "    return outputData"
   ]
  },
  {
   "cell_type": "markdown",
   "metadata": {},
   "source": [
    "# 主程式"
   ]
  },
  {
   "cell_type": "markdown",
   "metadata": {},
   "source": [
    "#### 參數設置"
   ]
  },
  {
   "cell_type": "code",
   "execution_count": 13,
   "metadata": {},
   "outputs": [],
   "source": [
    "outputFolder = \"output_1212/\""
   ]
  },
  {
   "cell_type": "code",
   "execution_count": 14,
   "metadata": {},
   "outputs": [],
   "source": [
    "batch_size = 128\n",
    "# num_classes = 10\n",
    "epochs = 50\n",
    "# input image dimensions\n",
    "img_rows, img_cols = 28, 28"
   ]
  },
  {
   "cell_type": "code",
   "execution_count": 15,
   "metadata": {},
   "outputs": [],
   "source": [
    "model_name_complex = \"model_complex\"+\"e\"+str(epochs)+\"_b\"+str(batch_size)+\".h5\"\n",
    "# model_name_simple  = \"model_simple\" +\"e\"+str(epochs)+\"_b\"+str(batch_size)+\".h5\""
   ]
  },
  {
   "cell_type": "markdown",
   "metadata": {},
   "source": [
    "##### 讀取資料\n",
    "- 利用完整沒雜訊的資料進行訓練 。\n",
    "- 只取用圖像，不取標籤。"
   ]
  },
  {
   "cell_type": "code",
   "execution_count": 16,
   "metadata": {},
   "outputs": [],
   "source": [
    "dataSetName = \"mnist.npz\"\n",
    "f = np.load(dataSetName)\n",
    "x_train_org, x_test_org = f['x_train'], f['x_test']\n",
    "del f"
   ]
  },
  {
   "cell_type": "code",
   "execution_count": 17,
   "metadata": {},
   "outputs": [
    {
     "name": "stdout",
     "output_type": "stream",
     "text": [
      "60000 train samples in (60000, 784)\n"
     ]
    }
   ],
   "source": [
    "x_train_org = DataPreProcess(x_train_org)\n",
    "print(x_train_org.shape[0], 'train samples', \"in\", x_train_org.shape)\n",
    "# x_test = DataPreProcess(x_test)\n",
    "# print(x_test.shape[0], 'tset samples', \"in\", x_test.shape)"
   ]
  },
  {
   "cell_type": "markdown",
   "metadata": {},
   "source": [
    "### 模組架設 - 複雜版"
   ]
  },
  {
   "cell_type": "code",
   "execution_count": 18,
   "metadata": {},
   "outputs": [
    {
     "name": "stderr",
     "output_type": "stream",
     "text": [
      "E:\\Anaconda3\\envs\\TF-Ke\\lib\\site-packages\\ipykernel_launcher.py:21: UserWarning: Update your `Model` call to the Keras 2 API: `Model(inputs=Tensor(\"in..., outputs=Tensor(\"de...)`\n"
     ]
    }
   ],
   "source": [
    "# ## 法 1\n",
    "# autoencoder = Sequential()\n",
    "# autoencoder.add(Dense(1500, activation='relu', input_shape=(784,)))\n",
    "# autoencoder.add(Dense(375, activation='relu')) \n",
    "# autoencoder.add(Dense(50)) \n",
    "\n",
    "# autoencoder.add(Dense(375, activation='relu')) \n",
    "# autoencoder.add(Dense(1500, activation='relu')) \n",
    "# autoencoder.add(Dense(784, activation='tanh')) \n",
    "## 法 2 - 比較有效率\n",
    "input_img = Input(shape=(784,))\n",
    "# encoder layers\n",
    "encoded = Dense(1500, activation='relu')(input_img)\n",
    "encoded = Dense(375, activation='relu')(encoded)\n",
    "encoder_output = Dense(50)(encoded)\n",
    "# decoder layers\n",
    "decoded = Dense(375, activation='relu')(encoder_output)\n",
    "decoded = Dense(1500, activation='relu')(decoded)\n",
    "decoded = Dense(784, activation='tanh')(decoded)\n",
    "# construct the autoencoder model\n",
    "autoencoder_complex = Model(input=input_img, output=decoded)"
   ]
  },
  {
   "cell_type": "markdown",
   "metadata": {},
   "source": [
    "#### 模組 - 簡介"
   ]
  },
  {
   "cell_type": "code",
   "execution_count": 19,
   "metadata": {},
   "outputs": [
    {
     "name": "stdout",
     "output_type": "stream",
     "text": [
      "_________________________________________________________________\n",
      "Layer (type)                 Output Shape              Param #   \n",
      "=================================================================\n",
      "input_1 (InputLayer)         (None, 784)               0         \n",
      "_________________________________________________________________\n",
      "dense_1 (Dense)              (None, 1500)              1177500   \n",
      "_________________________________________________________________\n",
      "dense_2 (Dense)              (None, 375)               562875    \n",
      "_________________________________________________________________\n",
      "dense_3 (Dense)              (None, 50)                18800     \n",
      "_________________________________________________________________\n",
      "dense_4 (Dense)              (None, 375)               19125     \n",
      "_________________________________________________________________\n",
      "dense_5 (Dense)              (None, 1500)              564000    \n",
      "_________________________________________________________________\n",
      "dense_6 (Dense)              (None, 784)               1176784   \n",
      "=================================================================\n",
      "Total params: 3,519,084\n",
      "Trainable params: 3,519,084\n",
      "Non-trainable params: 0\n",
      "_________________________________________________________________\n"
     ]
    }
   ],
   "source": [
    "autoencoder_complex.summary()"
   ]
  },
  {
   "cell_type": "markdown",
   "metadata": {},
   "source": [
    "#### 模組 - 架設"
   ]
  },
  {
   "cell_type": "code",
   "execution_count": 20,
   "metadata": {},
   "outputs": [],
   "source": [
    "autoencoder_complex.compile(optimizer='adam', loss='mse')"
   ]
  },
  {
   "cell_type": "markdown",
   "metadata": {},
   "source": [
    "#### 模組 - 訓練\n",
    "用完整圖片訓練，完整圖片比對"
   ]
  },
  {
   "cell_type": "code",
   "execution_count": null,
   "metadata": {},
   "outputs": [
    {
     "name": "stdout",
     "output_type": "stream",
     "text": [
      "Epoch 1/50\n",
      "60000/60000 [==============================] - 17s 275us/step - loss: 0.0797\n",
      "Epoch 2/50\n",
      "60000/60000 [==============================] - 12s 202us/step - loss: 0.0312\n",
      "Epoch 3/50\n",
      "60000/60000 [==============================] - 13s 218us/step - loss: 0.0247\n",
      "Epoch 4/50\n",
      "60000/60000 [==============================] - 10s 172us/step - loss: 0.0214\n",
      "Epoch 5/50\n",
      "60000/60000 [==============================] - 9s 158us/step - loss: 0.0194\n",
      "Epoch 6/50\n",
      "60000/60000 [==============================] - 10s 171us/step - loss: 0.0180\n",
      "Epoch 7/50\n",
      "60000/60000 [==============================] - 9s 152us/step - loss: 0.0169 0\n",
      "Epoch 8/50\n",
      "60000/60000 [==============================] - 11s 183us/step - loss: 0.0161\n",
      "Epoch 9/50\n",
      "60000/60000 [==============================] - 7s 121us/step - loss: 0.0154\n",
      "Epoch 10/50\n",
      "60000/60000 [==============================] - 6s 100us/step - loss: 0.0149\n",
      "Epoch 11/50\n",
      "60000/60000 [==============================] - 6s 101us/step - loss: 0.0144\n",
      "Epoch 12/50\n",
      "60000/60000 [==============================] - 6s 100us/step - loss: 0.0140\n",
      "Epoch 13/50\n",
      "60000/60000 [==============================] - 6s 100us/step - loss: 0.0138 0\n",
      "Epoch 14/50\n",
      "60000/60000 [==============================] - 6s 100us/step - loss: 0.0134\n",
      "Epoch 15/50\n",
      "60000/60000 [==============================] - 6s 100us/step - loss: 0.0131\n",
      "Epoch 16/50\n",
      "60000/60000 [==============================] - 6s 100us/step - loss: 0.0128\n",
      "Epoch 17/50\n",
      "60000/60000 [==============================] - 6s 100us/step - loss: 0.0126\n",
      "Epoch 18/50\n",
      "60000/60000 [==============================] - 6s 100us/step - loss: 0.0124\n",
      "Epoch 19/50\n",
      "60000/60000 [==============================] - 13s 220us/step - loss: 0.0123\n",
      "Epoch 20/50\n",
      "60000/60000 [==============================] - 7s 121us/step - loss: 0.0121 0s - loss: 0.012\n",
      "Epoch 21/50\n",
      "60000/60000 [==============================] - 14s 240us/step - loss: 0.0119\n",
      "Epoch 22/50\n",
      "60000/60000 [==============================] - 7s 124us/step - loss: 0.0118\n",
      "Epoch 23/50\n",
      "60000/60000 [==============================] - 13s 217us/step - loss: 0.0116\n",
      "Epoch 24/50\n",
      "60000/60000 [==============================] - 8s 135us/step - loss: 0.0115\n",
      "Epoch 25/50\n",
      "60000/60000 [==============================] - 12s 205us/step - loss: 0.0113\n",
      "Epoch 26/50\n",
      "60000/60000 [==============================] - 10s 160us/step - loss: 0.0113\n",
      "Epoch 27/50\n",
      "60000/60000 [==============================] - 10s 166us/step - loss: 0.0112\n",
      "Epoch 28/50\n",
      "60000/60000 [==============================] - 11s 192us/step - loss: 0.0110\n",
      "Epoch 29/50\n",
      "60000/60000 [==============================] - 10s 170us/step - loss: 0.0111\n",
      "Epoch 30/50\n",
      "60000/60000 [==============================] - 9s 150us/step - loss: 0.0109\n",
      "Epoch 31/50\n",
      "60000/60000 [==============================] - 11s 182us/step - loss: 0.0108\n",
      "Epoch 32/50\n",
      "60000/60000 [==============================] - 10s 159us/step - loss: 0.0107\n",
      "Epoch 33/50\n",
      "60000/60000 [==============================] - 9s 149us/step - loss: 0.0107\n",
      "Epoch 34/50\n",
      "60000/60000 [==============================] - 10s 162us/step - loss: 0.0106\n",
      "Epoch 35/50\n",
      "60000/60000 [==============================] - 9s 149us/step - loss: 0.0105\n",
      "Epoch 36/50\n",
      "60000/60000 [==============================] - 10s 160us/step - loss: 0.0105\n",
      "Epoch 37/50\n",
      "60000/60000 [==============================] - 9s 146us/step - loss: 0.0104\n",
      "Epoch 38/50\n",
      "60000/60000 [==============================] - 9s 158us/step - loss: 0.0104\n",
      "Epoch 39/50\n",
      "60000/60000 [==============================] - 9s 147us/step - loss: 0.0104\n",
      "Epoch 40/50\n",
      "60000/60000 [==============================] - 9s 152us/step - loss: 0.0102\n",
      "Epoch 41/50\n",
      "60000/60000 [==============================] - 9s 148us/step - loss: 0.0102\n",
      "Epoch 42/50\n",
      "60000/60000 [==============================] - 9s 148us/step - loss: 0.0101\n",
      "Epoch 43/50\n",
      "60000/60000 [==============================] - 9s 152us/step - loss: 0.0101\n",
      "Epoch 44/50\n",
      "60000/60000 [==============================] - 9s 157us/step - loss: 0.0100\n",
      "Epoch 45/50\n",
      "60000/60000 [==============================] - 9s 148us/step - loss: 0.0100\n",
      "Epoch 46/50\n",
      "60000/60000 [==============================] - 7s 117us/step - loss: 0.0099\n",
      "Epoch 47/50\n",
      " 2176/60000 [>.............................] - ETA: 6s - loss: 0.0099"
     ]
    }
   ],
   "source": [
    "history_complex = autoencoder_complex.fit(x_train_org, x_train_org, # 訓練資料、結果比對資料\n",
    "                    batch_size=batch_size, #\n",
    "                    epochs=epochs)"
   ]
  },
  {
   "cell_type": "markdown",
   "metadata": {},
   "source": [
    "#### 模組 - 儲存"
   ]
  },
  {
   "cell_type": "code",
   "execution_count": null,
   "metadata": {},
   "outputs": [],
   "source": [
    "model_name_complex = outputFolder + \"model_complex\"+\"e\"+str(epochs)+\"_b\"+str(batch_size) + \\\n",
    "                    \".h5\"\n",
    "#                     \"_\" + \"-\".join([str(i) for i in time.localtime()[0:5]]) +\\"
   ]
  },
  {
   "cell_type": "code",
   "execution_count": null,
   "metadata": {},
   "outputs": [],
   "source": [
    "autoencoder_complex.save(model_name_complex)"
   ]
  },
  {
   "cell_type": "raw",
   "metadata": {},
   "source": [
    "del autoencoder_complex"
   ]
  },
  {
   "cell_type": "markdown",
   "metadata": {},
   "source": [
    "#### 模組 - 使用與輸出"
   ]
  },
  {
   "cell_type": "raw",
   "metadata": {},
   "source": [
    "autoencoder_complex = load_model(model_name_complex)"
   ]
  },
  {
   "cell_type": "markdown",
   "metadata": {},
   "source": [
    "###### 測試資料讀取"
   ]
  },
  {
   "cell_type": "code",
   "execution_count": null,
   "metadata": {},
   "outputs": [],
   "source": [
    "dataSetName = \"mnist-pria-awgn_snr=10.npz\"\n",
    "f = np.load(dataSetName)\n",
    "x_train_noise, x_test_noise = f['x_train'], f['x_test']\n",
    "del f"
   ]
  },
  {
   "cell_type": "code",
   "execution_count": null,
   "metadata": {},
   "outputs": [],
   "source": [
    "decodeImg_test = autoencoder_complex.predict(x_test_noise)"
   ]
  },
  {
   "cell_type": "code",
   "execution_count": null,
   "metadata": {},
   "outputs": [],
   "source": [
    "decodeImg_test = DataRecovery(decodeImg_test)"
   ]
  },
  {
   "cell_type": "code",
   "execution_count": null,
   "metadata": {},
   "outputs": [],
   "source": [
    "ResultImgShow(decodeImg_test, model_name_complex, strImgLabel = \"AFTER\")"
   ]
  },
  {
   "cell_type": "code",
   "execution_count": null,
   "metadata": {},
   "outputs": [],
   "source": [
    "ResultImgShow(x_test_noise, model_name_complex, strImgLabel = \"BEFORE\")\n",
    "ResultImgShow(x_train_org, model_name_complex, strImgLabel = \"ORIGIN\")"
   ]
  },
  {
   "cell_type": "markdown",
   "metadata": {},
   "source": [
    "### 計算結果"
   ]
  },
  {
   "cell_type": "code",
   "execution_count": null,
   "metadata": {},
   "outputs": [],
   "source": [
    "PSNR_ALL(decodeImg_test, x_train_org, strImgLabel = \"TEST\")\n",
    "SSIM_ALL(decodeImg_test, x_train_org, strImgLabel = \"TEST\")"
   ]
  },
  {
   "cell_type": "markdown",
   "metadata": {},
   "source": [
    "###### 運行時間"
   ]
  },
  {
   "cell_type": "code",
   "execution_count": null,
   "metadata": {},
   "outputs": [],
   "source": [
    "_endTime = time.time()\n",
    "print(\"It cost\", _endTime - _startTime, \"sec.\")"
   ]
  }
 ],
 "metadata": {
  "kernelspec": {
   "display_name": "Python 3",
   "language": "python",
   "name": "python3"
  },
  "language_info": {
   "codemirror_mode": {
    "name": "ipython",
    "version": 3
   },
   "file_extension": ".py",
   "mimetype": "text/x-python",
   "name": "python",
   "nbconvert_exporter": "python",
   "pygments_lexer": "ipython3",
   "version": "3.6.5"
  }
 },
 "nbformat": 4,
 "nbformat_minor": 2
}
